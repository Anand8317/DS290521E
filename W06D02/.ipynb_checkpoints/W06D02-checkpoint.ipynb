{
 "cells": [
  {
   "cell_type": "code",
   "execution_count": null,
   "metadata": {},
   "outputs": [],
   "source": [
    "Revisioin:\n",
    "    \n",
    "what is re module?\n",
    "\n",
    "What is Regular Expression?\n",
    "\n",
    "String which contains some rules to match a pattern\n",
    "\n",
    "Metacharcter Chart\n",
    ". => every char\n",
    "[] => character class [0-9], [a-z], [A-Z],etc\n",
    "\n",
    "counting stuff\n",
    "{}\n",
    "{2}\n",
    "{3,5} 3,4 or 5 no of times\n",
    "\n",
    "Anchors:\n",
    "    ^ start of the string\n",
    "    $ end of the string\n",
    "    \n",
    "Quantifiers:\n",
    "    + => one or more occurence\n",
    "    * => 0 or more occurence\n",
    "    \n",
    "    ? => optional 0 or 1"
   ]
  },
  {
   "cell_type": "code",
   "execution_count": null,
   "metadata": {},
   "outputs": [],
   "source": [
    "# A string starting with 2 digit no and ending with m"
   ]
  },
  {
   "cell_type": "code",
   "execution_count": 1,
   "metadata": {},
   "outputs": [],
   "source": [
    "import re"
   ]
  },
  {
   "cell_type": "code",
   "execution_count": 2,
   "metadata": {},
   "outputs": [
    {
     "name": "stdout",
     "output_type": "stream",
     "text": [
      "<re.Match object; span=(0, 8), match='44applem'>\n",
      "None\n",
      "<re.Match object; span=(0, 9), match='33bananam'>\n"
     ]
    }
   ],
   "source": [
    "regx = '^[0-9]{2}.*m$'\n",
    "\n",
    "list_of_words = ['44applem','78mango','33bananam']\n",
    "\n",
    "for word in list_of_words:\n",
    "    print(re.search(regx,word))"
   ]
  },
  {
   "cell_type": "code",
   "execution_count": 5,
   "metadata": {},
   "outputs": [
    {
     "name": "stdout",
     "output_type": "stream",
     "text": [
      "<re.Match object; span=(0, 8), match='44applem'>\n",
      "None\n",
      "<re.Match object; span=(0, 9), match='33bananam'>\n",
      "<re.Match object; span=(0, 9), match='786mangom'>\n",
      "<re.Match object; span=(0, 13), match='4444Notobacom'>\n"
     ]
    }
   ],
   "source": [
    "regx = '^[0-9]{2,4}.*m$'\n",
    "\n",
    "list_of_words = ['44applem','78mango','33bananam','786mangom','4444Notobacom']\n",
    "\n",
    "for word in list_of_words:\n",
    "    print(re.search(regx,word))"
   ]
  },
  {
   "cell_type": "code",
   "execution_count": 6,
   "metadata": {},
   "outputs": [
    {
     "name": "stdout",
     "output_type": "stream",
     "text": [
      "<re.Match object; span=(0, 4), match='76tr'>\n",
      "<re.Match object; span=(0, 4), match='55ap'>\n"
     ]
    }
   ],
   "source": [
    "regx = '[0-9]{2}[a-z]{2}'\n",
    "\n",
    "list_of_words = ['76trAPPLE678mango','55apple66bananas']\n",
    "\n",
    "for word in list_of_words:\n",
    "    print(re.search(regx,word))"
   ]
  },
  {
   "cell_type": "code",
   "execution_count": 7,
   "metadata": {},
   "outputs": [
    {
     "name": "stdout",
     "output_type": "stream",
     "text": [
      "['76tr', '78ma']\n",
      "['55ap', '66ba']\n"
     ]
    }
   ],
   "source": [
    "regx = '[0-9]{2}[a-z]{2}'\n",
    "\n",
    "list_of_words = ['76trAPPLE678mango','55apple66bananas']\n",
    "\n",
    "for word in list_of_words:\n",
    "    print(re.findall(regx,word))"
   ]
  },
  {
   "cell_type": "code",
   "execution_count": 10,
   "metadata": {},
   "outputs": [],
   "source": [
    "regx = '^[0-9]?apple'\n",
    "\n",
    "Start of the string may contain a single digit number, no more than 1 digit\n",
    "followed by apple."
   ]
  },
  {
   "cell_type": "code",
   "execution_count": 11,
   "metadata": {},
   "outputs": [
    {
     "name": "stdout",
     "output_type": "stream",
     "text": [
      "<re.Match object; span=(0, 6), match='8apple'>\n",
      "None\n",
      "<re.Match object; span=(0, 5), match='apple'>\n",
      "None\n"
     ]
    }
   ],
   "source": [
    "list_of_words = ['8apple','88apple','apple','786apple']\n",
    "\n",
    "for word in list_of_words:\n",
    "    print(re.search(regx,word))"
   ]
  },
  {
   "cell_type": "markdown",
   "metadata": {},
   "source": [
    "# Map"
   ]
  },
  {
   "cell_type": "code",
   "execution_count": 13,
   "metadata": {},
   "outputs": [
    {
     "name": "stdout",
     "output_type": "stream",
     "text": [
      "[1, 4, 9]\n"
     ]
    }
   ],
   "source": [
    "def sqr(n):\n",
    "    return n**2\n",
    "\n",
    "list1 = [1,2,3]\n",
    "\n",
    "list2 = []\n",
    "\n",
    "for no in list1:\n",
    "    list2.append(sqr(no))\n",
    "    \n",
    "print(list2)"
   ]
  },
  {
   "cell_type": "code",
   "execution_count": null,
   "metadata": {},
   "outputs": [],
   "source": [
    "# Syntax of Map function\n",
    "\n",
    "list(map(fun_name,iterable_name))"
   ]
  },
  {
   "cell_type": "code",
   "execution_count": null,
   "metadata": {},
   "outputs": [],
   "source": [
    "def sqr(n):\n",
    "    return n**2"
   ]
  },
  {
   "cell_type": "code",
   "execution_count": 14,
   "metadata": {},
   "outputs": [
    {
     "data": {
      "text/plain": [
       "[1, 4, 9]"
      ]
     },
     "execution_count": 14,
     "metadata": {},
     "output_type": "execute_result"
    }
   ],
   "source": [
    "list(map(sqr,[1,2,3]))"
   ]
  },
  {
   "cell_type": "code",
   "execution_count": 15,
   "metadata": {},
   "outputs": [
    {
     "data": {
      "text/plain": [
       "[1, 4, 9]"
      ]
     },
     "execution_count": 15,
     "metadata": {},
     "output_type": "execute_result"
    }
   ],
   "source": [
    "list(map(sqr,list1))"
   ]
  },
  {
   "cell_type": "code",
   "execution_count": 16,
   "metadata": {},
   "outputs": [
    {
     "name": "stdout",
     "output_type": "stream",
     "text": [
      "[5, 5, 6, 4, 9]\n"
     ]
    }
   ],
   "source": [
    "fruits = ['apple','mango','banana','kiwi','pineapple']\n",
    "\n",
    "print(list(map(len,fruits)))"
   ]
  },
  {
   "cell_type": "code",
   "execution_count": 17,
   "metadata": {},
   "outputs": [
    {
     "name": "stdout",
     "output_type": "stream",
     "text": [
      "[6, 15]\n"
     ]
    }
   ],
   "source": [
    "fruits = [[1,2,3],[4,5,6]]\n",
    "\n",
    "print(list(map(sum,fruits)))"
   ]
  },
  {
   "cell_type": "code",
   "execution_count": 18,
   "metadata": {},
   "outputs": [
    {
     "data": {
      "text/plain": [
       "6"
      ]
     },
     "execution_count": 18,
     "metadata": {},
     "output_type": "execute_result"
    }
   ],
   "source": [
    "sum([1,2,3])"
   ]
  },
  {
   "cell_type": "code",
   "execution_count": 20,
   "metadata": {},
   "outputs": [
    {
     "data": {
      "text/plain": [
       "15"
      ]
     },
     "execution_count": 20,
     "metadata": {},
     "output_type": "execute_result"
    }
   ],
   "source": [
    "sum([4,5,6])"
   ]
  },
  {
   "cell_type": "code",
   "execution_count": 21,
   "metadata": {},
   "outputs": [
    {
     "name": "stdout",
     "output_type": "stream",
     "text": [
      "<map object at 0x066605E0>\n"
     ]
    }
   ],
   "source": [
    "fruits = ['apple','mango','banana','kiwi','pineapple']\n",
    "\n",
    "print(map(len,fruits))"
   ]
  },
  {
   "cell_type": "code",
   "execution_count": null,
   "metadata": {},
   "outputs": [],
   "source": [
    "map object is not readable by us, so we often typecaste it into list or other iterable."
   ]
  },
  {
   "cell_type": "code",
   "execution_count": 23,
   "metadata": {},
   "outputs": [
    {
     "name": "stdout",
     "output_type": "stream",
     "text": [
      "[269, 16]\n"
     ]
    }
   ],
   "source": [
    "print(list(map(sum,[(44,225),(1,2,5,3,5)])))\n"
   ]
  },
  {
   "cell_type": "code",
   "execution_count": 24,
   "metadata": {},
   "outputs": [],
   "source": [
    "def fun(string):\n",
    "    return 'python' + string"
   ]
  },
  {
   "cell_type": "code",
   "execution_count": 25,
   "metadata": {},
   "outputs": [
    {
     "data": {
      "text/plain": [
       "['python3', 'python4', 'python5']"
      ]
     },
     "execution_count": 25,
     "metadata": {},
     "output_type": "execute_result"
    }
   ],
   "source": [
    "list(map(fun,['3','4','5']))"
   ]
  },
  {
   "cell_type": "code",
   "execution_count": 26,
   "metadata": {},
   "outputs": [],
   "source": [
    "def fun2(a):\n",
    "    return ('Hello',a)"
   ]
  },
  {
   "cell_type": "code",
   "execution_count": 27,
   "metadata": {},
   "outputs": [
    {
     "data": {
      "text/plain": [
       "[('Hello', 'Krishna'),\n",
       " ('Hello', 'Mohit'),\n",
       " ('Hello', 'Siddharth'),\n",
       " ('Hello', 'Bigyanshu')]"
      ]
     },
     "execution_count": 27,
     "metadata": {},
     "output_type": "execute_result"
    }
   ],
   "source": [
    "list(map(fun2,['Krishna','Mohit','Siddharth','Bigyanshu']))"
   ]
  },
  {
   "cell_type": "code",
   "execution_count": 28,
   "metadata": {},
   "outputs": [
    {
     "name": "stdout",
     "output_type": "stream",
     "text": [
      "{'python': 3, 'java': 8, 'c++': 14}\n"
     ]
    }
   ],
   "source": [
    "x = [('python',3),('java',8),('c++',14)]\n",
    "\n",
    "y = dict(x)\n",
    "\n",
    "print(y)"
   ]
  },
  {
   "cell_type": "code",
   "execution_count": 31,
   "metadata": {},
   "outputs": [],
   "source": [
    "def fun3(a):\n",
    "    if a == 'python':\n",
    "        return ('python',3)\n",
    "    elif a == 'java':\n",
    "        return ('java',8)\n",
    "    else:\n",
    "        return ('c++',14)"
   ]
  },
  {
   "cell_type": "code",
   "execution_count": 32,
   "metadata": {},
   "outputs": [
    {
     "data": {
      "text/plain": [
       "{'python': 3, 'java': 8, 'c++': 14}"
      ]
     },
     "execution_count": 32,
     "metadata": {},
     "output_type": "execute_result"
    }
   ],
   "source": [
    "dict(map(fun3,['python','java','c++']))"
   ]
  },
  {
   "cell_type": "code",
   "execution_count": null,
   "metadata": {},
   "outputs": [],
   "source": [
    "Question:\n",
    "    Use map to get these results for the correpsonding items in the list:\n",
    "        'potato' => 'gold'\n",
    "        'harpic' => 'hussain'\n",
    "        other cases => 'getlucky'\n",
    "        \n",
    "    for example:\n",
    "        ['potato','harpic','potato','magic','krishnakant']\n",
    "    output = ['gold','hussain','gold','getlucky','getlucky']"
   ]
  },
  {
   "cell_type": "code",
   "execution_count": 33,
   "metadata": {},
   "outputs": [
    {
     "name": "stdout",
     "output_type": "stream",
     "text": [
      "['gold', 'hussain', 'gold', 'getlucky', 'getlucky']\n"
     ]
    }
   ],
   "source": [
    "def check(a):\n",
    "    if a == 'potato':\n",
    "        return 'gold'\n",
    "    elif a == 'harpic':\n",
    "        return 'hussain'\n",
    "    else:\n",
    "        return 'getlucky'\n",
    "    \n",
    "list1 = ['potato','harpic','potato','magic','krishnakant']\n",
    "\n",
    "print(list(map(check,list1)))"
   ]
  },
  {
   "cell_type": "code",
   "execution_count": 34,
   "metadata": {},
   "outputs": [],
   "source": [
    "string1 = 'The quick brown fox jumps over a lazy dog'\n",
    "\n",
    "# print length of each word using map"
   ]
  },
  {
   "cell_type": "code",
   "execution_count": 37,
   "metadata": {},
   "outputs": [
    {
     "data": {
      "text/plain": [
       "['The', 'quick', 'brown', 'fox', 'jumps', 'over', 'a', 'lazy', 'dog']"
      ]
     },
     "execution_count": 37,
     "metadata": {},
     "output_type": "execute_result"
    }
   ],
   "source": [
    "string1.split()"
   ]
  },
  {
   "cell_type": "code",
   "execution_count": 41,
   "metadata": {},
   "outputs": [
    {
     "data": {
      "text/plain": [
       "[3, 5, 5, 3, 5, 4, 1, 4, 3]"
      ]
     },
     "execution_count": 41,
     "metadata": {},
     "output_type": "execute_result"
    }
   ],
   "source": [
    "list(map(len,string1.split()))"
   ]
  },
  {
   "cell_type": "markdown",
   "metadata": {},
   "source": [
    "# How to take multiple int inputs from user in a single line"
   ]
  },
  {
   "cell_type": "code",
   "execution_count": 42,
   "metadata": {},
   "outputs": [
    {
     "name": "stdout",
     "output_type": "stream",
     "text": [
      "22\n",
      "33\n",
      "44\n",
      "78\n"
     ]
    }
   ],
   "source": [
    "x = ['22','33','44','78']\n",
    "for no in x:\n",
    "    print(int(no))\n",
    "y = [22,33,44,78]"
   ]
  },
  {
   "cell_type": "code",
   "execution_count": 43,
   "metadata": {},
   "outputs": [
    {
     "data": {
      "text/plain": [
       "[22, 33, 44, 78]"
      ]
     },
     "execution_count": 43,
     "metadata": {},
     "output_type": "execute_result"
    }
   ],
   "source": [
    "list(map(int,x))"
   ]
  },
  {
   "cell_type": "code",
   "execution_count": null,
   "metadata": {},
   "outputs": [],
   "source": [
    "'22 33 44 78' => ['22','33','44','78']?\n"
   ]
  },
  {
   "cell_type": "code",
   "execution_count": 44,
   "metadata": {},
   "outputs": [
    {
     "data": {
      "text/plain": [
       "['22', '33', '44', '78']"
      ]
     },
     "execution_count": 44,
     "metadata": {},
     "output_type": "execute_result"
    }
   ],
   "source": [
    "'22 33 44 78'.split()"
   ]
  },
  {
   "cell_type": "code",
   "execution_count": 46,
   "metadata": {},
   "outputs": [
    {
     "name": "stdout",
     "output_type": "stream",
     "text": [
      "22 33 44 55\n",
      "['22', '33', '44', '55'] <class 'str'>\n"
     ]
    }
   ],
   "source": [
    "# Whenever we take input it is taken as a string.\n",
    "\n",
    "x = input()\n",
    "\n",
    "print(x.split(),type(x))"
   ]
  },
  {
   "cell_type": "code",
   "execution_count": 47,
   "metadata": {},
   "outputs": [
    {
     "name": "stdout",
     "output_type": "stream",
     "text": [
      "22 33 44 55\n"
     ]
    },
    {
     "data": {
      "text/plain": [
       "[22, 33, 44, 55]"
      ]
     },
     "execution_count": 47,
     "metadata": {},
     "output_type": "execute_result"
    }
   ],
   "source": [
    "list(map(int,input().split()))"
   ]
  },
  {
   "cell_type": "code",
   "execution_count": null,
   "metadata": {},
   "outputs": [],
   "source": [
    "list(map(fun_name,iterable))\n",
    "\n",
    "fun_name = int which changes a numeric string into an integer\n",
    "iterable = input().split()"
   ]
  },
  {
   "cell_type": "code",
   "execution_count": 49,
   "metadata": {},
   "outputs": [
    {
     "name": "stdout",
     "output_type": "stream",
     "text": [
      "22 33 44 78\n"
     ]
    },
    {
     "data": {
      "text/plain": [
       "['22', '33', '44', '78']"
      ]
     },
     "execution_count": 49,
     "metadata": {},
     "output_type": "execute_result"
    }
   ],
   "source": [
    "input().split()"
   ]
  },
  {
   "cell_type": "markdown",
   "metadata": {},
   "source": [
    "# FILTER"
   ]
  },
  {
   "cell_type": "code",
   "execution_count": null,
   "metadata": {},
   "outputs": [],
   "source": [
    "filter(fun_name,iterable)\n",
    "\n",
    "stores elements which returns True/True equivalents by the fun_name()."
   ]
  },
  {
   "cell_type": "code",
   "execution_count": 51,
   "metadata": {},
   "outputs": [
    {
     "name": "stdout",
     "output_type": "stream",
     "text": [
      "[2, 4]\n"
     ]
    }
   ],
   "source": [
    "def even(n):\n",
    "    if n%2==0:\n",
    "        return True\n",
    "    return False\n",
    "\n",
    "print(list(filter(even,[1,2,3,4,5])))"
   ]
  },
  {
   "cell_type": "code",
   "execution_count": 2,
   "metadata": {},
   "outputs": [],
   "source": [
    "list1 = ['python','java','perl','panorama','game']\n",
    "\n",
    "output1 = ['python','perl','panorama']\n",
    "\n",
    "# Solve it using filter so that we have final list which contains elements \n",
    "# starting with p."
   ]
  },
  {
   "cell_type": "code",
   "execution_count": 54,
   "metadata": {},
   "outputs": [],
   "source": [
    "def filter_names_starting_with_p(string1):\n",
    "    if string1[0] == 'p':\n",
    "        return True\n",
    "    return False"
   ]
  },
  {
   "cell_type": "code",
   "execution_count": 56,
   "metadata": {},
   "outputs": [
    {
     "data": {
      "text/plain": [
       "['python', 'perl', 'panorama']"
      ]
     },
     "execution_count": 56,
     "metadata": {},
     "output_type": "execute_result"
    }
   ],
   "source": [
    "list(filter(filter_names_starting_with_p,list1))"
   ]
  },
  {
   "cell_type": "code",
   "execution_count": 57,
   "metadata": {},
   "outputs": [
    {
     "data": {
      "text/plain": [
       "['python', 'perl', 'panorama']"
      ]
     },
     "execution_count": 57,
     "metadata": {},
     "output_type": "execute_result"
    }
   ],
   "source": [
    "def filter_names_starting_with_p(string1):\n",
    "    if string1[0] == 'p':\n",
    "        return 'mango'\n",
    "\n",
    "list(filter(filter_names_starting_with_p,list1))"
   ]
  },
  {
   "cell_type": "code",
   "execution_count": 3,
   "metadata": {},
   "outputs": [
    {
     "data": {
      "text/plain": [
       "['python', 'perl', 'panorama']"
      ]
     },
     "execution_count": 3,
     "metadata": {},
     "output_type": "execute_result"
    }
   ],
   "source": [
    "def filter_names_starting_with_p(string1):\n",
    "    if string1[0] == 'p':\n",
    "        return 'mango'\n",
    "\n",
    "list(filter(filter_names_starting_with_p,list1))"
   ]
  },
  {
   "cell_type": "code",
   "execution_count": null,
   "metadata": {},
   "outputs": [],
   "source": [
    "Homework Question:\n",
    "    filter out the word which contains vowels"
   ]
  },
  {
   "cell_type": "code",
   "execution_count": null,
   "metadata": {},
   "outputs": [],
   "source": [
    "lambda expression: one line function\n",
    "they can take multiple inputs, but return only 1 output.\n",
    "lambda functions\n",
    "anonymours functions."
   ]
  },
  {
   "cell_type": "code",
   "execution_count": null,
   "metadata": {},
   "outputs": [],
   "source": [
    "Syntax\n",
    "lambda input1,input2,... : output"
   ]
  },
  {
   "cell_type": "code",
   "execution_count": 4,
   "metadata": {},
   "outputs": [],
   "source": [
    "fun1 = lambda x:x%2==0"
   ]
  },
  {
   "cell_type": "code",
   "execution_count": 5,
   "metadata": {},
   "outputs": [
    {
     "data": {
      "text/plain": [
       "True"
      ]
     },
     "execution_count": 5,
     "metadata": {},
     "output_type": "execute_result"
    }
   ],
   "source": [
    "fun1(4)"
   ]
  },
  {
   "cell_type": "code",
   "execution_count": 6,
   "metadata": {},
   "outputs": [
    {
     "data": {
      "text/plain": [
       "False"
      ]
     },
     "execution_count": 6,
     "metadata": {},
     "output_type": "execute_result"
    }
   ],
   "source": [
    "fun1(3)"
   ]
  },
  {
   "cell_type": "code",
   "execution_count": 7,
   "metadata": {},
   "outputs": [],
   "source": [
    "fun2 = lambda a:a+2"
   ]
  },
  {
   "cell_type": "code",
   "execution_count": 8,
   "metadata": {},
   "outputs": [
    {
     "data": {
      "text/plain": [
       "7"
      ]
     },
     "execution_count": 8,
     "metadata": {},
     "output_type": "execute_result"
    }
   ],
   "source": [
    "fun2(5)"
   ]
  },
  {
   "cell_type": "code",
   "execution_count": 9,
   "metadata": {},
   "outputs": [
    {
     "data": {
      "text/plain": [
       "5"
      ]
     },
     "execution_count": 9,
     "metadata": {},
     "output_type": "execute_result"
    }
   ],
   "source": [
    "fun2(3)"
   ]
  },
  {
   "cell_type": "code",
   "execution_count": 10,
   "metadata": {},
   "outputs": [
    {
     "data": {
      "text/plain": [
       "402"
      ]
     },
     "execution_count": 10,
     "metadata": {},
     "output_type": "execute_result"
    }
   ],
   "source": [
    "fun2(400)"
   ]
  },
  {
   "cell_type": "code",
   "execution_count": 11,
   "metadata": {},
   "outputs": [],
   "source": [
    "fun3 = lambda a,b:a+b"
   ]
  },
  {
   "cell_type": "code",
   "execution_count": 12,
   "metadata": {},
   "outputs": [
    {
     "data": {
      "text/plain": [
       "5"
      ]
     },
     "execution_count": 12,
     "metadata": {},
     "output_type": "execute_result"
    }
   ],
   "source": [
    "fun3(2,3)"
   ]
  },
  {
   "cell_type": "code",
   "execution_count": 13,
   "metadata": {},
   "outputs": [
    {
     "data": {
      "text/plain": [
       "9"
      ]
     },
     "execution_count": 13,
     "metadata": {},
     "output_type": "execute_result"
    }
   ],
   "source": [
    "fun3(4,5)"
   ]
  },
  {
   "cell_type": "code",
   "execution_count": 14,
   "metadata": {},
   "outputs": [
    {
     "data": {
      "text/plain": [
       "13"
      ]
     },
     "execution_count": 14,
     "metadata": {},
     "output_type": "execute_result"
    }
   ],
   "source": [
    "fun3(6,7)"
   ]
  },
  {
   "cell_type": "code",
   "execution_count": 15,
   "metadata": {},
   "outputs": [
    {
     "data": {
      "text/plain": [
       "[2, 4, 6]"
      ]
     },
     "execution_count": 15,
     "metadata": {},
     "output_type": "execute_result"
    }
   ],
   "source": [
    "list(filter(lambda x:x%2==0,[1,2,3,4,5,6,7]))"
   ]
  },
  {
   "cell_type": "code",
   "execution_count": null,
   "metadata": {},
   "outputs": [],
   "source": [
    "Homework: How it is working??"
   ]
  }
 ],
 "metadata": {
  "kernelspec": {
   "display_name": "Python 3",
   "language": "python",
   "name": "python3"
  },
  "language_info": {
   "codemirror_mode": {
    "name": "ipython",
    "version": 3
   },
   "file_extension": ".py",
   "mimetype": "text/x-python",
   "name": "python",
   "nbconvert_exporter": "python",
   "pygments_lexer": "ipython3",
   "version": "3.8.3"
  }
 },
 "nbformat": 4,
 "nbformat_minor": 4
}
