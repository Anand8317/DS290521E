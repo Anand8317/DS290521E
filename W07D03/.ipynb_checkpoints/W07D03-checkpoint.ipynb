{
 "cells": [
  {
   "cell_type": "code",
   "execution_count": null,
   "metadata": {},
   "outputs": [],
   "source": [
    "class library:\n",
    "    list_of_books = ['Wings and Fire','Harry Potter','Gulliver’s Travels','Alice’s Adventures in Wonderland','The Call of the Wild']\n",
    "    book_issued = []\n",
    "    \n",
    "    def book_issue(self,book_name_issue,student_Id):\n",
    "        self.book_name_issue = book_name_issue\n",
    "        self.student_Id = student_Id\n",
    "        if self.book_name_issue not in library.book_issued:\n",
    "            print('{} issued to student Id {}'.format(self.book_name_issue,self.student_Id))\n",
    "            library.book_issued.append(self.book_name_issue)\n",
    "        else:\n",
    "            print('book is already issued')\n",
    "    def book_return(self,book_name_return):\n",
    "        self.book_name_return = book_name_return\n",
    "        if self.book_name_return in library.book_issued:\n",
    "            print('book is returned')\n",
    "            library.book_issued.remove(self.book_name_return)\n",
    "        else:\n",
    "            print('this is wrong book')\n",
    "\n",
    "    def book_search(self,book_name_search):\n",
    "        self.book_name_search = book_name_search\n",
    "        if self.book_name_search in library.list_of_books:\n",
    "            print('book is available in library')\n",
    "        else:\n",
    "            print('book is not available in library')"
   ]
  }
 ],
 "metadata": {
  "kernelspec": {
   "display_name": "Python 3",
   "language": "python",
   "name": "python3"
  },
  "language_info": {
   "codemirror_mode": {
    "name": "ipython",
    "version": 3
   },
   "file_extension": ".py",
   "mimetype": "text/x-python",
   "name": "python",
   "nbconvert_exporter": "python",
   "pygments_lexer": "ipython3",
   "version": "3.8.3"
  }
 },
 "nbformat": 4,
 "nbformat_minor": 4
}
