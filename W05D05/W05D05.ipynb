{
 "cells": [
  {
   "cell_type": "code",
   "execution_count": 2,
   "metadata": {},
   "outputs": [],
   "source": [
    "Revision:\n",
    "    Data Types Immutable:\n",
    "        tuple\n",
    "        str\n",
    "        int\n",
    "        float\n",
    "        boolean\n",
    "        None\n",
    "        \n",
    "    Data Type Mutable:\n",
    "        set\n",
    "        dict\n",
    "        list\n",
    "        \n",
    "    Data Types Iterables:\n",
    "        list\n",
    "        dict\n",
    "        set\n",
    "        str\n",
    "        tuple\n",
    "    \n",
    "    Data Types Non Iterable:\n",
    "        bool\n",
    "        int\n",
    "        float\n",
    "        None\n",
    "        \n",
    "    Operators:\n",
    "        Arithmentic Operators (+,-,*,%,/,//,**)\n",
    "        Comparison Operators (=,<=,>=,>,<,!=) Output:bool\n",
    "        Logical (and,or,not) Output:bool\n",
    "        Membership Operators(in,not in) Output:bool\n",
    "        Identity Operators(is,is not) Output:bool\n",
    "        Assignment Operators (=,+=,-=)\n",
    "        \n",
    "    truthy = truth equivalents = any number other than 0,0.0 , where data is present.\n",
    "    if boolean:\n",
    "        print('boolean is True')\n",
    "        if boolean_2:\n",
    "            print('boolean_2 is True')\n",
    "        else:\n",
    "            print('boolean_2 is False')\n",
    "    else:\n",
    "        print('boolean is False')\n",
    "    \n",
    "    if boolean:\n",
    "        statement\n",
    "    elif boolean_2:\n",
    "        statement_2\n",
    "    else:\n",
    "        statement3\n",
    "        \n",
    "    falsy = [],None,{},'',etc\n",
    "    \n",
    "    for var_name in iterable:\n",
    "        statements\n",
    "    while boolean:\n",
    "        statements\n",
    "        \n",
    "    def function1(parameter1,parameter2):\n",
    "        statements\n",
    "        statements\n",
    "    Note: if you don't use a return statement, python automatically adds return None to  the fun.\n",
    "    \n",
    "    function1(2,3)\n",
    "    print('some of my workd')\n",
    "    function1(4,5)\n",
    "    \n",
    "    Modules and Packages\n",
    "    How do you import a module?\n",
    "    import module_name\n",
    "    How do you import everything from a module?\n",
    "    form module_name import *\n",
    "    How do you import a specific fun form module?\n",
    "    from module_name import fun_name\n",
    "    What is locals()?\n",
    "    locals() is a builtin function which returns a dict of local Variables and their corresponding \n",
    "    values.\n",
    "    \n",
    "    How do you import a package?\n",
    "    If you want to import a module1 from a package=> form package_name import module1\n",
    "    What is you want to import 4-5 different modules?\n",
    "    from package import *\n",
    "    __init__.py\n",
    "        __all__ = ['mod1','mod2','mod3','mod4','mod5']\n",
    "    \n",
    "    "
   ]
  },
  {
   "cell_type": "code",
   "execution_count": 3,
   "metadata": {},
   "outputs": [
    {
     "data": {
      "text/plain": [
       "2.5"
      ]
     },
     "execution_count": 3,
     "metadata": {},
     "output_type": "execute_result"
    }
   ],
   "source": [
    "5/2"
   ]
  },
  {
   "cell_type": "code",
   "execution_count": 4,
   "metadata": {},
   "outputs": [
    {
     "data": {
      "text/plain": [
       "2"
      ]
     },
     "execution_count": 4,
     "metadata": {},
     "output_type": "execute_result"
    }
   ],
   "source": [
    "5//2 # This is floor division."
   ]
  },
  {
   "cell_type": "code",
   "execution_count": 5,
   "metadata": {},
   "outputs": [
    {
     "name": "stdout",
     "output_type": "stream",
     "text": [
      "9\n"
     ]
    }
   ],
   "source": [
    "a = 5\n",
    "a+=4 # a = a+4\n",
    "print(a)"
   ]
  },
  {
   "cell_type": "code",
   "execution_count": 6,
   "metadata": {},
   "outputs": [
    {
     "data": {
      "text/plain": [
       "True"
      ]
     },
     "execution_count": 6,
     "metadata": {},
     "output_type": "execute_result"
    }
   ],
   "source": [
    "bool(' ')"
   ]
  },
  {
   "cell_type": "code",
   "execution_count": 7,
   "metadata": {},
   "outputs": [
    {
     "data": {
      "text/plain": [
       "False"
      ]
     },
     "execution_count": 7,
     "metadata": {},
     "output_type": "execute_result"
    }
   ],
   "source": [
    "bool('')"
   ]
  },
  {
   "cell_type": "code",
   "execution_count": 8,
   "metadata": {},
   "outputs": [
    {
     "data": {
      "text/plain": [
       "False"
      ]
     },
     "execution_count": 8,
     "metadata": {},
     "output_type": "execute_result"
    }
   ],
   "source": [
    "bool([])"
   ]
  },
  {
   "cell_type": "code",
   "execution_count": 9,
   "metadata": {},
   "outputs": [
    {
     "data": {
      "text/plain": [
       "False"
      ]
     },
     "execution_count": 9,
     "metadata": {},
     "output_type": "execute_result"
    }
   ],
   "source": [
    "bool({})"
   ]
  },
  {
   "cell_type": "code",
   "execution_count": 10,
   "metadata": {},
   "outputs": [
    {
     "data": {
      "text/plain": [
       "False"
      ]
     },
     "execution_count": 10,
     "metadata": {},
     "output_type": "execute_result"
    }
   ],
   "source": [
    "bool(None)"
   ]
  },
  {
   "cell_type": "code",
   "execution_count": 11,
   "metadata": {},
   "outputs": [
    {
     "data": {
      "text/plain": [
       "False"
      ]
     },
     "execution_count": 11,
     "metadata": {},
     "output_type": "execute_result"
    }
   ],
   "source": [
    "bool(0.0)"
   ]
  },
  {
   "cell_type": "code",
   "execution_count": 12,
   "metadata": {},
   "outputs": [
    {
     "data": {
      "text/plain": [
       "False"
      ]
     },
     "execution_count": 12,
     "metadata": {},
     "output_type": "execute_result"
    }
   ],
   "source": [
    "bool(0)"
   ]
  },
  {
   "cell_type": "code",
   "execution_count": 22,
   "metadata": {},
   "outputs": [
    {
     "name": "stdout",
     "output_type": "stream",
     "text": [
      "python 3\n",
      "java 8\n",
      "numpy 1\n"
     ]
    }
   ],
   "source": [
    "dict1 = {'python':3,'java':8,'numpy':1}\n",
    "\n",
    "for sid in dict1.items():\n",
    "    print(sid[0],sid[1])"
   ]
  },
  {
   "cell_type": "code",
   "execution_count": 23,
   "metadata": {},
   "outputs": [
    {
     "data": {
      "text/plain": [
       "dict_items([('python', 3), ('java', 8), ('numpy', 1)])"
      ]
     },
     "execution_count": 23,
     "metadata": {},
     "output_type": "execute_result"
    }
   ],
   "source": [
    "dict1.items()"
   ]
  },
  {
   "cell_type": "code",
   "execution_count": null,
   "metadata": {},
   "outputs": [],
   "source": [
    "## Regular Expression\n",
    "\n",
    "What is Regular Expression?\n",
    "It is a String containing some rules to match or define particular pattern.\n",
    "Everything around Regular Expression is put inside a module named as re."
   ]
  },
  {
   "cell_type": "code",
   "execution_count": null,
   "metadata": {},
   "outputs": [],
   "source": [
    "->Application of re\n",
    "# Pattern Validation\n",
    "# Pattern Extraction\n",
    "# String matching and finding"
   ]
  },
  {
   "cell_type": "code",
   "execution_count": null,
   "metadata": {},
   "outputs": [],
   "source": [
    "Metacharacters:\n",
    "    . (dot) => Matches with all the characters (alpabhets,digits,special chars,etc..)\n",
    "    except the newline char ('\\n')\n",
    "    (matches a single occurence)\n",
    "    \n",
    "    [] Character Class: Rrepresents a set of chars.\n",
    "    A single character class mathces a single occurence.\n",
    "    '[aeiou]' => It will try to search for any one of the vowel if present\n",
    "    '[abc]' => it will only search for a,b,c\n",
    "    '[$ab%123]'\n",
    "    \n",
    "    '[a-z]' => Match anything from lowercase alphabets\n",
    "    '[A-Z]' => Match anything from uppercase alphabets\n",
    "    '[0-9]' => Match anything from digits 0-9\n",
    "    '[a-zA-z]' => uppercase as well as lowercase alphabets.\n",
    "    \n",
    "    {} Counting Stuff\n",
    "    [0-9]{2} => 2 digit number\n",
    "    [a-z]{3} => 3 lowercase alphabets\n",
    "    [a-zA-Z]{5} => combination of upper and lower exactly 5 times.\n",
    "    [0-9]{3,5} => 3,4,5 digit number"
   ]
  },
  {
   "cell_type": "code",
   "execution_count": 24,
   "metadata": {},
   "outputs": [],
   "source": [
    "import re"
   ]
  },
  {
   "cell_type": "code",
   "execution_count": null,
   "metadata": {},
   "outputs": [],
   "source": [
    "re.search(regx,String in which you want to search that regx)\n",
    "\n",
    "re.search matches the first pattern according to the the regx inside the stirng and returns\n",
    "a match object."
   ]
  },
  {
   "cell_type": "code",
   "execution_count": 43,
   "metadata": {},
   "outputs": [
    {
     "name": "stdout",
     "output_type": "stream",
     "text": [
      "<re.Match object; span=(0, 1), match='#'>\n"
     ]
    }
   ],
   "source": [
    "string1 = '#1gourav'\n",
    "regx = '.'\n",
    "\n",
    "match_obj = re.search(regx,string1)\n",
    "print(match_obj)"
   ]
  },
  {
   "cell_type": "code",
   "execution_count": 28,
   "metadata": {},
   "outputs": [
    {
     "data": {
      "text/plain": [
       "0"
      ]
     },
     "execution_count": 28,
     "metadata": {},
     "output_type": "execute_result"
    }
   ],
   "source": [
    "match_obj.span()[0]"
   ]
  },
  {
   "cell_type": "code",
   "execution_count": 29,
   "metadata": {},
   "outputs": [
    {
     "data": {
      "text/plain": [
       "1"
      ]
     },
     "execution_count": 29,
     "metadata": {},
     "output_type": "execute_result"
    }
   ],
   "source": [
    "match_obj.span()[1]"
   ]
  },
  {
   "cell_type": "code",
   "execution_count": 38,
   "metadata": {},
   "outputs": [
    {
     "name": "stdout",
     "output_type": "stream",
     "text": [
      "<re.Match object; span=(2, 4), match='ur'>\n"
     ]
    }
   ],
   "source": [
    "string1 = 'gouravur'\n",
    "regx = 'ur'\n",
    "\n",
    "match_obj = re.search(regx,string1)\n",
    "\n",
    "print(match_obj)"
   ]
  },
  {
   "cell_type": "code",
   "execution_count": 41,
   "metadata": {},
   "outputs": [
    {
     "name": "stdout",
     "output_type": "stream",
     "text": [
      "(2, 4)\n",
      "2\n",
      "4\n"
     ]
    }
   ],
   "source": [
    "tuple1 = match_obj.span()\n",
    "\n",
    "print(tuple1)\n",
    "print(tuple1[0])\n",
    "print(tuple1[1])"
   ]
  },
  {
   "cell_type": "code",
   "execution_count": 35,
   "metadata": {},
   "outputs": [
    {
     "data": {
      "text/plain": [
       "4"
      ]
     },
     "execution_count": 35,
     "metadata": {},
     "output_type": "execute_result"
    }
   ],
   "source": [
    "match_obj.span()[1]"
   ]
  },
  {
   "cell_type": "code",
   "execution_count": 36,
   "metadata": {},
   "outputs": [
    {
     "data": {
      "text/plain": [
       "'ur'"
      ]
     },
     "execution_count": 36,
     "metadata": {},
     "output_type": "execute_result"
    }
   ],
   "source": [
    "string1[match_obj.span()[0]:match_obj.span()[1]]"
   ]
  },
  {
   "cell_type": "code",
   "execution_count": 50,
   "metadata": {},
   "outputs": [
    {
     "name": "stdout",
     "output_type": "stream",
     "text": [
      "<re.Match object; span=(0, 1), match='a'>\n",
      "<re.Match object; span=(1, 2), match='a'>\n",
      "<re.Match object; span=(1, 2), match='a'>\n",
      "<re.Match object; span=(1, 2), match='a'>\n",
      "<re.Match object; span=(1, 2), match='a'>\n",
      "<re.Match object; span=(0, 1), match='a'>\n",
      "<re.Match object; span=(1, 2), match='i'>\n",
      "<re.Match object; span=(1, 2), match='i'>\n",
      "<re.Match object; span=(0, 1), match='e'>\n",
      "<re.Match object; span=(0, 1), match='u'>\n"
     ]
    }
   ],
   "source": [
    "list_of_words = ['apple','mango','banana','cake','raspberry pi 2.0','arduno','kiwi','pineapple','emily','umbrella']\n",
    "\n",
    "for word in list_of_words:\n",
    "    print(re.search('[eioua]',word))"
   ]
  },
  {
   "cell_type": "code",
   "execution_count": 59,
   "metadata": {},
   "outputs": [
    {
     "name": "stdout",
     "output_type": "stream",
     "text": [
      "<re.Match object; span=(0, 1), match='a'>\n",
      "<re.Match object; span=(1, 2), match='a'>\n",
      "<re.Match object; span=(0, 1), match='$'>\n",
      "<re.Match object; span=(1, 2), match='a'>\n",
      "<re.Match object; span=(1, 2), match='a'>\n",
      "<re.Match object; span=(0, 1), match='a'>\n",
      "None\n",
      "<re.Match object; span=(4, 5), match='a'>\n",
      "<re.Match object; span=(1, 2), match='1'>\n",
      "<re.Match object; span=(2, 3), match='b'>\n",
      "<re.Match object; span=(0, 1), match='b'>\n"
     ]
    }
   ],
   "source": [
    "list_of_words = ['apple','mango','$banana','cake','raspberry pi 2.0','arduno','kiwi','pineapple','e123mily','umbrella','b%123']\n",
    "\n",
    "for word in list_of_words:\n",
    "    print(re.search('[$ab%123]',word))"
   ]
  },
  {
   "cell_type": "code",
   "execution_count": 65,
   "metadata": {},
   "outputs": [
    {
     "name": "stdout",
     "output_type": "stream",
     "text": [
      "<re.Match object; span=(0, 1), match='a'>\n",
      "None\n",
      "<re.Match object; span=(1, 2), match='i'>\n",
      "<re.Match object; span=(2, 3), match='i'>\n",
      "<re.Match object; span=(3, 4), match='a'>\n",
      "<re.Match object; span=(4, 5), match='l'>\n",
      "None\n",
      "None\n"
     ]
    }
   ],
   "source": [
    "list_of_words = ['apple','MANGO','Kiwi123','@Pineapple','24Mango','786Alfaz','1234','!@##$%']\n",
    "\n",
    "for word in list_of_words:\n",
    "    print(re.search('[a-z]',word))"
   ]
  },
  {
   "cell_type": "code",
   "execution_count": 66,
   "metadata": {},
   "outputs": [
    {
     "name": "stdout",
     "output_type": "stream",
     "text": [
      "<re.Match object; span=(1, 2), match='p'>\n",
      "None\n",
      "<re.Match object; span=(2, 3), match='w'>\n",
      "<re.Match object; span=(3, 4), match='n'>\n",
      "<re.Match object; span=(4, 5), match='n'>\n",
      "<re.Match object; span=(7, 8), match='z'>\n",
      "None\n",
      "None\n"
     ]
    }
   ],
   "source": [
    "list_of_words = ['apple','MANGO','Kiwi123','@Pineapple','24Mango','786Alfaz','1234','!@##$%']\n",
    "\n",
    "for word in list_of_words:\n",
    "    print(re.search('[m-z]',word))"
   ]
  },
  {
   "cell_type": "code",
   "execution_count": 69,
   "metadata": {},
   "outputs": [
    {
     "name": "stdout",
     "output_type": "stream",
     "text": [
      "<re.Match object; span=(0, 3), match='app'>\n",
      "None\n",
      "None\n",
      "<re.Match object; span=(5, 8), match='app'>\n",
      "None\n",
      "None\n",
      "None\n",
      "None\n"
     ]
    }
   ],
   "source": [
    "list_of_words = ['apple','MANGO','Kiwi123','@Pineapple','24Mango','786Alfaz','1234','!@##$%']\n",
    "\n",
    "for word in list_of_words:\n",
    "    print(re.search('app',word))"
   ]
  },
  {
   "cell_type": "code",
   "execution_count": 70,
   "metadata": {},
   "outputs": [
    {
     "data": {
      "text/plain": [
       "'app'"
      ]
     },
     "execution_count": 70,
     "metadata": {},
     "output_type": "execute_result"
    }
   ],
   "source": [
    "'apple'[0:3]"
   ]
  },
  {
   "cell_type": "code",
   "execution_count": 72,
   "metadata": {},
   "outputs": [
    {
     "data": {
      "text/plain": [
       "'app'"
      ]
     },
     "execution_count": 72,
     "metadata": {},
     "output_type": "execute_result"
    }
   ],
   "source": [
    "'@Pineapple'[5:8]"
   ]
  },
  {
   "cell_type": "code",
   "execution_count": 73,
   "metadata": {},
   "outputs": [
    {
     "name": "stdout",
     "output_type": "stream",
     "text": [
      "None\n",
      "None\n",
      "<re.Match object; span=(4, 5), match='1'>\n",
      "None\n",
      "<re.Match object; span=(0, 1), match='2'>\n",
      "<re.Match object; span=(0, 1), match='7'>\n",
      "<re.Match object; span=(0, 1), match='1'>\n",
      "None\n"
     ]
    }
   ],
   "source": [
    "list_of_words = ['apple','MANGO','Kiwi123','@Pineapple','24Mango','786Alfaz','1234','!@##$%']\n",
    "\n",
    "for word in list_of_words:\n",
    "    print(re.search('[0-9]',word))"
   ]
  },
  {
   "cell_type": "code",
   "execution_count": 74,
   "metadata": {},
   "outputs": [
    {
     "name": "stdout",
     "output_type": "stream",
     "text": [
      "None\n",
      "<re.Match object; span=(0, 1), match='M'>\n",
      "<re.Match object; span=(0, 1), match='K'>\n",
      "<re.Match object; span=(1, 2), match='P'>\n",
      "<re.Match object; span=(2, 3), match='M'>\n",
      "<re.Match object; span=(3, 4), match='A'>\n",
      "None\n",
      "None\n"
     ]
    }
   ],
   "source": [
    "list_of_words = ['apple','MANGO','Kiwi123','@Pineapple','24Mango','786Alfaz','1234','!@##$%']\n",
    "\n",
    "for word in list_of_words:\n",
    "    print(re.search('[A-Z]',word))"
   ]
  },
  {
   "cell_type": "code",
   "execution_count": 76,
   "metadata": {},
   "outputs": [
    {
     "name": "stdout",
     "output_type": "stream",
     "text": [
      "<re.Match object; span=(0, 1), match='a'>\n",
      "<re.Match object; span=(0, 1), match='M'>\n",
      "<re.Match object; span=(0, 1), match='K'>\n",
      "<re.Match object; span=(1, 2), match='P'>\n",
      "<re.Match object; span=(2, 3), match='M'>\n",
      "<re.Match object; span=(3, 4), match='A'>\n",
      "None\n",
      "None\n",
      "<re.Match object; span=(0, 1), match='m'>\n"
     ]
    }
   ],
   "source": [
    "list_of_words = ['apple','MANGO','Kiwi123','@Pineapple','24Mango','786Alfaz','1234','!@##$%','mANGO']\n",
    "\n",
    "for word in list_of_words:\n",
    "    print(re.search('[A-Za-z]',word))"
   ]
  },
  {
   "cell_type": "code",
   "execution_count": 89,
   "metadata": {},
   "outputs": [
    {
     "name": "stdout",
     "output_type": "stream",
     "text": [
      "<re.Match object; span=(0, 1), match='a'>\n",
      "<re.Match object; span=(0, 1), match='M'>\n",
      "<re.Match object; span=(0, 1), match='K'>\n",
      "<re.Match object; span=(1, 2), match='P'>\n",
      "<re.Match object; span=(0, 1), match='2'>\n",
      "<re.Match object; span=(0, 1), match='7'>\n",
      "<re.Match object; span=(0, 1), match='1'>\n",
      "<re.Match object; span=(0, 1), match='!'>\n",
      "<re.Match object; span=(0, 1), match='m'>\n"
     ]
    }
   ],
   "source": [
    "list_of_words = ['apple','MANGO','Kiwi123','@Pineapple','24Mango','786Alfaz','1234','!@##$%','mANGO']\n",
    "\n",
    "for word in list_of_words:\n",
    "    print(re.search('[A-Za-z0-9!-/]',word))"
   ]
  },
  {
   "cell_type": "code",
   "execution_count": null,
   "metadata": {},
   "outputs": [],
   "source": [
    "Question: Search for all patterns which start with a 2 digit numbers and followed by abc"
   ]
  },
  {
   "cell_type": "code",
   "execution_count": 98,
   "metadata": {},
   "outputs": [
    {
     "name": "stdout",
     "output_type": "stream",
     "text": [
      "23abc <re.Match object; span=(0, 5), match='23abc'>\n",
      "34xyz None\n",
      "45abc <re.Match object; span=(0, 5), match='45abc'>\n",
      "78abc <re.Match object; span=(0, 5), match='78abc'>\n",
      "79abx None\n",
      "45abcde <re.Match object; span=(0, 5), match='45abc'>\n",
      "678abcmango <re.Match object; span=(1, 6), match='78abc'>\n",
      "45dcba None\n",
      "123abc <re.Match object; span=(1, 6), match='23abc'>\n",
      "46dsabc None\n"
     ]
    }
   ],
   "source": [
    "list_of_words = ['23abc','34xyz','45abc','78abc','79abx','45abcde','678abcmango','45dcba','123abc','46dsabc']\n",
    "regx = '[0-9][0-9]abc'\n",
    "\n",
    "for word in list_of_words:\n",
    "    print(word,re.search(regx,word))"
   ]
  },
  {
   "cell_type": "code",
   "execution_count": 100,
   "metadata": {},
   "outputs": [
    {
     "name": "stdout",
     "output_type": "stream",
     "text": [
      "2a None\n",
      "23abc <re.Match object; span=(0, 5), match='23abc'>\n",
      "34xyz <re.Match object; span=(0, 5), match='34xyz'>\n",
      "45abc <re.Match object; span=(0, 5), match='45abc'>\n",
      "78abc <re.Match object; span=(0, 5), match='78abc'>\n",
      "79abx <re.Match object; span=(0, 5), match='79abx'>\n",
      "45abcde <re.Match object; span=(0, 5), match='45abc'>\n",
      "678abcmango <re.Match object; span=(1, 6), match='78abc'>\n",
      "45dcba <re.Match object; span=(0, 5), match='45dcb'>\n",
      "123abc <re.Match object; span=(1, 6), match='23abc'>\n",
      "46dsabc <re.Match object; span=(0, 5), match='46dsa'>\n"
     ]
    }
   ],
   "source": [
    "# Question: Search for all patterns which start with a 2 digit \n",
    "#     numbers and followed by 3 lowercase alphabets.\n",
    "    \n",
    "# 21:08\n",
    "    \n",
    "list_of_words = ['2a','23abc','34xyz','45abc','78abc','79abx','45abcde','678abcmango','45dcba','123abc','46dsabc']\n",
    "\n",
    "regx = '[0-9][0-9][a-z][a-z][a-z]'\n",
    "\n",
    "for word in list_of_words:\n",
    "    print(word,re.search(regx,word))"
   ]
  },
  {
   "cell_type": "code",
   "execution_count": 107,
   "metadata": {},
   "outputs": [
    {
     "name": "stdout",
     "output_type": "stream",
     "text": [
      "0abc <re.Match object; span=(0, 4), match='0abc'>\n",
      "2aa <re.Match object; span=(0, 3), match='2aa'>\n",
      "22a <re.Match object; span=(0, 3), match='22a'>\n",
      "2a <re.Match object; span=(0, 2), match='2a'>\n",
      "23abc <re.Match object; span=(0, 5), match='23abc'>\n",
      "34xyz <re.Match object; span=(0, 5), match='34xyz'>\n",
      "45abc <re.Match object; span=(0, 5), match='45abc'>\n",
      "78abc <re.Match object; span=(0, 5), match='78abc'>\n",
      "79abx <re.Match object; span=(0, 5), match='79abx'>\n",
      "45abcde <re.Match object; span=(0, 5), match='45abc'>\n",
      "678abcmango <re.Match object; span=(1, 6), match='78abc'>\n",
      "45dcba <re.Match object; span=(0, 5), match='45dcb'>\n",
      "123abc <re.Match object; span=(1, 6), match='23abc'>\n",
      "46dsabc <re.Match object; span=(0, 5), match='46dsa'>\n"
     ]
    }
   ],
   "source": [
    "# Question: Search for all patterns which start with a 2 digit \n",
    "#     numbers and followed by 3 lowercase alphabets.\n",
    "    \n",
    "# 21:08\n",
    "    \n",
    "list_of_words = ['0abc','2aa','22a','2a','23abc','34xyz','45abc','78abc','79abx','45abcde','678abcmango','45dcba','123abc','46dsabc']\n",
    "\n",
    "regx = '[0-9]{1,2}[a-z]{1,3}'\n",
    "\n",
    "for word in list_of_words:\n",
    "    print(word,re.search(regx,word))"
   ]
  },
  {
   "cell_type": "code",
   "execution_count": 108,
   "metadata": {},
   "outputs": [
    {
     "name": "stdout",
     "output_type": "stream",
     "text": [
      "['0abc', '2aa', '22a', '2a', '23abc', '34xyz', '45abc', '78abc', '79abx', '45abc', '78abc', '45dcb', '23abc', '46dsa']\n"
     ]
    }
   ],
   "source": [
    "sir what if we want to append all the matched characters in a new list?\n",
    "\n",
    "list1 = []\n",
    "\n",
    "list_of_words = ['0abc','2aa','22a','2a','23abc','34xyz','45abc','78abc','79abx','45abcde','678abcmango','45dcba','123abc','46dsabc']\n",
    "\n",
    "regx = '[0-9]{1,2}[a-z]{1,3}'\n",
    "\n",
    "for word in list_of_words:\n",
    "    match_obj = re.search(regx,word)\n",
    "    list1.append(word[match_obj.span()[0]:match_obj.span()[1]])\n",
    "    \n",
    "print(list1)"
   ]
  },
  {
   "cell_type": "code",
   "execution_count": 109,
   "metadata": {},
   "outputs": [
    {
     "name": "stdout",
     "output_type": "stream",
     "text": [
      "aparna 45\n",
      "siddharth 49\n"
     ]
    }
   ],
   "source": [
    "dict1 = {'aparna':45,'siddharth':49}\n",
    "\n",
    "for item in dict1.items():\n",
    "    print(item[0],item[1])"
   ]
  },
  {
   "cell_type": "code",
   "execution_count": null,
   "metadata": {},
   "outputs": [],
   "source": []
  }
 ],
 "metadata": {
  "kernelspec": {
   "display_name": "Python 3",
   "language": "python",
   "name": "python3"
  },
  "language_info": {
   "codemirror_mode": {
    "name": "ipython",
    "version": 3
   },
   "file_extension": ".py",
   "mimetype": "text/x-python",
   "name": "python",
   "nbconvert_exporter": "python",
   "pygments_lexer": "ipython3",
   "version": "3.8.3"
  }
 },
 "nbformat": 4,
 "nbformat_minor": 4
}
