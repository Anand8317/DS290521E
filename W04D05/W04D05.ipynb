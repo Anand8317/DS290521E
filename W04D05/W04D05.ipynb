{
 "cells": [
  {
   "cell_type": "code",
   "execution_count": null,
   "metadata": {},
   "outputs": [],
   "source": [
    "There is no power at my Place because of Rain!, So I might have to cancel the session.\n",
    "\n",
    "But let's continue untill my laptop does not run out of power."
   ]
  },
  {
   "cell_type": "code",
   "execution_count": null,
   "metadata": {},
   "outputs": [],
   "source": [
    "Question 1: Write a fun, which takes 2 list as arguments and returns sum of respective numbers if the length of both the list \n",
    "\n",
    "Question 2: Solve using fun,\n",
    "    test_list = ['apple','mango','kiwi','http','trvwq']\n",
    "    Print 2 separate list with words that contains vowels Vs that does not.\n",
    "    \n",
    "vowel_list = ['apple','mango','kiwi']\n",
    "consonant_list = ['http','trvwq']\n",
    "\n",
    "Do the above Questions "
   ]
  },
  {
   "cell_type": "code",
   "execution_count": 1,
   "metadata": {},
   "outputs": [
    {
     "name": "stdout",
     "output_type": "stream",
     "text": [
      "mango\n",
      "apple\n"
     ]
    }
   ],
   "source": [
    "x = 'apple'\n",
    "\n",
    "def fun1():\n",
    "    x = 'mango'\n",
    "    print(x)\n",
    "    \n",
    "fun1()\n",
    "print(x)\n",
    "\n",
    "# 1) mango apple\n",
    "# 2) mango mango\n",
    "# 3) apple apple\n",
    "# 4) apple mango"
   ]
  },
  {
   "cell_type": "code",
   "execution_count": 6,
   "metadata": {},
   "outputs": [
    {
     "name": "stdout",
     "output_type": "stream",
     "text": [
      "apple\n"
     ]
    }
   ],
   "source": [
    "x = 'apple'\n",
    "\n",
    "def fun1():\n",
    "    print(x)\n",
    "    \n",
    "fun1()"
   ]
  },
  {
   "cell_type": "code",
   "execution_count": 7,
   "metadata": {},
   "outputs": [
    {
     "name": "stdout",
     "output_type": "stream",
     "text": [
      "mango\n"
     ]
    }
   ],
   "source": [
    "x = 'apple'\n",
    "\n",
    "def fun1():\n",
    "    x = 'mango'\n",
    "    print(x)\n",
    "    \n",
    "fun1()"
   ]
  },
  {
   "cell_type": "code",
   "execution_count": 9,
   "metadata": {},
   "outputs": [
    {
     "name": "stdout",
     "output_type": "stream",
     "text": [
      "5\n"
     ]
    }
   ],
   "source": [
    "def fun1():\n",
    "    a = [1,2,3,4,5]\n",
    "    x = len(a)\n",
    "    print(x)\n",
    "fun1()"
   ]
  },
  {
   "cell_type": "code",
   "execution_count": 10,
   "metadata": {},
   "outputs": [
    {
     "data": {
      "text/plain": [
       "5"
      ]
     },
     "execution_count": 10,
     "metadata": {},
     "output_type": "execute_result"
    }
   ],
   "source": [
    "len('apple')"
   ]
  },
  {
   "cell_type": "code",
   "execution_count": 11,
   "metadata": {},
   "outputs": [
    {
     "data": {
      "text/plain": [
       "'a'"
      ]
     },
     "execution_count": 11,
     "metadata": {},
     "output_type": "execute_result"
    }
   ],
   "source": [
    "chr(97)"
   ]
  },
  {
   "cell_type": "code",
   "execution_count": 12,
   "metadata": {},
   "outputs": [
    {
     "data": {
      "text/plain": [
       "97"
      ]
     },
     "execution_count": 12,
     "metadata": {},
     "output_type": "execute_result"
    }
   ],
   "source": [
    "ord('a')"
   ]
  },
  {
   "cell_type": "code",
   "execution_count": 17,
   "metadata": {},
   "outputs": [],
   "source": [
    "def print(x):\n",
    "    return x+2\n",
    "\n",
    "def len(x):\n",
    "    return x+5"
   ]
  },
  {
   "cell_type": "code",
   "execution_count": 18,
   "metadata": {},
   "outputs": [
    {
     "data": {
      "text/plain": [
       "3"
      ]
     },
     "execution_count": 18,
     "metadata": {},
     "output_type": "execute_result"
    }
   ],
   "source": [
    "print(1)"
   ]
  },
  {
   "cell_type": "code",
   "execution_count": 19,
   "metadata": {},
   "outputs": [
    {
     "data": {
      "text/plain": [
       "15"
      ]
     },
     "execution_count": 19,
     "metadata": {},
     "output_type": "execute_result"
    }
   ],
   "source": [
    "len(10)"
   ]
  },
  {
   "cell_type": "code",
   "execution_count": null,
   "metadata": {},
   "outputs": [],
   "source": [
    "Now we can not use builtin print and len function.\n",
    "We will have to restart kernel for using them"
   ]
  },
  {
   "cell_type": "code",
   "execution_count": 1,
   "metadata": {},
   "outputs": [
    {
     "name": "stdout",
     "output_type": "stream",
     "text": [
      "happy\n"
     ]
    }
   ],
   "source": [
    "print('happy')"
   ]
  },
  {
   "cell_type": "code",
   "execution_count": 2,
   "metadata": {},
   "outputs": [
    {
     "data": {
      "text/plain": [
       "5"
      ]
     },
     "execution_count": 2,
     "metadata": {},
     "output_type": "execute_result"
    }
   ],
   "source": [
    "len('mOhit')"
   ]
  },
  {
   "cell_type": "code",
   "execution_count": null,
   "metadata": {},
   "outputs": [],
   "source": [
    "def print():\n",
    "    print()\n",
    "    \n",
    "# it's not going to call the bultin print, it's going to call itself, which is \n",
    "# a concept known as recursion in programming."
   ]
  },
  {
   "cell_type": "code",
   "execution_count": 7,
   "metadata": {},
   "outputs": [],
   "source": [
    "def fun1():\n",
    "    print = 'happy'"
   ]
  },
  {
   "cell_type": "code",
   "execution_count": 8,
   "metadata": {},
   "outputs": [],
   "source": [
    "fun1()"
   ]
  },
  {
   "cell_type": "code",
   "execution_count": 9,
   "metadata": {},
   "outputs": [
    {
     "name": "stdout",
     "output_type": "stream",
     "text": [
      "mango\n"
     ]
    }
   ],
   "source": [
    "print('mango')"
   ]
  },
  {
   "cell_type": "markdown",
   "metadata": {},
   "source": [
    "## global keyword"
   ]
  },
  {
   "cell_type": "code",
   "execution_count": 13,
   "metadata": {},
   "outputs": [
    {
     "name": "stdout",
     "output_type": "stream",
     "text": [
      "apple\n"
     ]
    }
   ],
   "source": [
    "## global keyword help us access and change the global namespace variable.\n",
    "\n",
    "x = 'apple'\n",
    "\n",
    "def fun1():\n",
    "    x = 'mango' # this is not going to change the global x, it's going to create a local x\n",
    "    \n",
    "fun1()\n",
    "print(x)"
   ]
  },
  {
   "cell_type": "code",
   "execution_count": 11,
   "metadata": {},
   "outputs": [
    {
     "name": "stdout",
     "output_type": "stream",
     "text": [
      "mango\n"
     ]
    }
   ],
   "source": [
    "## global keyword help us access and change the global namespace variable.\n",
    "\n",
    "x = 'apple'\n",
    "\n",
    "def fun1():\n",
    "    global x\n",
    "    x = 'mango' # now this is going to change global x\n",
    "    \n",
    "fun1()\n",
    "print(x)"
   ]
  },
  {
   "cell_type": "markdown",
   "metadata": {},
   "source": [
    "## Parameter Passing Techniques"
   ]
  },
  {
   "cell_type": "markdown",
   "metadata": {},
   "source": [
    "# Default Arguments"
   ]
  },
  {
   "cell_type": "code",
   "execution_count": 14,
   "metadata": {},
   "outputs": [],
   "source": [
    "present_today = []\n",
    "absenties = []\n",
    "\n",
    "def rollCall(name,attendance=\"Absent\"):\n",
    "    if attendance == \"Present\":\n",
    "        present_today.append(name)\n",
    "    else:\n",
    "        absenties.append(name)"
   ]
  },
  {
   "cell_type": "code",
   "execution_count": 15,
   "metadata": {},
   "outputs": [],
   "source": [
    "rollCall('Krishnakant','Present')"
   ]
  },
  {
   "cell_type": "code",
   "execution_count": 16,
   "metadata": {},
   "outputs": [],
   "source": [
    "rollCall('Swaraj Pradhan')"
   ]
  },
  {
   "cell_type": "code",
   "execution_count": 17,
   "metadata": {},
   "outputs": [],
   "source": [
    "rollCall('Dinesh Kumar','Present')"
   ]
  },
  {
   "cell_type": "code",
   "execution_count": 18,
   "metadata": {},
   "outputs": [],
   "source": [
    "rollCall('Tej','Present')"
   ]
  },
  {
   "cell_type": "code",
   "execution_count": 19,
   "metadata": {},
   "outputs": [],
   "source": [
    "rollCall('Manish Rajput')"
   ]
  },
  {
   "cell_type": "code",
   "execution_count": 20,
   "metadata": {},
   "outputs": [
    {
     "data": {
      "text/plain": [
       "['Krishnakant', 'Dinesh Kumar', 'Tej']"
      ]
     },
     "execution_count": 20,
     "metadata": {},
     "output_type": "execute_result"
    }
   ],
   "source": [
    "present_today"
   ]
  },
  {
   "cell_type": "code",
   "execution_count": 21,
   "metadata": {},
   "outputs": [
    {
     "data": {
      "text/plain": [
       "['Swaraj Pradhan', 'Manish Rajput']"
      ]
     },
     "execution_count": 21,
     "metadata": {},
     "output_type": "execute_result"
    }
   ],
   "source": [
    "absenties"
   ]
  },
  {
   "cell_type": "code",
   "execution_count": 29,
   "metadata": {},
   "outputs": [],
   "source": [
    "def fun1(a,b=50):\n",
    "    print(a+b)"
   ]
  },
  {
   "cell_type": "code",
   "execution_count": 30,
   "metadata": {},
   "outputs": [
    {
     "name": "stdout",
     "output_type": "stream",
     "text": [
      "2\n"
     ]
    }
   ],
   "source": [
    "fun1(1,1)"
   ]
  },
  {
   "cell_type": "code",
   "execution_count": null,
   "metadata": {},
   "outputs": [],
   "source": [
    "Default Argument is used when no argument is passed for that postion.\n",
    "When ever I pass an argument for the default argument parameter (like b in the above case), the\n",
    "value which we pass will overwrite the existing default value."
   ]
  },
  {
   "cell_type": "code",
   "execution_count": 34,
   "metadata": {},
   "outputs": [],
   "source": [
    "def happy(a='mango',b='kiwi'):\n",
    "    print(b)\n",
    "    print(a)"
   ]
  },
  {
   "cell_type": "code",
   "execution_count": 35,
   "metadata": {},
   "outputs": [
    {
     "name": "stdout",
     "output_type": "stream",
     "text": [
      "kiwi\n",
      "mango\n"
     ]
    }
   ],
   "source": [
    "happy()"
   ]
  },
  {
   "cell_type": "code",
   "execution_count": 36,
   "metadata": {},
   "outputs": [
    {
     "name": "stdout",
     "output_type": "stream",
     "text": [
      "banana\n",
      "apple\n"
     ]
    }
   ],
   "source": [
    "happy('apple','banana')"
   ]
  },
  {
   "cell_type": "markdown",
   "metadata": {},
   "source": [
    "# NAMED ARGUMENTS"
   ]
  },
  {
   "cell_type": "code",
   "execution_count": 37,
   "metadata": {},
   "outputs": [
    {
     "name": "stdout",
     "output_type": "stream",
     "text": [
      "Anubhav  is studying at  IIT BOB MARLEY  this guy took  Computer Science\n"
     ]
    }
   ],
   "source": [
    "def task(name,college,stream):\n",
    "    print(name,' is studying at ',college,' this guy took ',stream)\n",
    "    \n",
    "task('Anubhav','IIT BOB MARLEY','Computer Science')"
   ]
  },
  {
   "cell_type": "code",
   "execution_count": 38,
   "metadata": {},
   "outputs": [
    {
     "name": "stdout",
     "output_type": "stream",
     "text": [
      "Sharukh Chouhan  is studying at  Standard ford  this guy took  Komputer Science\n"
     ]
    }
   ],
   "source": [
    "task(college='Standard ford',stream='Komputer Science',name='Sharukh Chouhan')"
   ]
  },
  {
   "cell_type": "markdown",
   "metadata": {},
   "source": [
    "# VARIABLE ARGUMENTS"
   ]
  },
  {
   "cell_type": "markdown",
   "metadata": {},
   "source": [
    "## Packing"
   ]
  },
  {
   "cell_type": "code",
   "execution_count": null,
   "metadata": {},
   "outputs": [],
   "source": [
    "Pack variable no of arguments into a collection of one.\n",
    "\n",
    "Any number of arguemnts can come."
   ]
  },
  {
   "cell_type": "code",
   "execution_count": 57,
   "metadata": {},
   "outputs": [],
   "source": [
    "def fun1(*a):\n",
    "    for i in a:\n",
    "        print('wowowowowow*****',i)\n",
    "        print(type(i))"
   ]
  },
  {
   "cell_type": "code",
   "execution_count": 58,
   "metadata": {},
   "outputs": [
    {
     "name": "stdout",
     "output_type": "stream",
     "text": [
      "wowowowowow***** 1\n",
      "<class 'int'>\n",
      "wowowowowow***** 2\n",
      "<class 'int'>\n",
      "wowowowowow***** 3\n",
      "<class 'int'>\n"
     ]
    }
   ],
   "source": [
    "fun1(1,2,3)"
   ]
  },
  {
   "cell_type": "code",
   "execution_count": 59,
   "metadata": {},
   "outputs": [
    {
     "name": "stdout",
     "output_type": "stream",
     "text": [
      "wowowowowow***** apple\n",
      "<class 'str'>\n"
     ]
    }
   ],
   "source": [
    "fun1('apple')"
   ]
  },
  {
   "cell_type": "code",
   "execution_count": 60,
   "metadata": {},
   "outputs": [
    {
     "name": "stdout",
     "output_type": "stream",
     "text": [
      "wowowowowow***** apple\n",
      "<class 'str'>\n",
      "wowowowowow***** mango\n",
      "<class 'str'>\n",
      "wowowowowow***** banana\n",
      "<class 'str'>\n",
      "wowowowowow***** kiwi\n",
      "<class 'str'>\n"
     ]
    }
   ],
   "source": [
    "fun1('apple','mango','banana','kiwi')"
   ]
  },
  {
   "cell_type": "code",
   "execution_count": 61,
   "metadata": {},
   "outputs": [
    {
     "name": "stdout",
     "output_type": "stream",
     "text": [
      "wowowowowow***** I am a string tadatada\n",
      "<class 'str'>\n",
      "wowowowowow***** ['official', 'sahnaz', 'hussain']\n",
      "<class 'list'>\n",
      "wowowowowow***** {'python': 3, 'java': 8}\n",
      "<class 'dict'>\n",
      "wowowowowow***** True\n",
      "<class 'bool'>\n",
      "wowowowowow***** None\n",
      "<class 'NoneType'>\n",
      "wowowowowow***** 12\n",
      "<class 'int'>\n",
      "wowowowowow***** 34.5\n",
      "<class 'float'>\n"
     ]
    }
   ],
   "source": [
    "fun1('I am a string tadatada',['official','sahnaz','hussain'],{'python':3,'java':8},True,None,12,34.5)"
   ]
  },
  {
   "cell_type": "markdown",
   "metadata": {},
   "source": [
    "## Unpacking"
   ]
  },
  {
   "cell_type": "code",
   "execution_count": 65,
   "metadata": {},
   "outputs": [],
   "source": [
    "test_list = ['spacex','tesla','neuralink']"
   ]
  },
  {
   "cell_type": "code",
   "execution_count": 63,
   "metadata": {},
   "outputs": [],
   "source": [
    "def printdetails(company_1,company_2,company_3):\n",
    "    print(company_1,' flies Rockets')\n",
    "    print(company_2,' drives Automated Battery Powered Cars')\n",
    "    print(company_3,' will get us killed!!')"
   ]
  },
  {
   "cell_type": "code",
   "execution_count": 64,
   "metadata": {},
   "outputs": [
    {
     "name": "stdout",
     "output_type": "stream",
     "text": [
      "spacex  flies Rockets\n",
      "tesla  drives Automated Battery Powered Cars\n",
      "neuralink  will get us killed!!\n"
     ]
    }
   ],
   "source": [
    "printdetails('spacex','tesla','neuralink')"
   ]
  },
  {
   "cell_type": "code",
   "execution_count": 67,
   "metadata": {},
   "outputs": [],
   "source": [
    "test_list = ['tesla','neuralink','spacex']"
   ]
  },
  {
   "cell_type": "code",
   "execution_count": 68,
   "metadata": {},
   "outputs": [
    {
     "name": "stdout",
     "output_type": "stream",
     "text": [
      "tesla  flies Rockets\n",
      "neuralink  drives Automated Battery Powered Cars\n",
      "spacex  will get us killed!!\n"
     ]
    }
   ],
   "source": [
    "printdetails(*test_list)"
   ]
  },
  {
   "cell_type": "markdown",
   "metadata": {},
   "source": [
    "# Named Packing"
   ]
  },
  {
   "cell_type": "code",
   "execution_count": null,
   "metadata": {},
   "outputs": [],
   "source": [
    "* => tuple\n",
    "** => dict"
   ]
  },
  {
   "cell_type": "code",
   "execution_count": 72,
   "metadata": {},
   "outputs": [
    {
     "name": "stdout",
     "output_type": "stream",
     "text": [
      "{'college': 'Standard ford', 'stream': 'Komputer Science', 'name': 'Sharukh Chouhan', 'siddharth': 'oooho', 'priyal': 'jain'}\n",
      "Sharukh Chouhan  is studying at  Standard ford  this guy took  Komputer Science\n"
     ]
    }
   ],
   "source": [
    "def task(**mydict):\n",
    "    print(mydict)\n",
    "    print(mydict['name'],' is studying at ',mydict['college'],' this guy took ',mydict['stream'])\n",
    "    \n",
    "task(college='Standard ford',stream='Komputer Science',name='Sharukh Chouhan',siddharth='oooho',priyal='jain')"
   ]
  },
  {
   "cell_type": "code",
   "execution_count": 77,
   "metadata": {},
   "outputs": [],
   "source": [
    "def fun1(**abc):\n",
    "    print(type(abc))\n",
    "    print(abc)\n",
    "    for item in abc.items():\n",
    "        print(item[0],'is now officially',item[1])"
   ]
  },
  {
   "cell_type": "code",
   "execution_count": 79,
   "metadata": {},
   "outputs": [
    {
     "name": "stdout",
     "output_type": "stream",
     "text": [
      "<class 'dict'>\n",
      "{'mango': 'pineapple', 'banana': 'mango', 'kiwi': 'apple', 'rohit': 'chugwani'}\n",
      "mango is now officially pineapple\n",
      "banana is now officially mango\n",
      "kiwi is now officially apple\n",
      "rohit is now officially chugwani\n"
     ]
    }
   ],
   "source": [
    "fun1(mango='pineapple',banana='mango',kiwi='apple',rohit='chugwani')"
   ]
  },
  {
   "cell_type": "markdown",
   "metadata": {},
   "source": [
    "# Named UnPacking"
   ]
  },
  {
   "cell_type": "code",
   "execution_count": 83,
   "metadata": {},
   "outputs": [],
   "source": [
    "rohitChugwaniDict = {'name':'Rohit Chugwani','college':'IIT DUBAI','stream':'BOBMarleyTronics'}"
   ]
  },
  {
   "cell_type": "code",
   "execution_count": 84,
   "metadata": {},
   "outputs": [],
   "source": [
    "def task(name,college,stream):\n",
    "    print(name,' is studying at ',college,' this guy took ',stream)"
   ]
  },
  {
   "cell_type": "code",
   "execution_count": 85,
   "metadata": {},
   "outputs": [
    {
     "name": "stdout",
     "output_type": "stream",
     "text": [
      "Rohit Chugwani  is studying at  IIT DUBAI  this guy took  BOBMarleyTronics\n"
     ]
    }
   ],
   "source": [
    "task(**rohitChugwaniDict)"
   ]
  },
  {
   "cell_type": "code",
   "execution_count": null,
   "metadata": {},
   "outputs": [],
   "source": [
    "Question 1: Write a fun, which takes 2 list as arguments and returns sum of respective numbers if the length of both the list\n",
    "    is equal , other wise None\n",
    "\n",
    "Question 2: Solve using fun,\n",
    "    test_list = ['apple','mango','kiwi','http','trvwq']\n",
    "    Print 2 separate list with words that contains vowels Vs that does not."
   ]
  },
  {
   "cell_type": "code",
   "execution_count": 87,
   "metadata": {},
   "outputs": [
    {
     "name": "stdout",
     "output_type": "stream",
     "text": [
      "[6, 8, 10]\n"
     ]
    }
   ],
   "source": [
    "def sum_of_list(list1,list2):\n",
    "        if(len(list1)==len(list2)):\n",
    "                list3=[]\n",
    "                for i in range(len(list1)):\n",
    "                        list3.append(list1[i]+list2[i])\n",
    "                return list3\n",
    "        else:\n",
    "                return None\n",
    "\n",
    "list1=[1,2,3]\n",
    "list2=[5,6,7]\n",
    "x=sum_of_list(list1,list2)\n",
    "print(x)"
   ]
  },
  {
   "cell_type": "code",
   "execution_count": 91,
   "metadata": {},
   "outputs": [
    {
     "name": "stdout",
     "output_type": "stream",
     "text": [
      "['apple', 'mango', 'kiwi']\n",
      "['http', 'trvwq']\n"
     ]
    }
   ],
   "source": [
    "test_list = ['apple','mango','kiwi','http','trvwq']\n",
    "# vowel_list = ['apple','mango','kiwi']\n",
    "# consonant_list = ['http','trvwq']\n",
    "\n",
    "def vowelsVsConsonant(test_list):\n",
    "    vowelsList = []\n",
    "    consonantList = []\n",
    "    vowels = 'aeiou'\n",
    "    for word in test_list:\n",
    "        for char in word:\n",
    "            if char in vowels:\n",
    "                vowelsList.append(word)\n",
    "                break\n",
    "        else:\n",
    "            consonantList.append(word)\n",
    "    print(vowelsList)\n",
    "    print(consonantList)\n",
    "vowelsVsConsonant(test_list)"
   ]
  },
  {
   "cell_type": "code",
   "execution_count": null,
   "metadata": {},
   "outputs": [],
   "source": []
  }
 ],
 "metadata": {
  "kernelspec": {
   "display_name": "Python 3",
   "language": "python",
   "name": "python3"
  },
  "language_info": {
   "codemirror_mode": {
    "name": "ipython",
    "version": 3
   },
   "file_extension": ".py",
   "mimetype": "text/x-python",
   "name": "python",
   "nbconvert_exporter": "python",
   "pygments_lexer": "ipython3",
   "version": "3.8.3"
  }
 },
 "nbformat": 4,
 "nbformat_minor": 4
}
