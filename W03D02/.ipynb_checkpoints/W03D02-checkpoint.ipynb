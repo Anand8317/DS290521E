{
 "cells": [
  {
   "cell_type": "code",
   "execution_count": 2,
   "metadata": {},
   "outputs": [],
   "source": [
    "# while True:\n",
    "#     print('Hello World')\n",
    "\n",
    "# Hello World is going to run forever!!"
   ]
  },
  {
   "cell_type": "code",
   "execution_count": 3,
   "metadata": {},
   "outputs": [
    {
     "name": "stdout",
     "output_type": "stream",
     "text": [
      "4\n",
      "5\n",
      "6\n",
      "7\n",
      "8\n",
      "9\n"
     ]
    }
   ],
   "source": [
    "no = 4\n",
    "\n",
    "while no<10:\n",
    "    print(no)\n",
    "    no += 1"
   ]
  },
  {
   "cell_type": "markdown",
   "metadata": {},
   "source": [
    "## pass"
   ]
  },
  {
   "cell_type": "code",
   "execution_count": null,
   "metadata": {},
   "outputs": [],
   "source": [
    "pass is a keyword which is used as an placeholder for future code\n",
    "\n",
    "Empty code is not allowed at certain places, so we keep pass there to not any error,\n",
    "and also to signify that we have to complete this part later on.\n",
    "\n",
    "IT DOES NOTHING."
   ]
  },
  {
   "cell_type": "code",
   "execution_count": 4,
   "metadata": {},
   "outputs": [
    {
     "name": "stdout",
     "output_type": "stream",
     "text": [
      "23\n",
      "4\n",
      "5\n"
     ]
    }
   ],
   "source": [
    "list1 = [23,4,5,-90,-155,0]\n",
    "\n",
    "for i in list1:\n",
    "    if i>0:\n",
    "        print(i)\n",
    "    else:\n",
    "        pass"
   ]
  },
  {
   "cell_type": "markdown",
   "metadata": {},
   "source": [
    "## break"
   ]
  },
  {
   "cell_type": "code",
   "execution_count": 5,
   "metadata": {},
   "outputs": [
    {
     "name": "stdout",
     "output_type": "stream",
     "text": [
      "trying to reconnect with setting no 1\n",
      "trying to reconnect with setting no 3\n",
      "trying to reconnect with setting no 5\n",
      "trying to reconnect with setting no 7\n",
      "trying to reconnect with setting no 8\n"
     ]
    }
   ],
   "source": [
    "internet_is_not_working = True\n",
    "list_of_settings = [1,3,5,7,8,9,10]\n",
    "\n",
    "for setting in list_of_settings:\n",
    "    print('trying to reconnect with setting no',setting)\n",
    "    if setting%2 == 0:\n",
    "        break\n",
    "        \n",
    "# Note: break terminates the loop with force in which it is present."
   ]
  },
  {
   "cell_type": "code",
   "execution_count": 9,
   "metadata": {},
   "outputs": [
    {
     "name": "stdout",
     "output_type": "stream",
     "text": [
      "0\n",
      "1\n",
      "2\n",
      "3\n",
      "4\n",
      "5\n"
     ]
    }
   ],
   "source": [
    "no = 0\n",
    "\n",
    "while no<10:\n",
    "    print(no)\n",
    "    if no == 5:\n",
    "        break\n",
    "    no+=1"
   ]
  },
  {
   "cell_type": "code",
   "execution_count": 15,
   "metadata": {},
   "outputs": [
    {
     "name": "stdout",
     "output_type": "stream",
     "text": [
      "covid-\n",
      "We saw the patient\n",
      "covid-\n",
      "We saw the patient\n",
      "covid-\n",
      "We saw the patient\n",
      "covid+\n",
      "Lets keep everyone in this room in quarantine\n"
     ]
    }
   ],
   "source": [
    "list_of_patients = ['covid-','covid-','covid-','covid+','covid-','covid-']\n",
    "\n",
    "for patient in list_of_patients:\n",
    "    print(patient)\n",
    "    if patient == 'covid+':\n",
    "        print('Lets keep everyone in this room in quarantine')\n",
    "        break\n",
    "    print('We saw the patient')"
   ]
  },
  {
   "cell_type": "code",
   "execution_count": 13,
   "metadata": {},
   "outputs": [],
   "source": [
    "list_of_students = [{'name':'Krishnakant Dubey','marks':76,'isPassed':True},\n",
    "                    {'name':'Swaraj Pradhan','marks':79,'isPassed':True},\n",
    "                   {'name':'official','marks':83,'isPassed':True},\n",
    "                   {'name':'Chanda Yadav','marks':32,'isPassed':False},\n",
    "                   {'name':'Cu','marks':45,'isPassed':True}]"
   ]
  },
  {
   "cell_type": "code",
   "execution_count": null,
   "metadata": {},
   "outputs": [],
   "source": [
    "Print marks untill you get somebody who failed.\n",
    "20:07"
   ]
  },
  {
   "cell_type": "code",
   "execution_count": 16,
   "metadata": {},
   "outputs": [
    {
     "name": "stdout",
     "output_type": "stream",
     "text": [
      "76\n",
      "79\n",
      "83\n"
     ]
    }
   ],
   "source": [
    "for student in list_of_students:\n",
    "    if not student['isPassed']:\n",
    "        break\n",
    "    print(student['marks'])"
   ]
  },
  {
   "cell_type": "markdown",
   "metadata": {},
   "source": [
    "## continue"
   ]
  },
  {
   "cell_type": "code",
   "execution_count": 17,
   "metadata": {
    "scrolled": true
   },
   "outputs": [
    {
     "name": "stdout",
     "output_type": "stream",
     "text": [
      "covid-\n",
      "We saw the patient\n",
      "covid-\n",
      "We saw the patient\n",
      "covid-\n",
      "We saw the patient\n",
      "covid+\n",
      "Lets keep everyone in this room in quarantine\n",
      "covid-\n",
      "We saw the patient\n",
      "covid-\n",
      "We saw the patient\n"
     ]
    }
   ],
   "source": [
    "list_of_patients = ['covid-','covid-','covid-','covid+','covid-','covid-']\n",
    "\n",
    "for patient in list_of_patients:\n",
    "    print(patient)\n",
    "    if patient == 'covid+':\n",
    "        print('Lets keep everyone in this room in quarantine')\n",
    "        continue\n",
    "    print('We saw the patient')"
   ]
  },
  {
   "cell_type": "code",
   "execution_count": 18,
   "metadata": {},
   "outputs": [
    {
     "name": "stdout",
     "output_type": "stream",
     "text": [
      "1\n",
      "2\n",
      "3\n",
      "4\n",
      "6\n",
      "7\n",
      "8\n",
      "9\n",
      "10\n"
     ]
    }
   ],
   "source": [
    "no = 0\n",
    "\n",
    "while no<10:\n",
    "    no+=1\n",
    "    if no == 5:\n",
    "        continue\n",
    "    print(no)"
   ]
  },
  {
   "cell_type": "code",
   "execution_count": 19,
   "metadata": {},
   "outputs": [
    {
     "name": "stdout",
     "output_type": "stream",
     "text": [
      "0\n",
      "1\n",
      "2\n",
      "3\n",
      "4\n"
     ]
    },
    {
     "ename": "KeyboardInterrupt",
     "evalue": "",
     "output_type": "error",
     "traceback": [
      "\u001b[1;31m---------------------------------------------------------------------------\u001b[0m",
      "\u001b[1;31mKeyboardInterrupt\u001b[0m                         Traceback (most recent call last)",
      "\u001b[1;32m<ipython-input-19-9823b6f81cd1>\u001b[0m in \u001b[0;36m<module>\u001b[1;34m\u001b[0m\n\u001b[0;32m      1\u001b[0m \u001b[0mno\u001b[0m \u001b[1;33m=\u001b[0m \u001b[1;36m0\u001b[0m\u001b[1;33m\u001b[0m\u001b[1;33m\u001b[0m\u001b[0m\n\u001b[0;32m      2\u001b[0m \u001b[1;33m\u001b[0m\u001b[0m\n\u001b[1;32m----> 3\u001b[1;33m \u001b[1;32mwhile\u001b[0m \u001b[0mno\u001b[0m\u001b[1;33m<\u001b[0m\u001b[1;36m10\u001b[0m\u001b[1;33m:\u001b[0m\u001b[1;33m\u001b[0m\u001b[1;33m\u001b[0m\u001b[0m\n\u001b[0m\u001b[0;32m      4\u001b[0m     \u001b[1;32mif\u001b[0m \u001b[0mno\u001b[0m \u001b[1;33m==\u001b[0m \u001b[1;36m5\u001b[0m\u001b[1;33m:\u001b[0m\u001b[1;33m\u001b[0m\u001b[1;33m\u001b[0m\u001b[0m\n\u001b[0;32m      5\u001b[0m         \u001b[1;32mcontinue\u001b[0m\u001b[1;33m\u001b[0m\u001b[1;33m\u001b[0m\u001b[0m\n",
      "\u001b[1;31mKeyboardInterrupt\u001b[0m: "
     ]
    }
   ],
   "source": [
    "no = 0\n",
    "\n",
    "while no<10:\n",
    "    print(no)\n",
    "    no += 1\n",
    "    if no == 5:\n",
    "        continue\n",
    "    "
   ]
  },
  {
   "cell_type": "code",
   "execution_count": null,
   "metadata": {},
   "outputs": [],
   "source": []
  }
 ],
 "metadata": {
  "kernelspec": {
   "display_name": "Python 3",
   "language": "python",
   "name": "python3"
  },
  "language_info": {
   "codemirror_mode": {
    "name": "ipython",
    "version": 3
   },
   "file_extension": ".py",
   "mimetype": "text/x-python",
   "name": "python",
   "nbconvert_exporter": "python",
   "pygments_lexer": "ipython3",
   "version": "3.8.3"
  }
 },
 "nbformat": 4,
 "nbformat_minor": 4
}
