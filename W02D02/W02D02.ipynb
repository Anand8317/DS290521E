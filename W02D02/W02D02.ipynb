{
 "cells": [
  {
   "cell_type": "code",
   "execution_count": null,
   "metadata": {},
   "outputs": [],
   "source": [
    "Immutable Data Types:(which can not be edited):\n",
    "        int\n",
    "        float\n",
    "        str\n",
    "        bool\n",
    "        None\n",
    "        tuple\n",
    "        \n",
    "Mutable Data Types:(which can be edited):\n",
    "        set\n",
    "        dict\n",
    "        list\n",
    "        \n",
    "2 most imp things about keys in dict and keys in sets:\n",
    "    immutable\n",
    "    unique"
   ]
  },
  {
   "cell_type": "code",
   "execution_count": null,
   "metadata": {},
   "outputs": [],
   "source": [
    "Hackerrank : complete all the python "
   ]
  },
  {
   "cell_type": "code",
   "execution_count": null,
   "metadata": {},
   "outputs": [],
   "source": [
    "Assignment Operators: =,+=,-="
   ]
  },
  {
   "cell_type": "code",
   "execution_count": 4,
   "metadata": {},
   "outputs": [
    {
     "name": "stdout",
     "output_type": "stream",
     "text": [
      "44\n",
      "49\n"
     ]
    }
   ],
   "source": [
    "x = 45\n",
    "x -= 1 # shortcut for doing x = x-1\n",
    "print(x)\n",
    "x += 5\n",
    "print(x)"
   ]
  },
  {
   "cell_type": "code",
   "execution_count": null,
   "metadata": {},
   "outputs": [],
   "source": [
    "## IF ELIF ELSE"
   ]
  },
  {
   "cell_type": "code",
   "execution_count": 19,
   "metadata": {},
   "outputs": [
    {
     "name": "stdout",
     "output_type": "stream",
     "text": [
      "we are going to goa\n"
     ]
    }
   ],
   "source": [
    "ticket = 'goa'\n",
    "\n",
    "if ticket == 'goa':\n",
    "    print('we are going to goa')\n",
    "elif ticket == 'north-east':\n",
    "    print('we are going to north-east')\n",
    "elif ticket == 'kerala':\n",
    "    print('we are going to kerala')\n",
    "elif ticket == 'dehradun':\n",
    "    print('we are going to dehradun')\n",
    "else:\n",
    "    print('lets stay at home')\n",
    "    \n",
    "# Note: if one condition runs, it ignores all the rest of the conditions"
   ]
  },
  {
   "cell_type": "code",
   "execution_count": 24,
   "metadata": {},
   "outputs": [
    {
     "name": "stdout",
     "output_type": "stream",
     "text": [
      "we can not go to goa\n",
      "we may go to kerala\n",
      "we may go to north-east\n",
      "we may go to dehradun\n",
      "we may stay at home\n"
     ]
    }
   ],
   "source": [
    "collection_of_tickets = ['kerala','north-east','dehradun']\n",
    "\n",
    "if 'goa' in collection_of_tickets:\n",
    "    print('we may go to goa')\n",
    "else:\n",
    "    print('we can not go to goa')\n",
    "    \n",
    "if 'kerala' in collection_of_tickets:\n",
    "    print('we may go to kerala')\n",
    "else:\n",
    "    print('we can not go to kerala')\n",
    "\n",
    "if 'north-east' in collection_of_tickets:\n",
    "    print('we may go to north-east')\n",
    "else:\n",
    "    print('we can not go to north-east')\n",
    "    \n",
    "if 'dehradun' in collection_of_tickets:\n",
    "    print('we may go to dehradun')\n",
    "else:\n",
    "    print('we can not go to dehradun')\n",
    "\n",
    "print('we may stay at home')"
   ]
  },
  {
   "cell_type": "code",
   "execution_count": 35,
   "metadata": {},
   "outputs": [
    {
     "name": "stdout",
     "output_type": "stream",
     "text": [
      "we are going to north-east\n"
     ]
    }
   ],
   "source": [
    "# NESTED IF ELIF ELSE: IF ELIF ELSE INSIDE IF ELIF ELSE\n",
    "\n",
    "ticket = 'north-east'\n",
    "\n",
    "if ticket == 'goa':\n",
    "    print('we are going to goa')\n",
    "else:\n",
    "    if ticket == 'kerala':\n",
    "        print('we are going to kerala')\n",
    "    else:\n",
    "        if ticket == 'dehradun':\n",
    "            print('we are going to dehradun')\n",
    "        else:\n",
    "            if ticket == 'north-east':\n",
    "                print('we are going to north-east')\n",
    "            else:\n",
    "                print('we are going to stay at home, humara kuch nahi ho skta!!')"
   ]
  },
  {
   "cell_type": "code",
   "execution_count": null,
   "metadata": {},
   "outputs": [],
   "source": [
    "Question: if a no is greater than 20 and if it is odd print(\"20 odd\") else print(\"20 even\")\n",
    "          if a no is equals to 20 , print('Hip Hip Hurray')\n",
    "          If a no is less than 20 , \n",
    "    than If that no is odd than print(that No + \"odd\") , if it is even than print(that No + \"even\")"
   ]
  },
  {
   "cell_type": "code",
   "execution_count": null,
   "metadata": {},
   "outputs": [],
   "source": [
    "no = 24"
   ]
  },
  {
   "cell_type": "code",
   "execution_count": 54,
   "metadata": {},
   "outputs": [
    {
     "name": "stdout",
     "output_type": "stream",
     "text": [
      "20\n",
      "Hip Hip Hurray\n"
     ]
    }
   ],
   "source": [
    "no = int(input())\n",
    "\n",
    "if no>20:\n",
    "    if no%2 == 0:\n",
    "        print('20 even')\n",
    "    else:\n",
    "        print('20 odd')\n",
    "elif no==20:\n",
    "    print('Hip Hip Hurray')\n",
    "else:\n",
    "    if no%2 == 0:\n",
    "        print(no,' even')\n",
    "    else:\n",
    "        print(no,' odd')"
   ]
  },
  {
   "cell_type": "code",
   "execution_count": 49,
   "metadata": {},
   "outputs": [
    {
     "name": "stdout",
     "output_type": "stream",
     "text": [
      "20\n"
     ]
    }
   ],
   "source": [
    "## How to take user input\n",
    "\n",
    "x = int(input()) # by default input takes a string, so if we want to take a no we will type cast it."
   ]
  },
  {
   "cell_type": "code",
   "execution_count": 50,
   "metadata": {},
   "outputs": [
    {
     "name": "stdout",
     "output_type": "stream",
     "text": [
      "<class 'int'>\n"
     ]
    }
   ],
   "source": [
    "print(type(x))"
   ]
  },
  {
   "cell_type": "code",
   "execution_count": 51,
   "metadata": {},
   "outputs": [
    {
     "data": {
      "text/plain": [
       "False"
      ]
     },
     "execution_count": 51,
     "metadata": {},
     "output_type": "execute_result"
    }
   ],
   "source": [
    "x > 30"
   ]
  },
  {
   "cell_type": "code",
   "execution_count": 59,
   "metadata": {},
   "outputs": [
    {
     "name": "stdout",
     "output_type": "stream",
     "text": [
      "apple\n"
     ]
    }
   ],
   "source": [
    "x = input()"
   ]
  },
  {
   "cell_type": "code",
   "execution_count": 60,
   "metadata": {},
   "outputs": [
    {
     "name": "stdout",
     "output_type": "stream",
     "text": [
      "<class 'str'>\n"
     ]
    }
   ],
   "source": [
    "print(type(x))"
   ]
  },
  {
   "cell_type": "code",
   "execution_count": 61,
   "metadata": {},
   "outputs": [
    {
     "name": "stdout",
     "output_type": "stream",
     "text": [
      "apple\n"
     ]
    }
   ],
   "source": [
    "print(x)"
   ]
  },
  {
   "cell_type": "code",
   "execution_count": 57,
   "metadata": {},
   "outputs": [],
   "source": [
    "y = '45'"
   ]
  },
  {
   "cell_type": "code",
   "execution_count": 58,
   "metadata": {},
   "outputs": [
    {
     "name": "stdout",
     "output_type": "stream",
     "text": [
      "<class 'str'>\n"
     ]
    }
   ],
   "source": [
    "print(type(y))"
   ]
  },
  {
   "cell_type": "code",
   "execution_count": 62,
   "metadata": {},
   "outputs": [
    {
     "ename": "TypeError",
     "evalue": "'>' not supported between instances of 'str' and 'int'",
     "output_type": "error",
     "traceback": [
      "\u001b[1;31m---------------------------------------------------------------------------\u001b[0m",
      "\u001b[1;31mTypeError\u001b[0m                                 Traceback (most recent call last)",
      "\u001b[1;32m<ipython-input-62-704c60126261>\u001b[0m in \u001b[0;36m<module>\u001b[1;34m\u001b[0m\n\u001b[1;32m----> 1\u001b[1;33m \u001b[1;34m'45'\u001b[0m \u001b[1;33m>\u001b[0m \u001b[1;36m46\u001b[0m \u001b[1;31m#not allowed in python, comparing different data types\u001b[0m\u001b[1;33m\u001b[0m\u001b[1;33m\u001b[0m\u001b[0m\n\u001b[0m",
      "\u001b[1;31mTypeError\u001b[0m: '>' not supported between instances of 'str' and 'int'"
     ]
    }
   ],
   "source": [
    "'45' > 46 #not allowed in python, comparing different data types"
   ]
  },
  {
   "cell_type": "code",
   "execution_count": 63,
   "metadata": {},
   "outputs": [
    {
     "name": "stdout",
     "output_type": "stream",
     "text": [
      "<class 'int'> 45\n",
      "<class 'str'> 45\n"
     ]
    }
   ],
   "source": [
    "x = '45'\n",
    "y = int(x)\n",
    "z = str(y)\n",
    "print(type(y),y)\n",
    "print(type(z),z)"
   ]
  },
  {
   "cell_type": "code",
   "execution_count": 68,
   "metadata": {},
   "outputs": [
    {
     "name": "stdout",
     "output_type": "stream",
     "text": [
      "4\n",
      "<class 'int'> 4\n"
     ]
    }
   ],
   "source": [
    "x = input()\n",
    "if '.' in x:\n",
    "    y = float(x)\n",
    "else:\n",
    "    y = int(x)\n",
    "print(type(y),y)"
   ]
  },
  {
   "cell_type": "code",
   "execution_count": 70,
   "metadata": {},
   "outputs": [
    {
     "name": "stdout",
     "output_type": "stream",
     "text": [
      "official is  apple\n",
      "official is  mango\n",
      "official is  banana\n",
      "official is  kiwi\n",
      "official is  pineapple\n"
     ]
    }
   ],
   "source": [
    "fruits = ['apple','mango','banana','kiwi','pineapple']\n",
    "\n",
    "for official in fruits:\n",
    "    print('official is ',official)"
   ]
  },
  {
   "cell_type": "code",
   "execution_count": 73,
   "metadata": {},
   "outputs": [
    {
     "name": "stdout",
     "output_type": "stream",
     "text": [
      "RECEIVED PAYTM PAYMENT OF RS 10\n",
      "RECEIVED PAYTM PAYMENT OF RS 40\n",
      "RECEIVED PAYTM PAYMENT OF RS 22\n",
      "RECEIVED PAYTM PAYMENT OF RS 102\n",
      "RECEIVED PAYTM PAYMENT OF RS 15\n",
      "RECEIVED PAYTM PAYMENT OF RS 20\n",
      "RECEIVED PAYTM PAYMENT OF RS 10\n"
     ]
    }
   ],
   "source": [
    "payments_on_paytm_machine = [10,40,22,102,15,20,10]\n",
    "\n",
    "for hari_chandra in payments_on_paytm_machine:\n",
    "    print('RECEIVED PAYTM PAYMENT OF RS',hari_chandra)"
   ]
  },
  {
   "cell_type": "code",
   "execution_count": null,
   "metadata": {},
   "outputs": [],
   "source": [
    "WHEN DO WE USE FOR LOOPS?\n",
    "=> if their is code which we need to run repeatedly for different values."
   ]
  },
  {
   "cell_type": "code",
   "execution_count": 75,
   "metadata": {},
   "outputs": [],
   "source": [
    "bus = ['covid+','covid-','covid+','covid-']\n",
    "\n",
    "# Question : count how many people are covid+ inside the bus"
   ]
  },
  {
   "cell_type": "code",
   "execution_count": 77,
   "metadata": {},
   "outputs": [
    {
     "name": "stdout",
     "output_type": "stream",
     "text": [
      "That there are  2  no of covid cases in london!!\n"
     ]
    }
   ],
   "source": [
    "count = 0\n",
    "for person in bus:\n",
    "    if person == 'covid+':\n",
    "        count = count + 1\n",
    "print('That there are ',count,' no of covid cases in london!!')"
   ]
  },
  {
   "cell_type": "code",
   "execution_count": null,
   "metadata": {},
   "outputs": [],
   "source": []
  }
 ],
 "metadata": {
  "kernelspec": {
   "display_name": "Python 3",
   "language": "python",
   "name": "python3"
  },
  "language_info": {
   "codemirror_mode": {
    "name": "ipython",
    "version": 3
   },
   "file_extension": ".py",
   "mimetype": "text/x-python",
   "name": "python",
   "nbconvert_exporter": "python",
   "pygments_lexer": "ipython3",
   "version": "3.8.3"
  }
 },
 "nbformat": 4,
 "nbformat_minor": 4
}
