{
 "cells": [
  {
   "cell_type": "code",
   "execution_count": null,
   "metadata": {},
   "outputs": [],
   "source": [
    "Strings builtin functions\n",
    "    format\n",
    "    split and join\n",
    "    isupper()\n",
    "    isalpha()\n",
    "    isnum()\n",
    "    isdigit()\n",
    "    count()\n",
    "    index()\n",
    "    find()\n",
    "    rfind()\n",
    "    title()\n",
    "    upper()\n",
    "    lower()\n",
    "    isalnum()\n",
    "    replace()"
   ]
  },
  {
   "cell_type": "code",
   "execution_count": 1,
   "metadata": {},
   "outputs": [
    {
     "data": {
      "text/plain": [
       "'I am No one at Python'"
      ]
     },
     "execution_count": 1,
     "metadata": {},
     "output_type": "execute_result"
    }
   ],
   "source": [
    "'I am No {0} at Python'.format('one')"
   ]
  },
  {
   "cell_type": "code",
   "execution_count": 2,
   "metadata": {},
   "outputs": [
    {
     "data": {
      "text/plain": [
       "'I am No one at Python'"
      ]
     },
     "execution_count": 2,
     "metadata": {},
     "output_type": "execute_result"
    }
   ],
   "source": [
    "'I am No {whichNo} at Python'.format(whichNo='one')"
   ]
  },
  {
   "cell_type": "code",
   "execution_count": 4,
   "metadata": {},
   "outputs": [
    {
     "data": {
      "text/plain": [
       "['I', 'am', 'No', 'one', 'at', 'Python']"
      ]
     },
     "execution_count": 4,
     "metadata": {},
     "output_type": "execute_result"
    }
   ],
   "source": [
    "'I am No one at Python'.split(' ')"
   ]
  },
  {
   "cell_type": "code",
   "execution_count": 5,
   "metadata": {},
   "outputs": [
    {
     "data": {
      "text/plain": [
       "'I am No one at Python'"
      ]
     },
     "execution_count": 5,
     "metadata": {},
     "output_type": "execute_result"
    }
   ],
   "source": [
    "(' ').join(['I', 'am', 'No', 'one', 'at', 'Python'])"
   ]
  },
  {
   "cell_type": "markdown",
   "metadata": {},
   "source": [
    "# lstrip, strip , rstrip"
   ]
  },
  {
   "cell_type": "code",
   "execution_count": 20,
   "metadata": {},
   "outputs": [
    {
     "name": "stdout",
     "output_type": "stream",
     "text": [
      "Java\n"
     ]
    }
   ],
   "source": [
    "x = 'PythonJavaPython'\n",
    "y = x.strip('Python')\n",
    "print(y)"
   ]
  },
  {
   "cell_type": "code",
   "execution_count": 8,
   "metadata": {},
   "outputs": [
    {
     "name": "stdout",
     "output_type": "stream",
     "text": [
      "JavaPython\n"
     ]
    }
   ],
   "source": [
    "x = 'PythonJavaPython'\n",
    "\n",
    "y = x.lstrip('Python')\n",
    "print(y)"
   ]
  },
  {
   "cell_type": "code",
   "execution_count": 10,
   "metadata": {},
   "outputs": [
    {
     "name": "stdout",
     "output_type": "stream",
     "text": [
      "PythonJava\n"
     ]
    }
   ],
   "source": [
    "x = 'PythonJavaPython'\n",
    "\n",
    "y = x.rstrip('Python')\n",
    "print(y)"
   ]
  },
  {
   "cell_type": "markdown",
   "metadata": {},
   "source": [
    "# Lists"
   ]
  },
  {
   "cell_type": "code",
   "execution_count": null,
   "metadata": {},
   "outputs": [],
   "source": [
    "append\n",
    "extend\n",
    "insert"
   ]
  },
  {
   "cell_type": "code",
   "execution_count": 11,
   "metadata": {},
   "outputs": [
    {
     "name": "stdout",
     "output_type": "stream",
     "text": [
      "['apple', 'mango', 'banana', 'kiwi']\n"
     ]
    }
   ],
   "source": [
    "x = ['apple','mango','banana']\n",
    "x.append('kiwi')\n",
    "print(x)"
   ]
  },
  {
   "cell_type": "code",
   "execution_count": 12,
   "metadata": {},
   "outputs": [
    {
     "name": "stdout",
     "output_type": "stream",
     "text": [
      "['apple', 'mango', 'banana', 'kiwi', 'pineapple', 'lichi', 'peach']\n"
     ]
    }
   ],
   "source": [
    "y = ['pineapple','lichi','peach']\n",
    "\n",
    "x.extend(y)\n",
    "\n",
    "print(x)"
   ]
  },
  {
   "cell_type": "code",
   "execution_count": 13,
   "metadata": {},
   "outputs": [
    {
     "name": "stdout",
     "output_type": "stream",
     "text": [
      "['apple', 'kiwi', 'mango', 'banana']\n"
     ]
    }
   ],
   "source": [
    "x = ['apple','mango','banana']\n",
    "\n",
    "x.insert(1,'kiwi')\n",
    "print(x)"
   ]
  },
  {
   "cell_type": "markdown",
   "metadata": {},
   "source": [
    "## deletion in Lists"
   ]
  },
  {
   "cell_type": "code",
   "execution_count": null,
   "metadata": {},
   "outputs": [],
   "source": [
    "### pop => takes index, by default it has the index of last element, returns the element which it removed.\n",
    "\n",
    "### remove => takes value, it will not return anything.\n",
    "\n",
    "### clear => removes all the elements, it makes the list empty.\n",
    "\n",
    "### del => deletes the ref,name as well as the object."
   ]
  },
  {
   "cell_type": "code",
   "execution_count": 21,
   "metadata": {},
   "outputs": [
    {
     "name": "stdout",
     "output_type": "stream",
     "text": [
      "peach\n",
      "['pineapple', 'lichi']\n"
     ]
    }
   ],
   "source": [
    "y = ['pineapple','lichi','peach']\n",
    "\n",
    "returned_value = y.pop()\n",
    "\n",
    "print(returned_value)\n",
    "print(y)"
   ]
  },
  {
   "cell_type": "code",
   "execution_count": 22,
   "metadata": {},
   "outputs": [
    {
     "name": "stdout",
     "output_type": "stream",
     "text": [
      "lichi\n",
      "['pineapple', 'peach']\n"
     ]
    }
   ],
   "source": [
    "y = ['pineapple','lichi','peach']\n",
    "\n",
    "returned_value = y.pop(1)\n",
    "\n",
    "print(returned_value)\n",
    "print(y)"
   ]
  },
  {
   "cell_type": "code",
   "execution_count": 23,
   "metadata": {},
   "outputs": [
    {
     "name": "stdout",
     "output_type": "stream",
     "text": [
      "peach\n",
      "['pineapple']\n"
     ]
    }
   ],
   "source": [
    "returned_value = y.pop(1)\n",
    "\n",
    "print(returned_value)\n",
    "print(y)"
   ]
  },
  {
   "cell_type": "code",
   "execution_count": 25,
   "metadata": {},
   "outputs": [
    {
     "name": "stdout",
     "output_type": "stream",
     "text": [
      "apple\n",
      "['mango', 'banana', 'kiwi', 'pineapple', 'lichi', 'peach']\n"
     ]
    }
   ],
   "source": [
    "y = ['apple', 'mango', 'banana', 'kiwi', 'pineapple', 'lichi', 'peach']\n",
    "\n",
    "returned_value = y.pop(0)\n",
    "\n",
    "print(returned_value)\n",
    "print(y)"
   ]
  },
  {
   "cell_type": "code",
   "execution_count": 28,
   "metadata": {},
   "outputs": [
    {
     "name": "stdout",
     "output_type": "stream",
     "text": [
      "banana\n",
      "['apple', 'mango', 'kiwi', 'pineapple', 'lichi', 'peach']\n"
     ]
    }
   ],
   "source": [
    "y = ['apple', 'mango', 'banana', 'kiwi', 'pineapple', 'lichi', 'peach']\n",
    "\n",
    "returned_value = y.pop(2)\n",
    "\n",
    "print(returned_value)\n",
    "print(y)"
   ]
  },
  {
   "cell_type": "code",
   "execution_count": 29,
   "metadata": {},
   "outputs": [
    {
     "name": "stdout",
     "output_type": "stream",
     "text": [
      "None\n",
      "['apple', 'banana', 'kiwi', 'pineapple', 'lichi', 'peach']\n"
     ]
    }
   ],
   "source": [
    "y = ['apple', 'mango', 'banana', 'kiwi', 'pineapple', 'lichi', 'peach']\n",
    "\n",
    "returned_value = y.remove('mango')\n",
    "\n",
    "print(returned_value)\n",
    "print(y)"
   ]
  },
  {
   "cell_type": "code",
   "execution_count": 30,
   "metadata": {},
   "outputs": [
    {
     "name": "stdout",
     "output_type": "stream",
     "text": [
      "None\n",
      "['apple', 'mango', 'kiwi', 'pineapple', 'lichi', 'peach']\n"
     ]
    }
   ],
   "source": [
    "y = ['apple', 'mango', 'banana', 'kiwi', 'pineapple', 'lichi', 'peach']\n",
    "\n",
    "returned_value = y.remove('banana')\n",
    "\n",
    "print(returned_value)\n",
    "print(y)"
   ]
  },
  {
   "cell_type": "code",
   "execution_count": 31,
   "metadata": {},
   "outputs": [
    {
     "name": "stdout",
     "output_type": "stream",
     "text": [
      "None\n",
      "['apple', 'mango', 'banana', 'pineapple', 'lichi', 'peach']\n"
     ]
    }
   ],
   "source": [
    "y = ['apple', 'mango', 'banana', 'kiwi', 'pineapple', 'lichi', 'peach']\n",
    "\n",
    "returned_value = y.remove('kiwi')\n",
    "\n",
    "print(returned_value)\n",
    "print(y)"
   ]
  },
  {
   "cell_type": "code",
   "execution_count": 35,
   "metadata": {},
   "outputs": [
    {
     "name": "stdout",
     "output_type": "stream",
     "text": [
      "[]\n"
     ]
    }
   ],
   "source": [
    "y = ['apple', 'mango', 'banana', 'kiwi', 'pineapple', 'lichi', 'peach']\n",
    "\n",
    "y.clear()\n",
    "print(y)"
   ]
  },
  {
   "cell_type": "code",
   "execution_count": 36,
   "metadata": {},
   "outputs": [
    {
     "ename": "NameError",
     "evalue": "name 'y' is not defined",
     "output_type": "error",
     "traceback": [
      "\u001b[1;31m---------------------------------------------------------------------------\u001b[0m",
      "\u001b[1;31mNameError\u001b[0m                                 Traceback (most recent call last)",
      "\u001b[1;32m<ipython-input-36-45320dacfaa0>\u001b[0m in \u001b[0;36m<module>\u001b[1;34m\u001b[0m\n\u001b[0;32m      2\u001b[0m \u001b[1;33m\u001b[0m\u001b[0m\n\u001b[0;32m      3\u001b[0m \u001b[1;32mdel\u001b[0m \u001b[0my\u001b[0m\u001b[1;33m\u001b[0m\u001b[1;33m\u001b[0m\u001b[0m\n\u001b[1;32m----> 4\u001b[1;33m \u001b[0mprint\u001b[0m\u001b[1;33m(\u001b[0m\u001b[0my\u001b[0m\u001b[1;33m)\u001b[0m\u001b[1;33m\u001b[0m\u001b[1;33m\u001b[0m\u001b[0m\n\u001b[0m",
      "\u001b[1;31mNameError\u001b[0m: name 'y' is not defined"
     ]
    }
   ],
   "source": [
    "y = ['apple', 'mango', 'banana', 'kiwi', 'pineapple', 'lichi', 'peach']\n",
    "\n",
    "del y\n",
    "print(y)"
   ]
  },
  {
   "cell_type": "markdown",
   "metadata": {},
   "source": [
    "# sort, index, count, reverse,sorted() in lists\n",
    "\n",
    "sorting means arranging elements in an order like ascending or descending based on certain value"
   ]
  },
  {
   "cell_type": "code",
   "execution_count": 37,
   "metadata": {},
   "outputs": [
    {
     "name": "stdout",
     "output_type": "stream",
     "text": [
      "[-40, 10, 300, 4000]\n"
     ]
    }
   ],
   "source": [
    "l = [10,4000,300,-40]\n",
    "\n",
    "l.sort()\n",
    "print(l)"
   ]
  },
  {
   "cell_type": "code",
   "execution_count": 38,
   "metadata": {},
   "outputs": [
    {
     "name": "stdout",
     "output_type": "stream",
     "text": [
      "[4000, 300, 10, -40]\n"
     ]
    }
   ],
   "source": [
    "l = [10,4000,300,-40]\n",
    "\n",
    "l.sort(reverse=True)\n",
    "print(l)"
   ]
  },
  {
   "cell_type": "code",
   "execution_count": 40,
   "metadata": {},
   "outputs": [
    {
     "name": "stdout",
     "output_type": "stream",
     "text": [
      "[600, 83, 78, 53, 0, -3, -45, -90]\n"
     ]
    }
   ],
   "source": [
    "l = [83,-90,78,600,53,0,-45,-3]\n",
    "\n",
    "l.sort(reverse=True)\n",
    "print(l)"
   ]
  },
  {
   "cell_type": "code",
   "execution_count": 43,
   "metadata": {},
   "outputs": [
    {
     "name": "stdout",
     "output_type": "stream",
     "text": [
      "1578664\n",
      "1577960\n",
      "[-90, -45, -3, 0, 53, 78, 83, 600]\n"
     ]
    }
   ],
   "source": [
    "l = [83,-90,78,600,53,0,-45,-3]\n",
    "print(id(l))\n",
    "l = sorted(l)\n",
    "print(id(l))\n",
    "print(l)"
   ]
  },
  {
   "cell_type": "code",
   "execution_count": null,
   "metadata": {},
   "outputs": [],
   "source": [
    "sorted() creates a new list and sorts there.\n",
    "sort() does sorting in the same list."
   ]
  },
  {
   "cell_type": "code",
   "execution_count": 47,
   "metadata": {},
   "outputs": [
    {
     "name": "stdout",
     "output_type": "stream",
     "text": [
      "1\n"
     ]
    }
   ],
   "source": [
    "l = [83,-90,78,600,53,0,-45,-3,-90]\n",
    "\n",
    "print(l.index(-90))"
   ]
  },
  {
   "cell_type": "code",
   "execution_count": null,
   "metadata": {},
   "outputs": [],
   "source": [
    "l = [83,-90,78,600,53,0,-45,-3,-90,600,53,53]\n",
    "Question: How to get all the index positions any number.\n",
    "\n",
    "20:25"
   ]
  },
  {
   "cell_type": "code",
   "execution_count": 56,
   "metadata": {},
   "outputs": [
    {
     "name": "stdout",
     "output_type": "stream",
     "text": [
      "53\n",
      "4\n",
      "10\n",
      "11\n"
     ]
    }
   ],
   "source": [
    "item = int(input())\n",
    "l = [83,-90,78,600,53,0,-45,-3,-90,600,53,53]\n",
    "for i in range(0,len(l)):\n",
    "    if l[i] == item:\n",
    "        print(i)"
   ]
  },
  {
   "cell_type": "code",
   "execution_count": 60,
   "metadata": {},
   "outputs": [
    {
     "name": "stdout",
     "output_type": "stream",
     "text": [
      "53\n",
      "4\n",
      "4\n",
      "4\n"
     ]
    }
   ],
   "source": [
    "item = int(input())\n",
    "l = [83,-90,78,600,53,0,-45,-3,-90,600,53,53]\n",
    "\n",
    "for value in l:\n",
    "    if value == item:\n",
    "        x = l.index(value)\n",
    "        print(x)"
   ]
  },
  {
   "cell_type": "code",
   "execution_count": 62,
   "metadata": {},
   "outputs": [
    {
     "name": "stdout",
     "output_type": "stream",
     "text": [
      "Enter any number-90\n",
      "[83, -90, 78, 600, 53, 0, -45, -3, -90]\n",
      "[83, 78, 600, 53, 0, -45, -3, -90]\n",
      "[83, 78, 600, 53, 0, -45, -3, -90]\n",
      "[83, 78, 600, 53, 0, -45, -3]\n",
      "[83, 78, 600, 53, 0, -45, -3]\n",
      "[1, 7]\n"
     ]
    }
   ],
   "source": [
    "l = [83,-90,78,600,53,0,-45,-3,-90]\n",
    "n=int(input(\"Enter any number\"))\n",
    "ind=[]\n",
    "while(True):\n",
    "    print(l)\n",
    "    if(n in l):\n",
    "        ind.append(l.index(n))\n",
    "        l.remove(n)\n",
    "        print(l)\n",
    "    else:\n",
    "        break\n",
    "print(ind)"
   ]
  },
  {
   "cell_type": "code",
   "execution_count": 65,
   "metadata": {},
   "outputs": [
    {
     "name": "stdout",
     "output_type": "stream",
     "text": [
      "53\n",
      "[83, -90, 78, 600, 53, 0, -45, -3, -90, 600, 53, 53]\n",
      "4\n",
      "[83, -90, 78, 600, None, 0, -45, -3, -90, 600, 53, 53]\n",
      "10\n",
      "[83, -90, 78, 600, None, 0, -45, -3, -90, 600, None, 53]\n",
      "11\n"
     ]
    }
   ],
   "source": [
    "item = int(input())\n",
    "l = [83,-90,78,600,53,0,-45,-3,-90,600,53,53]\n",
    "\n",
    "for value in l:\n",
    "    if value == item:\n",
    "        print(l)\n",
    "        x = l.index(value)\n",
    "        print(x)\n",
    "        l[x] = None"
   ]
  },
  {
   "cell_type": "code",
   "execution_count": 66,
   "metadata": {},
   "outputs": [
    {
     "name": "stdout",
     "output_type": "stream",
     "text": [
      "3\n"
     ]
    }
   ],
   "source": [
    "l = [83,-90,78,600,53,0,-45,-3,-90,600,53,53]\n",
    "\n",
    "count_of_53 = l.count(53)\n",
    "\n",
    "print(count_of_53)"
   ]
  },
  {
   "cell_type": "code",
   "execution_count": 68,
   "metadata": {},
   "outputs": [
    {
     "name": "stdout",
     "output_type": "stream",
     "text": [
      "1\n"
     ]
    }
   ],
   "source": [
    "l = [83,-90,78,600,53,0,-45,-3,-90,600,53,53]\n",
    "\n",
    "count_of_53 = l.count(-45)\n",
    "\n",
    "print(count_of_53)"
   ]
  },
  {
   "cell_type": "code",
   "execution_count": 77,
   "metadata": {},
   "outputs": [
    {
     "name": "stdout",
     "output_type": "stream",
     "text": [
      "[53, 53, 600, -90, -3, -45, 0, 53, 600, 78, -90, 83]\n"
     ]
    }
   ],
   "source": [
    "l = [83,-90,78,600,53,0,-45,-3,-90,600,53,53]\n",
    "\n",
    "k = l[::-1]\n",
    "print(k)"
   ]
  },
  {
   "cell_type": "code",
   "execution_count": 71,
   "metadata": {},
   "outputs": [
    {
     "name": "stdout",
     "output_type": "stream",
     "text": [
      "[53, 53, 600, -90, -3, -45, 0, 53, 600, 78, -90, 83]\n"
     ]
    }
   ],
   "source": [
    "l = [83,-90,78,600,53,0,-45,-3,-90,600,53,53]\n",
    "\n",
    "l.reverse()\n",
    "\n",
    "print(l)"
   ]
  },
  {
   "cell_type": "code",
   "execution_count": null,
   "metadata": {},
   "outputs": [],
   "source": [
    "## Tuples:\n",
    "-> Immutable: update,delete and insert operations like in lists.\n",
    "-> ordered: Indexing and slicing\n",
    "-> Heterogenour: contains all types of data types."
   ]
  },
  {
   "cell_type": "code",
   "execution_count": 72,
   "metadata": {},
   "outputs": [
    {
     "name": "stdout",
     "output_type": "stream",
     "text": [
      "<class 'tuple'>\n"
     ]
    }
   ],
   "source": [
    "# How do you create a tuple with single element?\n",
    "\n",
    "a = (1,2,3,4)\n",
    "print(type(a))"
   ]
  },
  {
   "cell_type": "code",
   "execution_count": 73,
   "metadata": {},
   "outputs": [
    {
     "name": "stdout",
     "output_type": "stream",
     "text": [
      "1\n"
     ]
    }
   ],
   "source": [
    "print(a[0])"
   ]
  },
  {
   "cell_type": "code",
   "execution_count": 74,
   "metadata": {},
   "outputs": [
    {
     "name": "stdout",
     "output_type": "stream",
     "text": [
      "(2, 3)\n"
     ]
    }
   ],
   "source": [
    "print(a[1:3])"
   ]
  },
  {
   "cell_type": "code",
   "execution_count": 75,
   "metadata": {},
   "outputs": [
    {
     "name": "stdout",
     "output_type": "stream",
     "text": [
      "<class 'int'>\n"
     ]
    }
   ],
   "source": [
    "a = (1)\n",
    "\n",
    "print(type(a))"
   ]
  },
  {
   "cell_type": "code",
   "execution_count": 76,
   "metadata": {},
   "outputs": [
    {
     "name": "stdout",
     "output_type": "stream",
     "text": [
      "<class 'tuple'>\n"
     ]
    }
   ],
   "source": [
    "a = (1,)\n",
    "print(type(a))"
   ]
  },
  {
   "cell_type": "code",
   "execution_count": 78,
   "metadata": {},
   "outputs": [
    {
     "ename": "NameError",
     "evalue": "name 'a' is not defined",
     "output_type": "error",
     "traceback": [
      "\u001b[1;31m---------------------------------------------------------------------------\u001b[0m",
      "\u001b[1;31mNameError\u001b[0m                                 Traceback (most recent call last)",
      "\u001b[1;32m<ipython-input-78-6742ff470042>\u001b[0m in \u001b[0;36m<module>\u001b[1;34m\u001b[0m\n\u001b[0;32m      1\u001b[0m \u001b[0ma\u001b[0m \u001b[1;33m=\u001b[0m \u001b[1;33m(\u001b[0m\u001b[1;34m'mango'\u001b[0m\u001b[1;33m,\u001b[0m\u001b[1;34m'kiwi'\u001b[0m\u001b[1;33m)\u001b[0m\u001b[1;33m\u001b[0m\u001b[1;33m\u001b[0m\u001b[0m\n\u001b[0;32m      2\u001b[0m \u001b[1;32mdel\u001b[0m \u001b[0ma\u001b[0m\u001b[1;33m\u001b[0m\u001b[1;33m\u001b[0m\u001b[0m\n\u001b[1;32m----> 3\u001b[1;33m \u001b[0mprint\u001b[0m\u001b[1;33m(\u001b[0m\u001b[0ma\u001b[0m\u001b[1;33m)\u001b[0m\u001b[1;33m\u001b[0m\u001b[1;33m\u001b[0m\u001b[0m\n\u001b[0m",
      "\u001b[1;31mNameError\u001b[0m: name 'a' is not defined"
     ]
    }
   ],
   "source": [
    "a = ('mango','kiwi')\n",
    "del a\n",
    "print(a)"
   ]
  },
  {
   "cell_type": "code",
   "execution_count": null,
   "metadata": {},
   "outputs": [],
   "source": [
    "count, index"
   ]
  },
  {
   "cell_type": "code",
   "execution_count": 79,
   "metadata": {},
   "outputs": [
    {
     "name": "stdout",
     "output_type": "stream",
     "text": [
      "3\n"
     ]
    }
   ],
   "source": [
    "a = ('mango','kiwi','mango','banana','mango')\n",
    "print(a.count('mango'))"
   ]
  },
  {
   "cell_type": "code",
   "execution_count": 81,
   "metadata": {},
   "outputs": [
    {
     "name": "stdout",
     "output_type": "stream",
     "text": [
      "1\n"
     ]
    }
   ],
   "source": [
    "a = ('mango','kiwi','mango','banana','mango')\n",
    "print(a.index('kiwi'))"
   ]
  },
  {
   "cell_type": "code",
   "execution_count": 82,
   "metadata": {},
   "outputs": [
    {
     "name": "stdout",
     "output_type": "stream",
     "text": [
      "Help on built-in function count:\n",
      "\n",
      "count(value, /) method of builtins.tuple instance\n",
      "    Return number of occurrences of value.\n",
      "\n"
     ]
    }
   ],
   "source": [
    "help(a.count)"
   ]
  },
  {
   "cell_type": "code",
   "execution_count": 83,
   "metadata": {},
   "outputs": [
    {
     "name": "stdout",
     "output_type": "stream",
     "text": [
      "Help on built-in function upper:\n",
      "\n",
      "upper() method of builtins.str instance\n",
      "    Return a copy of the string converted to uppercase.\n",
      "\n"
     ]
    }
   ],
   "source": [
    "help('apple'.upper)"
   ]
  },
  {
   "cell_type": "code",
   "execution_count": null,
   "metadata": {},
   "outputs": [],
   "source": [
    "Question: Create two tuples odd and even which will contain even no and odd no from the range(1,20).\n",
    "    \n",
    "20:55"
   ]
  },
  {
   "cell_type": "code",
   "execution_count": 85,
   "metadata": {},
   "outputs": [
    {
     "name": "stdout",
     "output_type": "stream",
     "text": [
      "(1, 3, 5, 7, 9, 11, 13, 15, 17, 19)\n",
      "(2, 4, 6, 8, 10, 12, 14, 16, 18)\n"
     ]
    }
   ],
   "source": [
    "odd = []\n",
    "even = []\n",
    "for i in range(1,20):\n",
    "    if i%2==0:\n",
    "        even.append(i)\n",
    "    else:\n",
    "        odd.append(i)\n",
    "odd_tuple = tuple(odd)\n",
    "even_tuple = tuple(even)\n",
    "print(odd_tuple) \n",
    "print(even_tuple)"
   ]
  },
  {
   "cell_type": "code",
   "execution_count": null,
   "metadata": {},
   "outputs": [],
   "source": []
  }
 ],
 "metadata": {
  "kernelspec": {
   "display_name": "Python 3",
   "language": "python",
   "name": "python3"
  },
  "language_info": {
   "codemirror_mode": {
    "name": "ipython",
    "version": 3
   },
   "file_extension": ".py",
   "mimetype": "text/x-python",
   "name": "python",
   "nbconvert_exporter": "python",
   "pygments_lexer": "ipython3",
   "version": "3.8.3"
  }
 },
 "nbformat": 4,
 "nbformat_minor": 4
}
