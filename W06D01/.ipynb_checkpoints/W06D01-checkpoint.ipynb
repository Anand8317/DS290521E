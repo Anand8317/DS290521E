{
 "cells": [
  {
   "cell_type": "code",
   "execution_count": 3,
   "metadata": {},
   "outputs": [
    {
     "name": "stdout",
     "output_type": "stream",
     "text": [
      "apple123 --> <re.Match object; span=(5, 7), match='12'>\n",
      "mango2 --> None\n",
      "44abc --> <re.Match object; span=(0, 2), match='44'>\n",
      "12345%^&*# --> <re.Match object; span=(0, 2), match='12'>\n"
     ]
    }
   ],
   "source": [
    "import re\n",
    "list_of_words = ['apple123','mango2','44abc','12345%^&*#']\n",
    "\n",
    "for word in list_of_words:\n",
    "    print(word,'-->',re.search('[0-9]{2}',word))"
   ]
  },
  {
   "cell_type": "code",
   "execution_count": 4,
   "metadata": {},
   "outputs": [
    {
     "name": "stdout",
     "output_type": "stream",
     "text": [
      "44apple33 --> <re.Match object; span=(0, 2), match='44'>\n",
      "mango2 --> None\n",
      "44abc --> <re.Match object; span=(0, 2), match='44'>\n",
      "12345%^&*# --> <re.Match object; span=(0, 2), match='12'>\n"
     ]
    }
   ],
   "source": [
    "import re\n",
    "list_of_words = ['44apple33','mango2','44abc','12345%^&*#']\n",
    "\n",
    "for word in list_of_words:\n",
    "    print(word,'-->',re.search('[0-9]{2}',word))"
   ]
  },
  {
   "cell_type": "code",
   "execution_count": 11,
   "metadata": {},
   "outputs": [
    {
     "name": "stdout",
     "output_type": "stream",
     "text": [
      "33\n",
      "44\n",
      "12\n"
     ]
    }
   ],
   "source": [
    "import re\n",
    "list_of_words = ['apple33','mango2','44abc','12345%^&*#']\n",
    "\n",
    "for word in list_of_words:\n",
    "    match_obj = re.search('[0-9]{2}',word)\n",
    "    if match_obj:\n",
    "        print(word[match_obj.span()[0]:match_obj.span()[1]])"
   ]
  },
  {
   "cell_type": "code",
   "execution_count": 15,
   "metadata": {},
   "outputs": [
    {
     "name": "stdout",
     "output_type": "stream",
     "text": [
      "44apple33 --> None\n",
      "mango2 --> None\n",
      "44abc --> None\n",
      "12345%^&*# --> <re.Match object; span=(0, 5), match='12345'>\n",
      "apple447 --> <re.Match object; span=(5, 8), match='447'>\n",
      "abc876 --> <re.Match object; span=(3, 6), match='876'>\n",
      "mango4444 --> <re.Match object; span=(5, 9), match='4444'>\n"
     ]
    }
   ],
   "source": [
    "list_of_words = ['44apple33','mango2','44abc','12345%^&*#','apple447','abc876','mango4444']\n",
    "\n",
    "for word in list_of_words:\n",
    "    print(word,'-->',re.search('[0-9]{3,5}',word))"
   ]
  },
  {
   "cell_type": "code",
   "execution_count": null,
   "metadata": {},
   "outputs": [],
   "source": [
    "Metacharacters:\n",
    "    . (dot) => Matches with all the characters (alpabhets,digits,special chars,etc..)\n",
    "    except the newline char ('\\n')\n",
    "    (matches a single occurence)\n",
    "    \n",
    "    [] Character Class: Rrepresents a set of chars.\n",
    "    A single character class mathces a single occurence.\n",
    "    '[aeiou]' => It will try to search for any one of the vowel if present\n",
    "    '[abc]' => it will only search for a,b,c\n",
    "    '[$ab%123]'\n",
    "    \n",
    "    '[a-z]' => Match anything from lowercase alphabets\n",
    "    '[A-Z]' => Match anything from uppercase alphabets\n",
    "    '[0-9]' => Match anything from digits 0-9\n",
    "    '[a-zA-z]' => uppercase as well as lowercase alphabets.\n",
    "    \n",
    "    {} Counting Stuff\n",
    "    [0-9]{2} => 2 digit number\n",
    "    [a-z]{3} => 3 lowercase alphabets\n",
    "    [a-zA-Z]{5} => combination of upper and lower exactly 5 times.\n",
    "    [0-9]{3,5} => 3,4,5 digit number\n",
    "    \n",
    "    Quantifiers:\n",
    "        Quantifying a metacharacter.\n",
    "        + => atleast 1 or more occurence (for example [0-9]+ this means that a digit will appear atleast 1 or more times.)\n",
    "        \n",
    "        * => 0 or more occurence (for example [0-9]* means that a digit will appear 0 or more number of times.)\n",
    "        \n",
    "        ? => Optional (once or not at all) (for example [0-9]? means that digit will appear 0 or 1 times.)\n",
    "        \n",
    "    Anchors:\n",
    "         ^ => start of the string\n",
    "         $ => end of the string"
   ]
  },
  {
   "cell_type": "code",
   "execution_count": 18,
   "metadata": {},
   "outputs": [
    {
     "name": "stdout",
     "output_type": "stream",
     "text": [
      "apple --> None\n",
      "44apple33 --> <re.Match object; span=(0, 2), match='44'>\n",
      "mango2 --> <re.Match object; span=(5, 6), match='2'>\n",
      "44abc --> <re.Match object; span=(0, 2), match='44'>\n",
      "12345%^&*# --> <re.Match object; span=(0, 5), match='12345'>\n",
      "apple448937489274338977 --> <re.Match object; span=(5, 23), match='448937489274338977'>\n",
      "abc876 --> <re.Match object; span=(3, 6), match='876'>\n",
      "mango4444 --> <re.Match object; span=(5, 9), match='4444'>\n"
     ]
    }
   ],
   "source": [
    "list_of_words = ['apple','44apple33','mango2','44abc','12345%^&*#','apple448937489274338977','abc876','mango4444']\n",
    "\n",
    "for word in list_of_words:\n",
    "    print(word,'-->',re.search('[0-9]+',word))"
   ]
  },
  {
   "cell_type": "code",
   "execution_count": 20,
   "metadata": {},
   "outputs": [
    {
     "name": "stdout",
     "output_type": "stream",
     "text": [
      "applelskdjflksjdfl --> <re.Match object; span=(0, 18), match='applelskdjflksjdfl'>\n",
      "44apple33 --> <re.Match object; span=(2, 7), match='apple'>\n",
      "mango2 --> <re.Match object; span=(0, 5), match='mango'>\n",
      "44abc --> <re.Match object; span=(2, 5), match='abc'>\n",
      "12345%^&*# --> None\n",
      "apple448937489274338977 --> <re.Match object; span=(0, 5), match='apple'>\n",
      "abc876 --> <re.Match object; span=(0, 3), match='abc'>\n",
      "mango4444 --> <re.Match object; span=(0, 5), match='mango'>\n"
     ]
    }
   ],
   "source": [
    "list_of_words = ['applelskdjflksjdfl','44apple33','mango2','44abc','12345%^&*#','apple448937489274338977','abc876','mango4444']\n",
    "\n",
    "for word in list_of_words:\n",
    "    print(word,'-->',re.search('[a-z]+',word))"
   ]
  },
  {
   "cell_type": "code",
   "execution_count": 22,
   "metadata": {},
   "outputs": [
    {
     "name": "stdout",
     "output_type": "stream",
     "text": [
      "applelskdjflksjdfl --> <re.Match object; span=(0, 0), match=''>\n",
      "44apple33 --> <re.Match object; span=(0, 2), match='44'>\n",
      "mango22 --> <re.Match object; span=(0, 0), match=''>\n",
      "44abc --> <re.Match object; span=(0, 2), match='44'>\n",
      "12345%^&*# --> <re.Match object; span=(0, 5), match='12345'>\n",
      "apple448937489274338977 --> <re.Match object; span=(0, 0), match=''>\n",
      "abc876 --> <re.Match object; span=(0, 0), match=''>\n",
      "mango4444 --> <re.Match object; span=(0, 0), match=''>\n"
     ]
    }
   ],
   "source": [
    "list_of_words = ['applelskdjflksjdfl','44apple33','mango22','44abc','12345%^&*#','apple448937489274338977','abc876','mango4444']\n",
    "\n",
    "for word in list_of_words:\n",
    "    print(word,'-->',re.search('[0-9]*',word))"
   ]
  },
  {
   "cell_type": "code",
   "execution_count": 23,
   "metadata": {},
   "outputs": [
    {
     "name": "stdout",
     "output_type": "stream",
     "text": [
      "applelskdjflksjdfl --> ['', '', '', '', '', '', '', '', '', '', '', '', '', '', '', '', '', '', '']\n",
      "44apple33 --> ['44', '', '', '', '', '', '33', '']\n",
      "mango22 --> ['', '', '', '', '', '22', '']\n",
      "44abc --> ['44', '', '', '', '']\n",
      "12345%^&*# --> ['12345', '', '', '', '', '', '']\n",
      "apple448937489274338977 --> ['', '', '', '', '', '448937489274338977', '']\n",
      "abc876 --> ['', '', '', '876', '']\n",
      "mango4444 --> ['', '', '', '', '', '4444', '']\n"
     ]
    }
   ],
   "source": [
    "list_of_words = ['applelskdjflksjdfl','44apple33','mango22','44abc','12345%^&*#','apple448937489274338977','abc876','mango4444']\n",
    "\n",
    "for word in list_of_words:\n",
    "    print(word,'-->',re.findall('[0-9]*',word))"
   ]
  },
  {
   "cell_type": "code",
   "execution_count": null,
   "metadata": {},
   "outputs": [],
   "source": [
    "Write a regx where pattern starts with a and contain either 0 or more no of numbers and followed by z"
   ]
  },
  {
   "cell_type": "code",
   "execution_count": 28,
   "metadata": {},
   "outputs": [
    {
     "name": "stdout",
     "output_type": "stream",
     "text": [
      "<re.Match object; span=(0, 2), match='az'>\n",
      "<re.Match object; span=(0, 9), match='a3748982z'>\n",
      "<re.Match object; span=(0, 3), match='a1z'>\n",
      "<re.Match object; span=(0, 6), match='a6778z'>\n",
      "<re.Match object; span=(0, 8), match='a789000z'>\n",
      "None\n",
      "None\n",
      "None\n",
      "<re.Match object; span=(5, 9), match='a12z'>\n"
     ]
    }
   ],
   "source": [
    "list_of_words = ['az',\n",
    "'a3748982z',\n",
    "'a1z',\n",
    "'a6778z',\n",
    "'a789000z',\n",
    "'a#$J%z',\n",
    "'aAJDFSKLz',\n",
    "'asjkdz',\n",
    "'APPLEa12z555a786z']\n",
    "\n",
    "regx = 'a[0-9]*z'\n",
    "\n",
    "for word in list_of_words:\n",
    "    print(re.search(regx,word))"
   ]
  },
  {
   "cell_type": "code",
   "execution_count": 30,
   "metadata": {},
   "outputs": [
    {
     "name": "stdout",
     "output_type": "stream",
     "text": [
      "<re.Match object; span=(0, 2), match='az'>\n",
      "<re.Match object; span=(0, 9), match='a3748982z'>\n",
      "<re.Match object; span=(0, 3), match='a1z'>\n",
      "<re.Match object; span=(0, 6), match='a6778z'>\n",
      "<re.Match object; span=(0, 8), match='a789000z'>\n",
      "None\n",
      "None\n",
      "None\n",
      "None\n"
     ]
    }
   ],
   "source": [
    "# ^ ANCHOR MEANS START OF THE STRING\n",
    "\n",
    "list_of_words = ['az',\n",
    "'a3748982z',\n",
    "'a1z',\n",
    "'a6778z',\n",
    "'a789000z',\n",
    "'a#$J%z',\n",
    "'aAJDFSKLz',\n",
    "'asjkdz',\n",
    "'APPLEa12z555a786z']\n",
    "\n",
    "regx = '^a[0-9]*z$'\n",
    "\n",
    "for word in list_of_words:\n",
    "    print(re.search(regx,word))"
   ]
  },
  {
   "cell_type": "code",
   "execution_count": 33,
   "metadata": {},
   "outputs": [
    {
     "name": "stdout",
     "output_type": "stream",
     "text": [
      "<re.Match object; span=(0, 5), match='apple'>\n",
      "None\n",
      "None\n",
      "None\n",
      "<re.Match object; span=(0, 8), match='appyfizz'>\n"
     ]
    }
   ],
   "source": [
    "# ^ ANCHOR MEANS START OF THE STRING\n",
    "\n",
    "list_of_words = ['apple','mango','banana','pineapple','appyfizz']\n",
    "\n",
    "regx = '^a.*'\n",
    "\n",
    "for word in list_of_words:\n",
    "    print(re.search(regx,word))"
   ]
  },
  {
   "cell_type": "code",
   "execution_count": 41,
   "metadata": {},
   "outputs": [
    {
     "name": "stdout",
     "output_type": "stream",
     "text": [
      "None\n",
      "None\n",
      "None\n",
      "<re.Match object; span=(0, 10), match='@pineapple'>\n",
      "None\n",
      "<re.Match object; span=(0, 1), match='@'>\n"
     ]
    }
   ],
   "source": [
    "# ^ ANCHOR MEANS START OF THE STRING\n",
    "\n",
    "list_of_words = ['apple','m@ango','banana','@pineapple','appyfizz','@']\n",
    "\n",
    "regx = '^@.*'\n",
    "\n",
    "for word in list_of_words:\n",
    "    print(re.search(regx,word))"
   ]
  },
  {
   "cell_type": "code",
   "execution_count": 43,
   "metadata": {},
   "outputs": [
    {
     "name": "stdout",
     "output_type": "stream",
     "text": [
      "None\n",
      "None\n",
      "None\n",
      "None\n",
      "<re.Match object; span=(0, 8), match='appyfizz'>\n",
      "<re.Match object; span=(0, 2), match='@z'>\n"
     ]
    }
   ],
   "source": [
    "# $ ANCHOR MEANS END OF THE STRING\n",
    "\n",
    "list_of_words = ['appzzle','m@anzzzzgo','banzzzana','@pizzzneapple','appyfizz','@z']\n",
    "\n",
    "regx = '.*z$'\n",
    "\n",
    "for word in list_of_words:\n",
    "    print(re.search(regx,word))"
   ]
  },
  {
   "cell_type": "markdown",
   "metadata": {},
   "source": [
    "# Q1.) Write a regX to match a 3 digit number followed by abc."
   ]
  },
  {
   "cell_type": "markdown",
   "metadata": {},
   "source": [
    "# Q2.) Write a regX to match a 3 digit number followed by 3 small alphabets"
   ]
  },
  {
   "cell_type": "markdown",
   "metadata": {},
   "source": [
    "# Q3.) Write a regX that start with a and end with z. \"az,ae8934593u45jeksz,a234234z\""
   ]
  },
  {
   "cell_type": "code",
   "execution_count": null,
   "metadata": {},
   "outputs": [],
   "source": [
    "# ans 1)\n",
    "regx = '[0-9]{3}abc'\n",
    "\n",
    "'888abc'\n",
    "'apple978abczzzz'"
   ]
  },
  {
   "cell_type": "code",
   "execution_count": null,
   "metadata": {},
   "outputs": [],
   "source": [
    "# ans 2)\n",
    "regx = '[0-9]{3}[a-z]{3}'\n",
    "\n",
    "'888xyz'\n",
    "'897abc'\n",
    "'567tuh'\n",
    "'234txu'"
   ]
  },
  {
   "cell_type": "code",
   "execution_count": 45,
   "metadata": {},
   "outputs": [
    {
     "data": {
      "text/plain": [
       "'a34z'"
      ]
     },
     "execution_count": 45,
     "metadata": {},
     "output_type": "execute_result"
    }
   ],
   "source": [
    "# ans 3)\n",
    "regx = '^a.*$z'\n",
    "'az'\n",
    "'asjdkfljs23949z'\n",
    "'a34z'\n",
    "\n",
    "'MANGOpplea9848z' -> Not a match"
   ]
  },
  {
   "cell_type": "markdown",
   "metadata": {},
   "source": [
    "# Q4.) Write a regX that should match a pattern having atmost 3 occurences of small alphabets.(atmost?? 0-till limit)"
   ]
  },
  {
   "cell_type": "markdown",
   "metadata": {},
   "source": [
    "# Q.5) Write a program to print hello world if the given_string start with a and end with z (make a function to do this task)"
   ]
  },
  {
   "cell_type": "code",
   "execution_count": null,
   "metadata": {},
   "outputs": [],
   "source": [
    "# ans 4)\n",
    "regx = '[a-z]{0,3}'"
   ]
  },
  {
   "cell_type": "code",
   "execution_count": 46,
   "metadata": {},
   "outputs": [],
   "source": [
    "# ans 5)\n",
    "def task(string):\n",
    "    if re.search('^a.*z$',string):\n",
    "        print('hello world!!')"
   ]
  },
  {
   "cell_type": "code",
   "execution_count": 47,
   "metadata": {},
   "outputs": [
    {
     "name": "stdout",
     "output_type": "stream",
     "text": [
      "hello world!!\n"
     ]
    }
   ],
   "source": [
    "task('amangoz')"
   ]
  },
  {
   "cell_type": "code",
   "execution_count": 48,
   "metadata": {},
   "outputs": [],
   "source": [
    "task('aghjkdsfZ')"
   ]
  },
  {
   "cell_type": "code",
   "execution_count": 49,
   "metadata": {},
   "outputs": [],
   "source": [
    "import re"
   ]
  },
  {
   "cell_type": "code",
   "execution_count": null,
   "metadata": {},
   "outputs": [],
   "source": []
  }
 ],
 "metadata": {
  "kernelspec": {
   "display_name": "Python 3",
   "language": "python",
   "name": "python3"
  },
  "language_info": {
   "codemirror_mode": {
    "name": "ipython",
    "version": 3
   },
   "file_extension": ".py",
   "mimetype": "text/x-python",
   "name": "python",
   "nbconvert_exporter": "python",
   "pygments_lexer": "ipython3",
   "version": "3.8.3"
  }
 },
 "nbformat": 4,
 "nbformat_minor": 4
}
