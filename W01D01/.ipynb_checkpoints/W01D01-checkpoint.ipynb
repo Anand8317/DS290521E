{
 "cells": [
  {
   "cell_type": "code",
   "execution_count": null,
   "metadata": {},
   "outputs": [],
   "source": [
    "I want you guys to be ready with two things in this week:\n",
    "    1) Python Installation\n",
    "    2) Jupyter Notebook Installation\n",
    "    \n",
    "How to Resolve Installation Problems:\n",
    "1) Try to redo the Way I did in the session (Redo all the steps in correct order)\n",
    "2) I will be making a Query statement in the Teams where you have to respond like\n",
    "Python or Jupyter Notebook OR YOU CAN WRITE BOTH.\n",
    "\n",
    "ALTERNATIVES: (Only 1st Week)\n",
    "1) Use Jupyter Notebook Try on Google\n",
    "2) Google Colab"
   ]
  },
  {
   "cell_type": "code",
   "execution_count": null,
   "metadata": {},
   "outputs": [],
   "source": [
    "what does In [] means?\n",
    "In[1] means that this was the first executed cell.\n",
    "In[2] means that this is the second executed cell."
   ]
  },
  {
   "cell_type": "code",
   "execution_count": 4,
   "metadata": {},
   "outputs": [
    {
     "name": "stdout",
     "output_type": "stream",
     "text": [
      "hello world\n"
     ]
    }
   ],
   "source": [
    "print('hello world')"
   ]
  },
  {
   "cell_type": "code",
   "execution_count": 6,
   "metadata": {},
   "outputs": [
    {
     "name": "stdout",
     "output_type": "stream",
     "text": [
      "Priyal Jain\n"
     ]
    }
   ],
   "source": [
    "print('Priyal Jain')"
   ]
  },
  {
   "cell_type": "code",
   "execution_count": null,
   "metadata": {},
   "outputs": [],
   "source": [
    "What is a cell?"
   ]
  },
  {
   "cell_type": "code",
   "execution_count": null,
   "metadata": {},
   "outputs": [],
   "source": [
    "How to run a cell? (Executing python code present inside the cell)\n",
    "BY pressing SHIFT+ENTER => IT AUTOMATICALLY ADDS ONE MORE CELL AFTER EXECUTING"
   ]
  },
  {
   "cell_type": "code",
   "execution_count": 7,
   "metadata": {},
   "outputs": [
    {
     "name": "stdout",
     "output_type": "stream",
     "text": [
      "105\n"
     ]
    }
   ],
   "source": [
    "a = 45\n",
    "b = 60\n",
    "print(a+b)"
   ]
  },
  {
   "cell_type": "code",
   "execution_count": null,
   "metadata": {},
   "outputs": [],
   "source": [
    "how to add cell without executing? Click on the Plus Icon on the tools Array"
   ]
  },
  {
   "cell_type": "code",
   "execution_count": 9,
   "metadata": {},
   "outputs": [],
   "source": [
    "Outline Color of a Cell\n",
    "Green=> Type Code/Text(Markdown)\n",
    "Blue => CMD MODE (You can not type code or text ...)\n",
    "\n",
    "How do you get into a cmd mode?\n",
    "By Pressing ESC\n",
    "\n",
    "CMD mode can be used to:\n",
    "1) Delete a cell by going into cmd mode and pressing dd (d twice)\n",
    "2) Converting the cell into markdown by going into cmd mode and pressing m"
   ]
  },
  {
   "cell_type": "markdown",
   "metadata": {},
   "source": [
    "# Heading\n",
    "## Sub Heading\n",
    "### Sub sub Heading"
   ]
  },
  {
   "cell_type": "markdown",
   "metadata": {},
   "source": [
    "## We are learning Python and we will love it!!"
   ]
  },
  {
   "cell_type": "code",
   "execution_count": 11,
   "metadata": {},
   "outputs": [],
   "source": [
    "a = 45"
   ]
  },
  {
   "cell_type": "code",
   "execution_count": 12,
   "metadata": {},
   "outputs": [],
   "source": [
    "b = 60"
   ]
  },
  {
   "cell_type": "code",
   "execution_count": 13,
   "metadata": {},
   "outputs": [
    {
     "name": "stdout",
     "output_type": "stream",
     "text": [
      "105\n"
     ]
    }
   ],
   "source": [
    "print(a+b)"
   ]
  },
  {
   "cell_type": "code",
   "execution_count": null,
   "metadata": {},
   "outputs": [],
   "source": []
  }
 ],
 "metadata": {
  "kernelspec": {
   "display_name": "Python 3",
   "language": "python",
   "name": "python3"
  },
  "language_info": {
   "codemirror_mode": {
    "name": "ipython",
    "version": 3
   },
   "file_extension": ".py",
   "mimetype": "text/x-python",
   "name": "python",
   "nbconvert_exporter": "python",
   "pygments_lexer": "ipython3",
   "version": "3.8.3"
  }
 },
 "nbformat": 4,
 "nbformat_minor": 4
}
