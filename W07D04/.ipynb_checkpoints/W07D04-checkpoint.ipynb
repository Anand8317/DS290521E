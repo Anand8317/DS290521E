{
 "cells": [
  {
   "cell_type": "code",
   "execution_count": null,
   "metadata": {},
   "outputs": [],
   "source": [
    "# Inheritance"
   ]
  },
  {
   "cell_type": "code",
   "execution_count": 4,
   "metadata": {},
   "outputs": [],
   "source": [
    "class Animal:\n",
    "    animal = None\n",
    "    def __init__(self,name,age):\n",
    "        self.name = name\n",
    "        self.age = age\n",
    "        \n",
    "    def eat(self):\n",
    "        print(self.name,' is eating')\n",
    "        \n",
    "    def sleep(self):\n",
    "        print(self.name,' is sleeping')\n",
    "        \n",
    "class Dog(Animal):\n",
    "    Animal.animal = 'Dog'\n",
    "    breed = None\n",
    "    def bark(self):\n",
    "        print(self.name,'is barking')\n",
    "        \n",
    "    def eat(self):\n",
    "        print(self.name,' is eating very loudly')"
   ]
  },
  {
   "cell_type": "code",
   "execution_count": 5,
   "metadata": {},
   "outputs": [],
   "source": [
    "yuki = Dog('Yuki Singh',6)"
   ]
  },
  {
   "cell_type": "code",
   "execution_count": 6,
   "metadata": {},
   "outputs": [
    {
     "name": "stdout",
     "output_type": "stream",
     "text": [
      "Yuki Singh  is eating very loudly\n"
     ]
    }
   ],
   "source": [
    "yuki.eat()"
   ]
  },
  {
   "cell_type": "code",
   "execution_count": 7,
   "metadata": {},
   "outputs": [
    {
     "name": "stdout",
     "output_type": "stream",
     "text": [
      "Help on Dog in module __main__ object:\n",
      "\n",
      "class Dog(Animal)\n",
      " |  Dog(name, age)\n",
      " |  \n",
      " |  Method resolution order:\n",
      " |      Dog\n",
      " |      Animal\n",
      " |      builtins.object\n",
      " |  \n",
      " |  Methods defined here:\n",
      " |  \n",
      " |  bark(self)\n",
      " |  \n",
      " |  eat(self)\n",
      " |  \n",
      " |  ----------------------------------------------------------------------\n",
      " |  Data and other attributes defined here:\n",
      " |  \n",
      " |  breed = None\n",
      " |  \n",
      " |  ----------------------------------------------------------------------\n",
      " |  Methods inherited from Animal:\n",
      " |  \n",
      " |  __init__(self, name, age)\n",
      " |      Initialize self.  See help(type(self)) for accurate signature.\n",
      " |  \n",
      " |  sleep(self)\n",
      " |  \n",
      " |  ----------------------------------------------------------------------\n",
      " |  Data descriptors inherited from Animal:\n",
      " |  \n",
      " |  __dict__\n",
      " |      dictionary for instance variables (if defined)\n",
      " |  \n",
      " |  __weakref__\n",
      " |      list of weak references to the object (if defined)\n",
      " |  \n",
      " |  ----------------------------------------------------------------------\n",
      " |  Data and other attributes inherited from Animal:\n",
      " |  \n",
      " |  animal = 'Dog'\n",
      "\n"
     ]
    }
   ],
   "source": [
    "help(yuki)\n",
    "\n",
    "Method Overriding: Writing the same method in child class is known as method overriding, as when we call the method,\n",
    "    child class method will be called."
   ]
  },
  {
   "cell_type": "code",
   "execution_count": 8,
   "metadata": {},
   "outputs": [],
   "source": [
    "class Animal:\n",
    "    animal = None\n",
    "    def __init__(self,name,age):\n",
    "        self.name = name\n",
    "        self.age = age\n",
    "        \n",
    "    def eat(self):\n",
    "        print(self.name,' is eating')\n",
    "        \n",
    "    def sleep(self):\n",
    "        print(self.name,' is sleeping')\n",
    "        \n",
    "class Dog(Animal):\n",
    "    Animal.animal = 'Dog'\n",
    "    breed = None\n",
    "    def bark(self):\n",
    "        print(self.name,'is barking')\n",
    "        \n",
    "    def eat(self):\n",
    "        print(self.name,' is eating very loudly')\n",
    "        \n",
    "class Labrador(Dog):\n",
    "    Dog.breed = 'Labrador'\n",
    "    def smile(self):\n",
    "        print(self.name,' is smiling')"
   ]
  },
  {
   "cell_type": "code",
   "execution_count": 9,
   "metadata": {},
   "outputs": [],
   "source": [
    "yuki = Labrador('Yuki Singh',6)"
   ]
  },
  {
   "cell_type": "code",
   "execution_count": 10,
   "metadata": {},
   "outputs": [
    {
     "name": "stdout",
     "output_type": "stream",
     "text": [
      "Yuki Singh  is smiling\n"
     ]
    }
   ],
   "source": [
    "yuki.smile()"
   ]
  },
  {
   "cell_type": "code",
   "execution_count": 11,
   "metadata": {},
   "outputs": [
    {
     "name": "stdout",
     "output_type": "stream",
     "text": [
      "Yuki Singh  is eating very loudly\n"
     ]
    }
   ],
   "source": [
    "yuki.eat()"
   ]
  },
  {
   "cell_type": "code",
   "execution_count": 12,
   "metadata": {},
   "outputs": [
    {
     "name": "stdout",
     "output_type": "stream",
     "text": [
      "Yuki Singh  is sleeping\n"
     ]
    }
   ],
   "source": [
    "yuki.sleep()"
   ]
  },
  {
   "cell_type": "code",
   "execution_count": 13,
   "metadata": {},
   "outputs": [
    {
     "name": "stdout",
     "output_type": "stream",
     "text": [
      "Help on Labrador in module __main__ object:\n",
      "\n",
      "class Labrador(Dog)\n",
      " |  Labrador(name, age)\n",
      " |  \n",
      " |  Method resolution order:\n",
      " |      Labrador\n",
      " |      Dog\n",
      " |      Animal\n",
      " |      builtins.object\n",
      " |  \n",
      " |  Methods defined here:\n",
      " |  \n",
      " |  smile(self)\n",
      " |  \n",
      " |  ----------------------------------------------------------------------\n",
      " |  Methods inherited from Dog:\n",
      " |  \n",
      " |  bark(self)\n",
      " |  \n",
      " |  eat(self)\n",
      " |  \n",
      " |  ----------------------------------------------------------------------\n",
      " |  Data and other attributes inherited from Dog:\n",
      " |  \n",
      " |  breed = 'Labrador'\n",
      " |  \n",
      " |  ----------------------------------------------------------------------\n",
      " |  Methods inherited from Animal:\n",
      " |  \n",
      " |  __init__(self, name, age)\n",
      " |      Initialize self.  See help(type(self)) for accurate signature.\n",
      " |  \n",
      " |  sleep(self)\n",
      " |  \n",
      " |  ----------------------------------------------------------------------\n",
      " |  Data descriptors inherited from Animal:\n",
      " |  \n",
      " |  __dict__\n",
      " |      dictionary for instance variables (if defined)\n",
      " |  \n",
      " |  __weakref__\n",
      " |      list of weak references to the object (if defined)\n",
      " |  \n",
      " |  ----------------------------------------------------------------------\n",
      " |  Data and other attributes inherited from Animal:\n",
      " |  \n",
      " |  animal = 'Dog'\n",
      "\n"
     ]
    }
   ],
   "source": [
    "help(yuki)"
   ]
  },
  {
   "cell_type": "code",
   "execution_count": 14,
   "metadata": {},
   "outputs": [],
   "source": [
    "class P1:\n",
    "    def __init__(self):\n",
    "        print('in P1')\n",
    "        \n",
    "class P2:\n",
    "    def __init__(self):\n",
    "        print('in P2')\n",
    "        \n",
    "class P3:\n",
    "    def __init__(self):\n",
    "        print('in P3')\n",
    "        \n",
    "class child(P1,P2,P3):\n",
    "    def __init__(self):\n",
    "        print('in child')"
   ]
  },
  {
   "cell_type": "code",
   "execution_count": 15,
   "metadata": {},
   "outputs": [
    {
     "name": "stdout",
     "output_type": "stream",
     "text": [
      "in child\n"
     ]
    }
   ],
   "source": [
    "obj = child()"
   ]
  },
  {
   "cell_type": "code",
   "execution_count": 16,
   "metadata": {},
   "outputs": [
    {
     "name": "stdout",
     "output_type": "stream",
     "text": [
      "Help on child in module __main__ object:\n",
      "\n",
      "class child(P1, P2, P3)\n",
      " |  Method resolution order:\n",
      " |      child\n",
      " |      P1\n",
      " |      P2\n",
      " |      P3\n",
      " |      builtins.object\n",
      " |  \n",
      " |  Methods defined here:\n",
      " |  \n",
      " |  __init__(self)\n",
      " |      Initialize self.  See help(type(self)) for accurate signature.\n",
      " |  \n",
      " |  ----------------------------------------------------------------------\n",
      " |  Data descriptors inherited from P1:\n",
      " |  \n",
      " |  __dict__\n",
      " |      dictionary for instance variables (if defined)\n",
      " |  \n",
      " |  __weakref__\n",
      " |      list of weak references to the object (if defined)\n",
      "\n"
     ]
    }
   ],
   "source": [
    "help(obj)"
   ]
  },
  {
   "cell_type": "code",
   "execution_count": 17,
   "metadata": {},
   "outputs": [],
   "source": [
    "class P1:\n",
    "    def __init__(self):\n",
    "        print('in P1')\n",
    "        \n",
    "class P2:\n",
    "    def __init__(self):\n",
    "        print('in P2')\n",
    "        \n",
    "class P3:\n",
    "    def __init__(self):\n",
    "        print('in P3')\n",
    "        \n",
    "class child(P2,P1,P3):\n",
    "    def __init__(self):\n",
    "        print('in child')"
   ]
  },
  {
   "cell_type": "code",
   "execution_count": 18,
   "metadata": {},
   "outputs": [
    {
     "name": "stdout",
     "output_type": "stream",
     "text": [
      "in child\n"
     ]
    }
   ],
   "source": [
    "obj1 = child()"
   ]
  },
  {
   "cell_type": "code",
   "execution_count": 19,
   "metadata": {},
   "outputs": [
    {
     "name": "stdout",
     "output_type": "stream",
     "text": [
      "Help on child in module __main__ object:\n",
      "\n",
      "class child(P2, P1, P3)\n",
      " |  Method resolution order:\n",
      " |      child\n",
      " |      P2\n",
      " |      P1\n",
      " |      P3\n",
      " |      builtins.object\n",
      " |  \n",
      " |  Methods defined here:\n",
      " |  \n",
      " |  __init__(self)\n",
      " |      Initialize self.  See help(type(self)) for accurate signature.\n",
      " |  \n",
      " |  ----------------------------------------------------------------------\n",
      " |  Data descriptors inherited from P2:\n",
      " |  \n",
      " |  __dict__\n",
      " |      dictionary for instance variables (if defined)\n",
      " |  \n",
      " |  __weakref__\n",
      " |      list of weak references to the object (if defined)\n",
      "\n"
     ]
    }
   ],
   "source": [
    "help(obj1)"
   ]
  },
  {
   "cell_type": "code",
   "execution_count": 20,
   "metadata": {},
   "outputs": [],
   "source": [
    "class Animal:\n",
    "    animal = None\n",
    "    def __init__(self,name,age):\n",
    "        self.name = name\n",
    "        self.age = age\n",
    "        \n",
    "    def eat(self):\n",
    "        print(self.name,' is eating')\n",
    "        \n",
    "    def sleep(self):\n",
    "        print(self.name,' is sleeping')\n",
    "        \n",
    "class Dog(Animal):\n",
    "    Animal.animal = 'Dog'\n",
    "    breed = None\n",
    "    def bark(self):\n",
    "        print(self.name,'is barking')\n",
    "        \n",
    "    def eat(self):\n",
    "        print(self.name,' is eating very loudly')\n",
    "        \n",
    "class Labrador(Dog):\n",
    "    Dog.breed = 'Labrador'\n",
    "    def smile(self):\n",
    "        print(self.name,' is smiling')\n",
    "        \n",
    "class BullDog(Dog):\n",
    "    Dog.breed = 'bulldog'\n",
    "    def smile(self):\n",
    "        print(self.name,' is smiling dangerously')"
   ]
  },
  {
   "cell_type": "code",
   "execution_count": 22,
   "metadata": {},
   "outputs": [],
   "source": [
    "mac = BullDog('Mac Singh',4)"
   ]
  },
  {
   "cell_type": "code",
   "execution_count": 23,
   "metadata": {},
   "outputs": [
    {
     "name": "stdout",
     "output_type": "stream",
     "text": [
      "Mac Singh  is smiling dangerously\n"
     ]
    }
   ],
   "source": [
    "mac.smile()"
   ]
  },
  {
   "cell_type": "code",
   "execution_count": 24,
   "metadata": {},
   "outputs": [
    {
     "name": "stdout",
     "output_type": "stream",
     "text": [
      "Mac Singh  is eating very loudly\n"
     ]
    }
   ],
   "source": [
    "mac.eat()"
   ]
  },
  {
   "cell_type": "code",
   "execution_count": 25,
   "metadata": {},
   "outputs": [
    {
     "name": "stdout",
     "output_type": "stream",
     "text": [
      "Mac Singh  is sleeping\n"
     ]
    }
   ],
   "source": [
    "mac.sleep()"
   ]
  },
  {
   "cell_type": "code",
   "execution_count": 31,
   "metadata": {},
   "outputs": [],
   "source": [
    "class P1:\n",
    "    def __init__(self):\n",
    "        print('in P1')\n",
    "    \n",
    "    def eat(self):\n",
    "        print(\" I am enjoying!! Python\")\n",
    "        \n",
    "class P2:\n",
    "    def __init__(self):\n",
    "        print('in P2')\n",
    "        super().eat()\n",
    "        \n",
    "class P3:\n",
    "    def __init__(self):\n",
    "        print('in P3')\n",
    "        \n",
    "class child(P2,P1,P3):\n",
    "    def __init__(self):\n",
    "        print('in child')\n",
    "        super().__init__()"
   ]
  },
  {
   "cell_type": "code",
   "execution_count": 32,
   "metadata": {},
   "outputs": [
    {
     "name": "stdout",
     "output_type": "stream",
     "text": [
      "in child\n",
      "in P2\n",
      " I am enjoying!! Python\n"
     ]
    }
   ],
   "source": [
    "yuki = child()"
   ]
  },
  {
   "cell_type": "code",
   "execution_count": 28,
   "metadata": {},
   "outputs": [
    {
     "name": "stdout",
     "output_type": "stream",
     "text": [
      "Help on child in module __main__ object:\n",
      "\n",
      "class child(P2, P1, P3)\n",
      " |  Method resolution order:\n",
      " |      child\n",
      " |      P2\n",
      " |      P1\n",
      " |      P3\n",
      " |      builtins.object\n",
      " |  \n",
      " |  Methods defined here:\n",
      " |  \n",
      " |  __init__(self)\n",
      " |      Initialize self.  See help(type(self)) for accurate signature.\n",
      " |  \n",
      " |  ----------------------------------------------------------------------\n",
      " |  Data descriptors inherited from P2:\n",
      " |  \n",
      " |  __dict__\n",
      " |      dictionary for instance variables (if defined)\n",
      " |  \n",
      " |  __weakref__\n",
      " |      list of weak references to the object (if defined)\n",
      "\n"
     ]
    }
   ],
   "source": [
    "help(yuki)"
   ]
  },
  {
   "cell_type": "code",
   "execution_count": 33,
   "metadata": {},
   "outputs": [],
   "source": [
    "class Animal:\n",
    "    animal = None\n",
    "    def __init__(self,name,age):\n",
    "        self.name = name\n",
    "        self.age = age\n",
    "        \n",
    "    def eat(self):\n",
    "        print(self.name,' is eating')\n",
    "        \n",
    "    def sleep(self):\n",
    "        print(self.name,' is sleeping')\n",
    "        \n",
    "class Dog(Animal):\n",
    "    Animal.animal = 'Dog'\n",
    "    breed = None\n",
    "    def bark(self):\n",
    "        print(self.name,'is barking')\n",
    "        \n",
    "    def eat(self):\n",
    "        print(self.name,' is eating very loudly')\n",
    "        \n",
    "class Labrador(Dog):\n",
    "    Dog.breed = 'Labrador'\n",
    "    def smile(self):\n",
    "        print(self.name,' is smiling')\n",
    "        super().eat()"
   ]
  },
  {
   "cell_type": "code",
   "execution_count": 34,
   "metadata": {},
   "outputs": [],
   "source": [
    "yuki = Labrador('Yuki Singh',6)"
   ]
  },
  {
   "cell_type": "code",
   "execution_count": 35,
   "metadata": {},
   "outputs": [
    {
     "name": "stdout",
     "output_type": "stream",
     "text": [
      "Yuki Singh  is smiling\n",
      "Yuki Singh  is eating very loudly\n"
     ]
    }
   ],
   "source": [
    "yuki.smile()"
   ]
  },
  {
   "cell_type": "code",
   "execution_count": 36,
   "metadata": {},
   "outputs": [
    {
     "name": "stdout",
     "output_type": "stream",
     "text": [
      "Help on Labrador in module __main__ object:\n",
      "\n",
      "class Labrador(Dog)\n",
      " |  Labrador(name, age)\n",
      " |  \n",
      " |  Method resolution order:\n",
      " |      Labrador\n",
      " |      Dog\n",
      " |      Animal\n",
      " |      builtins.object\n",
      " |  \n",
      " |  Methods defined here:\n",
      " |  \n",
      " |  smile(self)\n",
      " |  \n",
      " |  ----------------------------------------------------------------------\n",
      " |  Methods inherited from Dog:\n",
      " |  \n",
      " |  bark(self)\n",
      " |  \n",
      " |  eat(self)\n",
      " |  \n",
      " |  ----------------------------------------------------------------------\n",
      " |  Data and other attributes inherited from Dog:\n",
      " |  \n",
      " |  breed = 'Labrador'\n",
      " |  \n",
      " |  ----------------------------------------------------------------------\n",
      " |  Methods inherited from Animal:\n",
      " |  \n",
      " |  __init__(self, name, age)\n",
      " |      Initialize self.  See help(type(self)) for accurate signature.\n",
      " |  \n",
      " |  sleep(self)\n",
      " |  \n",
      " |  ----------------------------------------------------------------------\n",
      " |  Data descriptors inherited from Animal:\n",
      " |  \n",
      " |  __dict__\n",
      " |      dictionary for instance variables (if defined)\n",
      " |  \n",
      " |  __weakref__\n",
      " |      list of weak references to the object (if defined)\n",
      " |  \n",
      " |  ----------------------------------------------------------------------\n",
      " |  Data and other attributes inherited from Animal:\n",
      " |  \n",
      " |  animal = 'Dog'\n",
      "\n"
     ]
    }
   ],
   "source": [
    "help(yuki)"
   ]
  },
  {
   "cell_type": "code",
   "execution_count": 40,
   "metadata": {},
   "outputs": [
    {
     "name": "stdout",
     "output_type": "stream",
     "text": [
      "is X\n",
      "D is eating\n",
      "B is eating\n",
      "E is eating\n"
     ]
    }
   ],
   "source": [
    "class A:\n",
    "    def __init__(self):\n",
    "        print('in A')\n",
    "    def eat(self):\n",
    "        print('A is eating')\n",
    "        \n",
    "class B(A):\n",
    "    def __init__(self):\n",
    "        print('in B')\n",
    "    def eat(self):\n",
    "        print('B is eating')\n",
    "        super().eat()\n",
    "        \n",
    "class C(A):\n",
    "    def __init__(self):\n",
    "        print('in C')\n",
    "    def eat(self):\n",
    "        print('C is eating') \n",
    "        \n",
    "class D(B):\n",
    "    def __init__(self):\n",
    "        print('in D')\n",
    "    def eat(self):\n",
    "        print('D is eating')\n",
    "        super().eat()\n",
    "        \n",
    "class E(C):\n",
    "    def __init__(self):\n",
    "        print('in E')\n",
    "    def eat(self):\n",
    "        print('E is eating')\n",
    "        \n",
    "class X(D,E):\n",
    "    def __init__(self):\n",
    "        print('is X')\n",
    "        super().eat()\n",
    "    def eat(self):\n",
    "        print('X is eating')\n",
    "        \n",
    "obj = X()"
   ]
  },
  {
   "cell_type": "code",
   "execution_count": 38,
   "metadata": {},
   "outputs": [
    {
     "name": "stdout",
     "output_type": "stream",
     "text": [
      "Help on X in module __main__ object:\n",
      "\n",
      "class X(D, E)\n",
      " |  Method resolution order:\n",
      " |      X\n",
      " |      D\n",
      " |      B\n",
      " |      E\n",
      " |      C\n",
      " |      A\n",
      " |      builtins.object\n",
      " |  \n",
      " |  Methods defined here:\n",
      " |  \n",
      " |  __init__(self)\n",
      " |      Initialize self.  See help(type(self)) for accurate signature.\n",
      " |  \n",
      " |  ----------------------------------------------------------------------\n",
      " |  Data descriptors inherited from A:\n",
      " |  \n",
      " |  __dict__\n",
      " |      dictionary for instance variables (if defined)\n",
      " |  \n",
      " |  __weakref__\n",
      " |      list of weak references to the object (if defined)\n",
      "\n"
     ]
    }
   ],
   "source": [
    "help(obj)"
   ]
  },
  {
   "cell_type": "code",
   "execution_count": null,
   "metadata": {},
   "outputs": [],
   "source": [
    "Create a Class Paytm and write features like login,logout,recharge,upi pay,etc,sign up\n",
    "10 minutes."
   ]
  },
  {
   "cell_type": "code",
   "execution_count": null,
   "metadata": {},
   "outputs": [],
   "source": [
    "Create a Class Vending Machine\n",
    "Create a Class Laptop\n",
    "Create a Class Coffee Machine\n",
    "Create a Class Zomato\n",
    "Create a Class oyo\n",
    "Create a Class Amazon"
   ]
  },
  {
   "cell_type": "code",
   "execution_count": 41,
   "metadata": {},
   "outputs": [],
   "source": [
    "class Paytm:\n",
    "    details = {}\n",
    "    def login(self,Mobile_No,password):\n",
    "        self.Mobile_No = Mobile_No\n",
    "        self.password = password\n",
    "        if self.Mobile_No in Paytm.details:\n",
    "            if self.password == Paytm.details.get(self.Mobile_No):\n",
    "                print(\"Veryfying details....Logged in\")\n",
    "            else:\n",
    "                print(\"password is wrong\")\n",
    "        else:\n",
    "            print(\"you don't have account, please signup\")\n",
    "            \n",
    "    def signup(self,Mobile_No,email_id,create_password):\n",
    "        self.Mobile_No = Mobile_No\n",
    "        self.email_id = email_id\n",
    "        self.create_password = create_password\n",
    "        Paytm.details[self.Mobile_No] = self.create_password"
   ]
  },
  {
   "cell_type": "code",
   "execution_count": 42,
   "metadata": {},
   "outputs": [],
   "source": [
    "mohitPhone = Paytm()"
   ]
  },
  {
   "cell_type": "code",
   "execution_count": 44,
   "metadata": {},
   "outputs": [],
   "source": [
    "mohitPhone.signup(900166689,'mohit@fake.com',1234)"
   ]
  },
  {
   "cell_type": "code",
   "execution_count": 45,
   "metadata": {},
   "outputs": [
    {
     "name": "stdout",
     "output_type": "stream",
     "text": [
      "Veryfying details....Logged in\n"
     ]
    }
   ],
   "source": [
    "mohitPhone.login(900166689,1234)"
   ]
  },
  {
   "cell_type": "code",
   "execution_count": 47,
   "metadata": {},
   "outputs": [
    {
     "name": "stdout",
     "output_type": "stream",
     "text": [
      "you don't have account, please signup\n"
     ]
    }
   ],
   "source": [
    "mohitPhone.login(9003166689,1234)"
   ]
  },
  {
   "cell_type": "code",
   "execution_count": 48,
   "metadata": {},
   "outputs": [],
   "source": [
    "class paytm:\n",
    "    list_of_user={}\n",
    "    list_of_login_user={}\n",
    "    \n",
    "    def  __init__(self):\n",
    "        print(\"Welcome to Paytm\")\n",
    "        \n",
    "\n",
    "    def sign_up(self,name,email,password):\n",
    "        self.name=name\n",
    "        self.email=email\n",
    "        self.password=password\n",
    "        paytm.list_of_user[self.name]=[self.email,self.password]\n",
    "        \n",
    "\n",
    "\n",
    "    def login(self,email,password):\n",
    "        if self.name in paytm.list_of_user:\n",
    "            if(self.email==email and self.password==password):\n",
    "                paytm.list_of_login_user[self.name]=[self.email,self.password]\n",
    "                print(\"Login successful\")\n",
    "            else:\n",
    "                print(\"Incorrect login email and password\")\n",
    "        else:\n",
    "            print(\"You don't have any account ,please sign-up\")\n",
    "\n",
    "    def logout(self):\n",
    "        if self.name in paytm.list_of_login_user:\n",
    "            print(\"you are logged out\")\n",
    "            paytm.list_of_login_user.pop(self.name)\n",
    "        else:\n",
    "            print(\"you are not logged in\")\n"
   ]
  },
  {
   "cell_type": "code",
   "execution_count": 49,
   "metadata": {},
   "outputs": [
    {
     "name": "stdout",
     "output_type": "stream",
     "text": [
      "Welcome to Paytm\n",
      " Paytm Karo\n"
     ]
    }
   ],
   "source": [
    "# login,logout,signin,out\n",
    "class Paytm():\n",
    "    print(\"Welcome to Paytm\\n Paytm Karo\")\n",
    "    def __init__(self,name,phoneno,password,repass):\n",
    "        self.name=name\n",
    "        self.phoneno=phoneno\n",
    "        self.password=password\n",
    "        self.repass=repass\n",
    "        print(\"Enter The Following Details\")\n",
    "        if self.repass!=self.password:\n",
    "            print(\"Enter same password\")\n",
    "            \n",
    "        else:\n",
    "            print(\"Information Verified\")\n",
    "    def Signout(self):\n",
    "        print(\"Your Filled Informations are:\")\n",
    "        print(\"Name:\",self.name)\n",
    "        print(\"Phoneno:\",self.phoneno)\n",
    "        print(\"You have successfully Signed Out\")\n",
    "        \n",
    "    def Login(self,phonenum,passw):\n",
    "        self.phonenum=phonenum\n",
    "        print(\"Enter Phoneno:\")\n",
    "        self.passw=passw\n",
    "        print(\"Enter Password\")\n",
    "        if self.password!=self.passw and self.phoneno!=self.phonenum:\n",
    "            print(\"Enter correct login details\")\n",
    "        else:\n",
    "            print(\"Login successful\")"
   ]
  },
  {
   "cell_type": "code",
   "execution_count": null,
   "metadata": {},
   "outputs": [],
   "source": []
  }
 ],
 "metadata": {
  "kernelspec": {
   "display_name": "Python 3",
   "language": "python",
   "name": "python3"
  },
  "language_info": {
   "codemirror_mode": {
    "name": "ipython",
    "version": 3
   },
   "file_extension": ".py",
   "mimetype": "text/x-python",
   "name": "python",
   "nbconvert_exporter": "python",
   "pygments_lexer": "ipython3",
   "version": "3.8.3"
  }
 },
 "nbformat": 4,
 "nbformat_minor": 4
}
