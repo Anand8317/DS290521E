{
 "cells": [
  {
   "cell_type": "code",
   "execution_count": null,
   "metadata": {},
   "outputs": [],
   "source": [
    "Builtins of Sets:\n",
    "    intersection\n",
    "    update\n",
    "    union\n",
    "    add\n",
    "    symmetric_difference\n",
    "    difference\n",
    "    discard\n",
    "    pop\n",
    "    del\n",
    "    remove\n",
    "    clear\n",
    "    len\n",
    "    \n",
    "Builtins of Dicts:\n",
    "    get\n",
    "    setdefault\n",
    "    items\n",
    "    keys\n",
    "    values\n",
    "    clear\n",
    "    del\n",
    "    pop\n",
    "    popitem"
   ]
  },
  {
   "cell_type": "code",
   "execution_count": null,
   "metadata": {},
   "outputs": [],
   "source": [
    "Builtin funs:\n",
    "    print()\n",
    "    input()"
   ]
  },
  {
   "cell_type": "markdown",
   "metadata": {},
   "source": [
    "# User define funs."
   ]
  },
  {
   "cell_type": "code",
   "execution_count": null,
   "metadata": {},
   "outputs": [],
   "source": [
    "Definition of a Fun.\n",
    "\n",
    "Syntax:\n",
    "    \n",
    "def name_of_the_fun(param1,param2,param3,......):\n",
    "    code line1\n",
    "    code line2\n",
    "    and so on..\n",
    "    optionally return x or something else\n",
    "\n",
    "\n",
    "NOTE: IF WE DON'T USE A RETURN STATEMENT, AUTOMATICALLY IT WILL RETURN NONE\n",
    "    \n",
    "Calling a fun\n",
    "\n",
    "name_of_the_fun(12,23,34,45)\n",
    "\n",
    "Once the function is defined, you can call it any number of times."
   ]
  },
  {
   "cell_type": "code",
   "execution_count": 1,
   "metadata": {},
   "outputs": [],
   "source": [
    "def calculate_percentage(obtained,total):\n",
    "    percentage = (obtained/total)*100\n",
    "    return percentage"
   ]
  },
  {
   "cell_type": "code",
   "execution_count": 2,
   "metadata": {},
   "outputs": [
    {
     "data": {
      "text/plain": [
       "49.25"
      ]
     },
     "execution_count": 2,
     "metadata": {},
     "output_type": "execute_result"
    }
   ],
   "source": [
    "student_report = [100,20,30,47]\n",
    "total = 400\n",
    "\n",
    "marks_of_krishnakant = sum(student_report)\n",
    "calculate_percentage(marks_of_krishnakant,total)"
   ]
  },
  {
   "cell_type": "code",
   "execution_count": 3,
   "metadata": {},
   "outputs": [
    {
     "data": {
      "text/plain": [
       "72.25"
      ]
     },
     "execution_count": 3,
     "metadata": {},
     "output_type": "execute_result"
    }
   ],
   "source": [
    "marks_of_Imtiyaz = sum([100,50,60,79])\n",
    "\n",
    "calculate_percentage(marks_of_Imtiyaz,total)"
   ]
  },
  {
   "cell_type": "code",
   "execution_count": 4,
   "metadata": {},
   "outputs": [],
   "source": [
    "def sum_sub_multi(input1,input2):\n",
    "    sum_of_2 = input1+input2\n",
    "    sub_of_2 = input1-input2\n",
    "    print(sum_of_2*sub_of_2)"
   ]
  },
  {
   "cell_type": "code",
   "execution_count": 5,
   "metadata": {},
   "outputs": [
    {
     "name": "stdout",
     "output_type": "stream",
     "text": [
      "-9\n"
     ]
    }
   ],
   "source": [
    "sum_sub_multi(4,5)"
   ]
  },
  {
   "cell_type": "code",
   "execution_count": 6,
   "metadata": {},
   "outputs": [
    {
     "name": "stdout",
     "output_type": "stream",
     "text": [
      "-5\n"
     ]
    }
   ],
   "source": [
    "sum_sub_multi(2,3)"
   ]
  },
  {
   "cell_type": "code",
   "execution_count": 7,
   "metadata": {},
   "outputs": [
    {
     "name": "stdout",
     "output_type": "stream",
     "text": [
      "6075\n"
     ]
    }
   ],
   "source": [
    "sum_sub_multi(78,3)"
   ]
  },
  {
   "cell_type": "code",
   "execution_count": 8,
   "metadata": {},
   "outputs": [
    {
     "data": {
      "text/plain": [
       "45.0"
      ]
     },
     "execution_count": 8,
     "metadata": {},
     "output_type": "execute_result"
    }
   ],
   "source": [
    "calculate_percentage(45,100)"
   ]
  },
  {
   "cell_type": "code",
   "execution_count": 9,
   "metadata": {},
   "outputs": [],
   "source": [
    "# Question 1\n",
    "students = [{'name':'priyal jain','marks':[44,50,79,89]},\n",
    "            {'name':'krishnakant dubey','marks':[45,53,75,99]},\n",
    "            {'name':'Siddharth Kaithwas','marks':[55,67,72,56]}\n",
    "           ]\n",
    "\n",
    "# I want to calculate Percentage of each student. How can I do it?\n",
    "# Due to covid there is an increase in percentage as following:\n",
    "#     current_percentage <= 70: increase by +5"
   ]
  },
  {
   "cell_type": "code",
   "execution_count": 23,
   "metadata": {},
   "outputs": [
    {
     "data": {
      "text/plain": [
       "6"
      ]
     },
     "execution_count": 23,
     "metadata": {},
     "output_type": "execute_result"
    }
   ],
   "source": [
    "sum([1,2,3])"
   ]
  },
  {
   "cell_type": "code",
   "execution_count": null,
   "metadata": {},
   "outputs": [],
   "source": [
    "In jupyter notebook, whatever is returned is automatically printed but if you go in raw python, this\n",
    "does not happen."
   ]
  },
  {
   "cell_type": "code",
   "execution_count": 20,
   "metadata": {},
   "outputs": [
    {
     "name": "stdout",
     "output_type": "stream",
     "text": [
      "priyal jain got C  grade\n",
      "krishnakant dubey got C  grade\n",
      "Siddharth Kaithwas got D  grade\n"
     ]
    }
   ],
   "source": [
    "def find_percentage(obtained_marks,total_marks):\n",
    "    percentage = (obtained_marks/total_marks)*100\n",
    "    if percentage <= 70:\n",
    "        percentage += 5\n",
    "    return percentage\n",
    "\n",
    "def find_grade(percentage):\n",
    "    if percentage>=90:\n",
    "        return 'A'\n",
    "    elif percentage>=80:\n",
    "        return 'B'\n",
    "    elif percentage>=70:\n",
    "        return 'C'\n",
    "    elif percentage>=60:\n",
    "        return 'D'\n",
    "    \n",
    "for student in students:\n",
    "    obtained_marks = sum(student['marks'])\n",
    "    percentage_of_student = find_percentage(obtained_marks,400)\n",
    "    print(student['name'],'got',find_grade(percentage_of_student),' grade')"
   ]
  },
  {
   "cell_type": "code",
   "execution_count": null,
   "metadata": {},
   "outputs": [],
   "source": [
    "Question 2: Write a fun which will take a list and print it's 1st element."
   ]
  },
  {
   "cell_type": "code",
   "execution_count": 25,
   "metadata": {},
   "outputs": [],
   "source": [
    "def print_first_element(l):\n",
    "    print(l[0])"
   ]
  },
  {
   "cell_type": "code",
   "execution_count": 26,
   "metadata": {},
   "outputs": [
    {
     "name": "stdout",
     "output_type": "stream",
     "text": [
      "1\n"
     ]
    }
   ],
   "source": [
    "print_first_element([1,2,3,4])"
   ]
  },
  {
   "cell_type": "code",
   "execution_count": 27,
   "metadata": {},
   "outputs": [
    {
     "name": "stdout",
     "output_type": "stream",
     "text": [
      "apple\n"
     ]
    }
   ],
   "source": [
    "print_first_element(['apple','mango'])"
   ]
  },
  {
   "cell_type": "code",
   "execution_count": 28,
   "metadata": {},
   "outputs": [
    {
     "name": "stdout",
     "output_type": "stream",
     "text": [
      "{'name': 'priyal jain', 'marks': [44, 50, 79, 89]}\n"
     ]
    }
   ],
   "source": [
    "students = [{'name':'priyal jain','marks':[44,50,79,89]},\n",
    "            {'name':'krishnakant dubey','marks':[45,53,75,99]},\n",
    "            {'name':'Siddharth Kaithwas','marks':[55,67,72,56]}\n",
    "           ]\n",
    "print_first_element(students)"
   ]
  },
  {
   "cell_type": "code",
   "execution_count": null,
   "metadata": {},
   "outputs": [],
   "source": [
    "Question 3: Write a fun, which returns list of all the even elements from the given_list"
   ]
  },
  {
   "cell_type": "code",
   "execution_count": 29,
   "metadata": {},
   "outputs": [],
   "source": [
    "def even_numbers(l):\n",
    "    even = []\n",
    "    for no in l:\n",
    "        if no%2 == 0:\n",
    "            even.append(no)\n",
    "    return even"
   ]
  },
  {
   "cell_type": "code",
   "execution_count": 30,
   "metadata": {},
   "outputs": [],
   "source": [
    "x = even_numbers([1,2,3,4,5,6,7,8])"
   ]
  },
  {
   "cell_type": "code",
   "execution_count": 31,
   "metadata": {},
   "outputs": [
    {
     "name": "stdout",
     "output_type": "stream",
     "text": [
      "[2, 4, 6, 8]\n"
     ]
    }
   ],
   "source": [
    "print(x)"
   ]
  },
  {
   "cell_type": "code",
   "execution_count": 32,
   "metadata": {},
   "outputs": [],
   "source": [
    "y = even_numbers([1,3,5,7,9])"
   ]
  },
  {
   "cell_type": "code",
   "execution_count": 33,
   "metadata": {},
   "outputs": [
    {
     "name": "stdout",
     "output_type": "stream",
     "text": [
      "[]\n"
     ]
    }
   ],
   "source": [
    "print(y)"
   ]
  },
  {
   "cell_type": "code",
   "execution_count": null,
   "metadata": {},
   "outputs": [],
   "source": [
    "HOMEWORK\n",
    "\n",
    "Question: Write a fun, which takes 2 list as arguments and returns sum of respective numbers if the length of both the list \n",
    "    is same, else it returns None\n",
    "    \n",
    "if input:\n",
    "    l1 = [1,2,3]\n",
    "    l2 = [4,5,6]\n",
    "    \n",
    "    output:\n",
    "        l3 = [5,7,9]\n",
    "        \n",
    "        \n",
    "if input:\n",
    "    l1 = [3]\n",
    "    l2 = [1,2]\n",
    "    \n",
    "    output:\n",
    "        None"
   ]
  },
  {
   "cell_type": "markdown",
   "metadata": {},
   "source": [
    "## NAMESPACE\n",
    "### GLOBAL NAMESPACE\n",
    "### LOCAL NAMESPACE\n",
    "### BUILTIN NAMESPACE"
   ]
  },
  {
   "cell_type": "code",
   "execution_count": null,
   "metadata": {},
   "outputs": [],
   "source": [
    "Namespace: Table which contains names and their corresponding object addresses(or id's)"
   ]
  },
  {
   "cell_type": "code",
   "execution_count": 34,
   "metadata": {},
   "outputs": [],
   "source": [
    "a = 45\n",
    "b = 37\n",
    "c = 'mango'"
   ]
  },
  {
   "cell_type": "code",
   "execution_count": 35,
   "metadata": {},
   "outputs": [
    {
     "name": "stdout",
     "output_type": "stream",
     "text": [
      "1607400048\n"
     ]
    }
   ],
   "source": [
    "print(id(a))"
   ]
  },
  {
   "cell_type": "code",
   "execution_count": 36,
   "metadata": {},
   "outputs": [
    {
     "name": "stdout",
     "output_type": "stream",
     "text": [
      "1607399920\n"
     ]
    }
   ],
   "source": [
    "print(id(b))"
   ]
  },
  {
   "cell_type": "code",
   "execution_count": 37,
   "metadata": {},
   "outputs": [
    {
     "name": "stdout",
     "output_type": "stream",
     "text": [
      "12344352\n"
     ]
    }
   ],
   "source": [
    "print(id(c))"
   ]
  },
  {
   "cell_type": "code",
   "execution_count": null,
   "metadata": {},
   "outputs": [],
   "source": [
    "When we call a function we create a local namespace for that function.\n",
    "If I call a function 3 times. I am creating 3 differenct local namespace.\n",
    "Local Namespace dies when the function calling is over."
   ]
  },
  {
   "cell_type": "code",
   "execution_count": null,
   "metadata": {},
   "outputs": [],
   "source": [
    "x = 'mango'\n",
    "y = 'kiwi'\n",
    "z = [x,y]\n",
    "\n",
    "def glad():\n",
    "    p = 'ice cream'\n",
    "    q = 'sweet corn'\n",
    "    r = 'lassi'\n",
    "    s = 'tea'"
   ]
  },
  {
   "cell_type": "code",
   "execution_count": 38,
   "metadata": {},
   "outputs": [
    {
     "name": "stdout",
     "output_type": "stream",
     "text": [
      "priyal jain\n",
      "krishnakant dubey\n",
      "Siddharth Kaithwas\n"
     ]
    }
   ],
   "source": [
    "students = [{'name':'priyal jain','marks':[44,50,79,89]},\n",
    "            {'name':'krishnakant dubey','marks':[45,53,75,99]},\n",
    "            {'name':'Siddharth Kaithwas','marks':[55,67,72,56]}\n",
    "           ]\n",
    "\n",
    "def find_percentage(obtained_marks,total_marks):\n",
    "    percentage = (obtained_marks/total_marks)*100\n",
    "    if percentage <= 70:\n",
    "        percentage += 5\n",
    "    return percentage\n",
    "\n",
    "def find_grade(percentage):\n",
    "    if percentage>=90:\n",
    "        return 'A'\n",
    "    elif percentage>=80:\n",
    "        return 'B'\n",
    "    elif percentage>=70:\n",
    "        return 'C'\n",
    "    elif percentage>=60:\n",
    "        return 'D'\n",
    "    \n",
    "for student in students:\n",
    "    obtained_marks = sum(student['marks'])\n",
    "    percentage_of_student = find_percentage(obtained_marks,400)\n",
    "    print(student['name'],'got',find_grade(percentage_of_student),' grade')"
   ]
  },
  {
   "cell_type": "code",
   "execution_count": 40,
   "metadata": {},
   "outputs": [
    {
     "name": "stdout",
     "output_type": "stream",
     "text": [
      "kiwi\n"
     ]
    }
   ],
   "source": [
    "a = 'mango'\n",
    "\n",
    "def happy():\n",
    "    a = 'kiwi'\n",
    "    print(a)\n",
    "    \n",
    "happy()"
   ]
  },
  {
   "cell_type": "code",
   "execution_count": 41,
   "metadata": {},
   "outputs": [
    {
     "name": "stdout",
     "output_type": "stream",
     "text": [
      "mango\n"
     ]
    }
   ],
   "source": [
    "a = 'mango'\n",
    "\n",
    "def happy():\n",
    "    print(a)\n",
    "    \n",
    "happy()"
   ]
  },
  {
   "cell_type": "code",
   "execution_count": null,
   "metadata": {},
   "outputs": [],
   "source": []
  }
 ],
 "metadata": {
  "kernelspec": {
   "display_name": "Python 3",
   "language": "python",
   "name": "python3"
  },
  "language_info": {
   "codemirror_mode": {
    "name": "ipython",
    "version": 3
   },
   "file_extension": ".py",
   "mimetype": "text/x-python",
   "name": "python",
   "nbconvert_exporter": "python",
   "pygments_lexer": "ipython3",
   "version": "3.8.3"
  }
 },
 "nbformat": 4,
 "nbformat_minor": 4
}
