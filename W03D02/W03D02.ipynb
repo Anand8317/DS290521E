{
 "cells": [
  {
   "cell_type": "code",
   "execution_count": 2,
   "metadata": {},
   "outputs": [],
   "source": [
    "# while True:\n",
    "#     print('Hello World')\n",
    "\n",
    "# Hello World is going to run forever!!"
   ]
  },
  {
   "cell_type": "code",
   "execution_count": 3,
   "metadata": {},
   "outputs": [
    {
     "name": "stdout",
     "output_type": "stream",
     "text": [
      "4\n",
      "5\n",
      "6\n",
      "7\n",
      "8\n",
      "9\n"
     ]
    }
   ],
   "source": [
    "no = 4\n",
    "\n",
    "while no<10:\n",
    "    print(no)\n",
    "    no += 1"
   ]
  },
  {
   "cell_type": "markdown",
   "metadata": {},
   "source": [
    "## pass"
   ]
  },
  {
   "cell_type": "code",
   "execution_count": null,
   "metadata": {},
   "outputs": [],
   "source": [
    "pass is a keyword which is used as an placeholder for future code\n",
    "\n",
    "Empty code is not allowed at certain places, so we keep pass there to not any error,\n",
    "and also to signify that we have to complete this part later on.\n",
    "\n",
    "IT DOES NOTHING."
   ]
  },
  {
   "cell_type": "code",
   "execution_count": 4,
   "metadata": {},
   "outputs": [
    {
     "name": "stdout",
     "output_type": "stream",
     "text": [
      "23\n",
      "4\n",
      "5\n"
     ]
    }
   ],
   "source": [
    "list1 = [23,4,5,-90,-155,0]\n",
    "\n",
    "for i in list1:\n",
    "    if i>0:\n",
    "        print(i)\n",
    "    else:\n",
    "        pass"
   ]
  },
  {
   "cell_type": "markdown",
   "metadata": {},
   "source": [
    "## break"
   ]
  },
  {
   "cell_type": "code",
   "execution_count": 5,
   "metadata": {},
   "outputs": [
    {
     "name": "stdout",
     "output_type": "stream",
     "text": [
      "trying to reconnect with setting no 1\n",
      "trying to reconnect with setting no 3\n",
      "trying to reconnect with setting no 5\n",
      "trying to reconnect with setting no 7\n",
      "trying to reconnect with setting no 8\n"
     ]
    }
   ],
   "source": [
    "internet_is_not_working = True\n",
    "list_of_settings = [1,3,5,7,8,9,10]\n",
    "\n",
    "for setting in list_of_settings:\n",
    "    print('trying to reconnect with setting no',setting)\n",
    "    if setting%2 == 0:\n",
    "        break\n",
    "        \n",
    "# Note: break terminates the loop with force in which it is present."
   ]
  },
  {
   "cell_type": "code",
   "execution_count": 9,
   "metadata": {},
   "outputs": [
    {
     "name": "stdout",
     "output_type": "stream",
     "text": [
      "0\n",
      "1\n",
      "2\n",
      "3\n",
      "4\n",
      "5\n"
     ]
    }
   ],
   "source": [
    "no = 0\n",
    "\n",
    "while no<10:\n",
    "    print(no)\n",
    "    if no == 5:\n",
    "        break\n",
    "    no+=1"
   ]
  },
  {
   "cell_type": "code",
   "execution_count": 15,
   "metadata": {},
   "outputs": [
    {
     "name": "stdout",
     "output_type": "stream",
     "text": [
      "covid-\n",
      "We saw the patient\n",
      "covid-\n",
      "We saw the patient\n",
      "covid-\n",
      "We saw the patient\n",
      "covid+\n",
      "Lets keep everyone in this room in quarantine\n"
     ]
    }
   ],
   "source": [
    "list_of_patients = ['covid-','covid-','covid-','covid+','covid-','covid-']\n",
    "\n",
    "for patient in list_of_patients:\n",
    "    print(patient)\n",
    "    if patient == 'covid+':\n",
    "        print('Lets keep everyone in this room in quarantine')\n",
    "        break\n",
    "    print('We saw the patient')"
   ]
  },
  {
   "cell_type": "code",
   "execution_count": 13,
   "metadata": {},
   "outputs": [],
   "source": [
    "list_of_students = [{'name':'Krishnakant Dubey','marks':76,'isPassed':True},\n",
    "                    {'name':'Swaraj Pradhan','marks':79,'isPassed':True},\n",
    "                   {'name':'official','marks':83,'isPassed':True},\n",
    "                   {'name':'Chanda Yadav','marks':32,'isPassed':False},\n",
    "                   {'name':'Cu','marks':45,'isPassed':True}]"
   ]
  },
  {
   "cell_type": "code",
   "execution_count": null,
   "metadata": {},
   "outputs": [],
   "source": [
    "Print marks untill you get somebody who failed.\n",
    "20:07"
   ]
  },
  {
   "cell_type": "code",
   "execution_count": 16,
   "metadata": {},
   "outputs": [
    {
     "name": "stdout",
     "output_type": "stream",
     "text": [
      "76\n",
      "79\n",
      "83\n"
     ]
    }
   ],
   "source": [
    "for student in list_of_students:\n",
    "    if not student['isPassed']:\n",
    "        break\n",
    "    print(student['marks'])"
   ]
  },
  {
   "cell_type": "markdown",
   "metadata": {},
   "source": [
    "## continue"
   ]
  },
  {
   "cell_type": "code",
   "execution_count": 17,
   "metadata": {
    "scrolled": true
   },
   "outputs": [
    {
     "name": "stdout",
     "output_type": "stream",
     "text": [
      "covid-\n",
      "We saw the patient\n",
      "covid-\n",
      "We saw the patient\n",
      "covid-\n",
      "We saw the patient\n",
      "covid+\n",
      "Lets keep everyone in this room in quarantine\n",
      "covid-\n",
      "We saw the patient\n",
      "covid-\n",
      "We saw the patient\n"
     ]
    }
   ],
   "source": [
    "list_of_patients = ['covid-','covid-','covid-','covid+','covid-','covid-']\n",
    "\n",
    "for patient in list_of_patients:\n",
    "    print(patient)\n",
    "    if patient == 'covid+':\n",
    "        print('Lets keep everyone in this room in quarantine')\n",
    "        continue\n",
    "    print('We saw the patient')"
   ]
  },
  {
   "cell_type": "code",
   "execution_count": 18,
   "metadata": {},
   "outputs": [
    {
     "name": "stdout",
     "output_type": "stream",
     "text": [
      "1\n",
      "2\n",
      "3\n",
      "4\n",
      "6\n",
      "7\n",
      "8\n",
      "9\n",
      "10\n"
     ]
    }
   ],
   "source": [
    "no = 0\n",
    "\n",
    "while no<10:\n",
    "    no+=1\n",
    "    if no == 5:\n",
    "        continue\n",
    "    print(no)"
   ]
  },
  {
   "cell_type": "code",
   "execution_count": 21,
   "metadata": {},
   "outputs": [
    {
     "name": "stdout",
     "output_type": "stream",
     "text": [
      "0\n",
      "Rest of the line 1\n",
      "Rest of the line 2\n",
      "Rest of the line 3\n",
      "1\n",
      "Rest of the line 1\n",
      "Rest of the line 2\n",
      "Rest of the line 3\n",
      "2\n",
      "Rest of the line 1\n",
      "Rest of the line 2\n",
      "Rest of the line 3\n",
      "3\n",
      "Rest of the line 1\n",
      "Rest of the line 2\n",
      "Rest of the line 3\n",
      "4\n",
      "5\n",
      "Rest of the line 1\n",
      "Rest of the line 2\n",
      "Rest of the line 3\n",
      "6\n",
      "Rest of the line 1\n",
      "Rest of the line 2\n",
      "Rest of the line 3\n",
      "7\n",
      "Rest of the line 1\n",
      "Rest of the line 2\n",
      "Rest of the line 3\n",
      "8\n",
      "Rest of the line 1\n",
      "Rest of the line 2\n",
      "Rest of the line 3\n",
      "9\n",
      "Rest of the line 1\n",
      "Rest of the line 2\n",
      "Rest of the line 3\n"
     ]
    }
   ],
   "source": [
    "no = 0\n",
    "\n",
    "while no<10:\n",
    "    print(no) # printint no = 4\n",
    "    no += 1 # no = 5\n",
    "    if no == 5:\n",
    "        continue\n",
    "    print('Rest of the line 1')\n",
    "    print('Rest of the line 2')\n",
    "    print('Rest of the line 3')"
   ]
  },
  {
   "cell_type": "code",
   "execution_count": 22,
   "metadata": {},
   "outputs": [
    {
     "name": "stdout",
     "output_type": "stream",
     "text": [
      "Happy coding\n",
      "1\n",
      "Happy coding\n",
      "2\n",
      "Happy coding\n",
      "3\n",
      "Happy coding\n",
      "4\n",
      "Happy coding\n",
      "6\n",
      "Happy coding\n",
      "7\n",
      "Happy coding\n",
      "8\n",
      "Happy coding\n",
      "9\n",
      "Happy coding\n",
      "10\n"
     ]
    }
   ],
   "source": [
    "no = 0\n",
    "\n",
    "while no<10:\n",
    "    no+=1\n",
    "    if no == 5:\n",
    "        continue\n",
    "    if no>0:\n",
    "        print('Happy coding')\n",
    "    print(no)"
   ]
  },
  {
   "cell_type": "code",
   "execution_count": null,
   "metadata": {},
   "outputs": [],
   "source": [
    "Next Iteration: pick up next no from the range fun.\n",
    "                go and check the while loop condition and run the code\n",
    "                go and pick up the next item from the iterable."
   ]
  },
  {
   "cell_type": "code",
   "execution_count": null,
   "metadata": {},
   "outputs": [],
   "source": [
    "Iterable data types:\n",
    "    list\n",
    "    dict\n",
    "    str\n",
    "    set\n",
    "    tuple\n",
    "Iterables: range fun."
   ]
  },
  {
   "cell_type": "code",
   "execution_count": null,
   "metadata": {},
   "outputs": [],
   "source": [
    "Qustion: find a key if it is present in the list, if not print not found.\n",
    "    \n",
    "xList = [10,20,30,40,50]\n",
    "key = 60\n",
    "ans = Not found\n",
    "\n",
    "key = 40\n",
    "ans = found"
   ]
  },
  {
   "cell_type": "code",
   "execution_count": null,
   "metadata": {},
   "outputs": [],
   "source": [
    "8:35"
   ]
  },
  {
   "cell_type": "code",
   "execution_count": 31,
   "metadata": {},
   "outputs": [
    {
     "name": "stdout",
     "output_type": "stream",
     "text": [
      "Not found\n"
     ]
    }
   ],
   "source": [
    "key = 100\n",
    "xList = [10,20,30,40,50]\n",
    "did_we_found_the_key = False\n",
    "for item in xList:\n",
    "    if item == key:\n",
    "        print('found')\n",
    "        did_we_found_the_key = True\n",
    "        break\n",
    "if did_we_found_the_key == False:\n",
    "    print('Not found')"
   ]
  },
  {
   "cell_type": "markdown",
   "metadata": {},
   "source": [
    "# for else loop"
   ]
  },
  {
   "cell_type": "code",
   "execution_count": null,
   "metadata": {},
   "outputs": [],
   "source": [
    "else part contains the code which runs when the for loop terminates without a\n",
    "break condition"
   ]
  },
  {
   "cell_type": "code",
   "execution_count": 41,
   "metadata": {},
   "outputs": [
    {
     "name": "stdout",
     "output_type": "stream",
     "text": [
      "found\n"
     ]
    }
   ],
   "source": [
    "key = 50\n",
    "xList = [10,20,30,40,50]\n",
    "for item in xList:\n",
    "    if item == key:\n",
    "        print('found')\n",
    "        break\n",
    "else:\n",
    "    print('Not found')"
   ]
  },
  {
   "cell_type": "code",
   "execution_count": null,
   "metadata": {},
   "outputs": [],
   "source": [
    "Book Name: Automate the Boring stuff with python"
   ]
  },
  {
   "cell_type": "code",
   "execution_count": 37,
   "metadata": {},
   "outputs": [
    {
     "name": "stdout",
     "output_type": "stream",
     "text": [
      "found\n",
      "Not found\n"
     ]
    }
   ],
   "source": [
    "# What will happen if we don't keep a break\n",
    "key = 10\n",
    "xList = [10,20,30,40,50]\n",
    "for item in xList:\n",
    "    if item == key:\n",
    "        print('found')\n",
    "else:\n",
    "    print('Not found')"
   ]
  },
  {
   "cell_type": "code",
   "execution_count": null,
   "metadata": {},
   "outputs": [],
   "source": [
    "print() function\n",
    "\n",
    "It prints things to the stdout\n",
    "standard output: Monitor\n",
    "\n",
    "It can take multiple inputs separated by comma"
   ]
  },
  {
   "cell_type": "code",
   "execution_count": 42,
   "metadata": {},
   "outputs": [
    {
     "name": "stdout",
     "output_type": "stream",
     "text": [
      "Nirakar Sahu Sid Kaithwas Chanda Part 2 Chanda Part 3 Deepak\n"
     ]
    }
   ],
   "source": [
    "print('Nirakar Sahu','Sid Kaithwas','Chanda Part 2','Chanda Part 3','Deepak')"
   ]
  },
  {
   "cell_type": "code",
   "execution_count": null,
   "metadata": {},
   "outputs": [],
   "source": [
    "by default all the multiple inputs are separated by space when printed.\n",
    "sep = separates the different arguments which we are passing in the print function."
   ]
  },
  {
   "cell_type": "code",
   "execution_count": 43,
   "metadata": {},
   "outputs": [
    {
     "name": "stdout",
     "output_type": "stream",
     "text": [
      "Nirakar Sahu%%Sid Kaithwas%%Chanda Part 2%%Chanda Part 3%%Deepak\n"
     ]
    }
   ],
   "source": [
    "print('Nirakar Sahu','Sid Kaithwas','Chanda Part 2','Chanda Part 3','Deepak',sep='%%')"
   ]
  },
  {
   "cell_type": "code",
   "execution_count": 44,
   "metadata": {},
   "outputs": [
    {
     "name": "stdout",
     "output_type": "stream",
     "text": [
      "happy\n",
      "coding\n"
     ]
    }
   ],
   "source": [
    "print('happy')\n",
    "print('coding')"
   ]
  },
  {
   "cell_type": "code",
   "execution_count": null,
   "metadata": {},
   "outputs": [],
   "source": [
    "end = by default it it newline, and it something which is added at the end of current print."
   ]
  },
  {
   "cell_type": "code",
   "execution_count": 46,
   "metadata": {},
   "outputs": [
    {
     "name": "stdout",
     "output_type": "stream",
     "text": [
      "happpy**coding\n"
     ]
    }
   ],
   "source": [
    "print('happpy',end='**')\n",
    "print('coding')"
   ]
  },
  {
   "cell_type": "code",
   "execution_count": 47,
   "metadata": {},
   "outputs": [
    {
     "name": "stdout",
     "output_type": "stream",
     "text": [
      "happpy\n",
      "coding\n"
     ]
    }
   ],
   "source": [
    "print('happpy',end='\\n')\n",
    "print('coding')"
   ]
  },
  {
   "cell_type": "code",
   "execution_count": 48,
   "metadata": {},
   "outputs": [
    {
     "name": "stdout",
     "output_type": "stream",
     "text": [
      "Nirakar Sahu\n",
      "Sid Kaithwas\n",
      "Chanda Part 2\n",
      "Chanda Part 3\n",
      "Deepak\n"
     ]
    }
   ],
   "source": [
    "print('Nirakar Sahu','Sid Kaithwas','Chanda Part 2','Chanda Part 3','Deepak',sep='\\n')"
   ]
  },
  {
   "cell_type": "markdown",
   "metadata": {},
   "source": [
    "## input() function"
   ]
  },
  {
   "cell_type": "code",
   "execution_count": null,
   "metadata": {},
   "outputs": [],
   "source": [
    "input() : taking input from the stdin\n",
    "\n",
    "Standard Input: Keyboard.\n",
    "    \n",
    "By default input is taken in string format."
   ]
  },
  {
   "cell_type": "code",
   "execution_count": 51,
   "metadata": {},
   "outputs": [
    {
     "name": "stdout",
     "output_type": "stream",
     "text": [
      "['mango','apple']\n",
      "<class 'str'>\n"
     ]
    }
   ],
   "source": [
    "x = input()\n",
    "\n",
    "print(type(x))"
   ]
  },
  {
   "cell_type": "code",
   "execution_count": 52,
   "metadata": {},
   "outputs": [
    {
     "name": "stdout",
     "output_type": "stream",
     "text": [
      "45\n",
      "<class 'int'>\n"
     ]
    }
   ],
   "source": [
    "x = int(input())\n",
    "\n",
    "print(type(x))"
   ]
  },
  {
   "cell_type": "code",
   "execution_count": 55,
   "metadata": {},
   "outputs": [
    {
     "name": "stdout",
     "output_type": "stream",
     "text": [
      "4\n",
      "<class 'float'>\n",
      "4.0\n"
     ]
    }
   ],
   "source": [
    "x = float(input())\n",
    "\n",
    "print(type(x))\n",
    "print(x)"
   ]
  },
  {
   "cell_type": "code",
   "execution_count": 58,
   "metadata": {},
   "outputs": [
    {
     "name": "stdout",
     "output_type": "stream",
     "text": [
      "Hi type somethingTUPPLE\n"
     ]
    }
   ],
   "source": [
    "x = input('Hi type something')"
   ]
  },
  {
   "cell_type": "code",
   "execution_count": 59,
   "metadata": {},
   "outputs": [
    {
     "name": "stdout",
     "output_type": "stream",
     "text": [
      "TUPPLE\n"
     ]
    }
   ],
   "source": [
    "print(x)"
   ]
  },
  {
   "cell_type": "markdown",
   "metadata": {},
   "source": [
    "## STRINGS"
   ]
  },
  {
   "cell_type": "code",
   "execution_count": null,
   "metadata": {},
   "outputs": [],
   "source": [
    "'KIWI',\"BANANA\",'''MANGO''',\"\"\"APPLE\"\"\""
   ]
  },
  {
   "cell_type": "markdown",
   "metadata": {},
   "source": [
    "## format function"
   ]
  },
  {
   "cell_type": "code",
   "execution_count": 65,
   "metadata": {},
   "outputs": [
    {
     "name": "stdout",
     "output_type": "stream",
     "text": [
      "num1 is apple and num2 is mango and num3 is kiwi\n"
     ]
    }
   ],
   "source": [
    "# 1) postion of the variable\n",
    "\n",
    "s1 = 'num1 is {0} and num2 is {1} and num3 is {2}'.format('apple','mango','kiwi')\n",
    "\n",
    "print(s1)"
   ]
  },
  {
   "cell_type": "code",
   "execution_count": 66,
   "metadata": {},
   "outputs": [
    {
     "name": "stdout",
     "output_type": "stream",
     "text": [
      "num1 is 10 and num2 is 20 and num3 is 30\n"
     ]
    }
   ],
   "source": [
    "s1 = 'num1 is {0} and num2 is {1} and num3 is {2}'.format(10,20,30)\n",
    "\n",
    "print(s1)"
   ]
  },
  {
   "cell_type": "code",
   "execution_count": 68,
   "metadata": {},
   "outputs": [
    {
     "name": "stdout",
     "output_type": "stream",
     "text": [
      "num1 is 10 and num2 is 20\n"
     ]
    }
   ],
   "source": [
    "value1 = 10\n",
    "value2 = 20\n",
    "s1 = 'num1 is '+str(value1)+ ' and num2 is '+str(value2)\n",
    "\n",
    "print(s1)"
   ]
  },
  {
   "cell_type": "code",
   "execution_count": 70,
   "metadata": {},
   "outputs": [
    {
     "name": "stdout",
     "output_type": "stream",
     "text": [
      "Received an email from Aparna and from MIT\n"
     ]
    }
   ],
   "source": [
    "# 2) name of the variable\n",
    "\n",
    "subject = 'Received an email from {name} and from {college}'.format(name='Aparna',college='MIT')\n",
    "print(subject)"
   ]
  },
  {
   "cell_type": "code",
   "execution_count": null,
   "metadata": {},
   "outputs": [],
   "source": [
    "list_of_students = [{'name':'Krishnakant Dubey','marks':76,'isPassed':True},\n",
    "                    {'name':'Swaraj Pradhan','marks':79,'isPassed':True},\n",
    "                   {'name':'official','marks':83,'isPassed':True},\n",
    "                   {'name':'Chanda Yadav','marks':32,'isPassed':False},\n",
    "                   {'name':'Cu','marks':45,'isPassed':True}]\n",
    "Question:\n",
    "    Write down subject as show in the above example but saying received an email from name and with \n",
    "    marks."
   ]
  },
  {
   "cell_type": "code",
   "execution_count": null,
   "metadata": {},
   "outputs": [],
   "source": [
    "9:23"
   ]
  },
  {
   "cell_type": "code",
   "execution_count": null,
   "metadata": {},
   "outputs": [],
   "source": [
    "Homework Question."
   ]
  }
 ],
 "metadata": {
  "kernelspec": {
   "display_name": "Python 3",
   "language": "python",
   "name": "python3"
  },
  "language_info": {
   "codemirror_mode": {
    "name": "ipython",
    "version": 3
   },
   "file_extension": ".py",
   "mimetype": "text/x-python",
   "name": "python",
   "nbconvert_exporter": "python",
   "pygments_lexer": "ipython3",
   "version": "3.8.3"
  }
 },
 "nbformat": 4,
 "nbformat_minor": 4
}
