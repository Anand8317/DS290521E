{
 "cells": [
  {
   "cell_type": "markdown",
   "metadata": {},
   "source": [
    "# Class Attributes"
   ]
  },
  {
   "cell_type": "code",
   "execution_count": 31,
   "metadata": {},
   "outputs": [],
   "source": [
    "class fan:\n",
    "    purpose = 'blow air'\n",
    "    def __init__(self,model,brand,color):\n",
    "        self.model = model\n",
    "        self.brand = brand\n",
    "        self.color = color\n",
    "        self.on = False\n",
    "    \n",
    "    def switchOn(self):\n",
    "        self.on = True"
   ]
  },
  {
   "cell_type": "code",
   "execution_count": 32,
   "metadata": {},
   "outputs": [],
   "source": [
    "fan1 = fan('501','USHA','BROWN')"
   ]
  },
  {
   "cell_type": "code",
   "execution_count": 33,
   "metadata": {},
   "outputs": [
    {
     "data": {
      "text/plain": [
       "'blow air'"
      ]
     },
     "execution_count": 33,
     "metadata": {},
     "output_type": "execute_result"
    }
   ],
   "source": [
    "fan1.purpose"
   ]
  },
  {
   "cell_type": "code",
   "execution_count": 34,
   "metadata": {},
   "outputs": [],
   "source": [
    "fan2 = fan('701','General Electric','Black')"
   ]
  },
  {
   "cell_type": "code",
   "execution_count": 35,
   "metadata": {},
   "outputs": [
    {
     "data": {
      "text/plain": [
       "'blow air'"
      ]
     },
     "execution_count": 35,
     "metadata": {},
     "output_type": "execute_result"
    }
   ],
   "source": [
    "fan2.purpose"
   ]
  },
  {
   "cell_type": "code",
   "execution_count": 36,
   "metadata": {},
   "outputs": [
    {
     "data": {
      "text/plain": [
       "'501'"
      ]
     },
     "execution_count": 36,
     "metadata": {},
     "output_type": "execute_result"
    }
   ],
   "source": [
    "fan1.model"
   ]
  },
  {
   "cell_type": "code",
   "execution_count": 37,
   "metadata": {},
   "outputs": [
    {
     "data": {
      "text/plain": [
       "'701'"
      ]
     },
     "execution_count": 37,
     "metadata": {},
     "output_type": "execute_result"
    }
   ],
   "source": [
    "fan2.model"
   ]
  },
  {
   "cell_type": "code",
   "execution_count": 38,
   "metadata": {},
   "outputs": [],
   "source": [
    "fan1.model = '900'"
   ]
  },
  {
   "cell_type": "code",
   "execution_count": 39,
   "metadata": {},
   "outputs": [
    {
     "data": {
      "text/plain": [
       "'701'"
      ]
     },
     "execution_count": 39,
     "metadata": {},
     "output_type": "execute_result"
    }
   ],
   "source": [
    "fan2.model"
   ]
  },
  {
   "cell_type": "code",
   "execution_count": 40,
   "metadata": {},
   "outputs": [
    {
     "data": {
      "text/plain": [
       "'900'"
      ]
     },
     "execution_count": 40,
     "metadata": {},
     "output_type": "execute_result"
    }
   ],
   "source": [
    "fan1.model"
   ]
  },
  {
   "cell_type": "code",
   "execution_count": 41,
   "metadata": {},
   "outputs": [],
   "source": [
    "fan.purpose = 'blow more air'"
   ]
  },
  {
   "cell_type": "code",
   "execution_count": 42,
   "metadata": {},
   "outputs": [
    {
     "data": {
      "text/plain": [
       "'blow more air'"
      ]
     },
     "execution_count": 42,
     "metadata": {},
     "output_type": "execute_result"
    }
   ],
   "source": [
    "fan1.purpose"
   ]
  },
  {
   "cell_type": "code",
   "execution_count": 43,
   "metadata": {},
   "outputs": [
    {
     "data": {
      "text/plain": [
       "'blow more air'"
      ]
     },
     "execution_count": 43,
     "metadata": {},
     "output_type": "execute_result"
    }
   ],
   "source": [
    "fan2.purpose"
   ]
  },
  {
   "cell_type": "code",
   "execution_count": 44,
   "metadata": {},
   "outputs": [],
   "source": [
    "fan1.purpose = 'blow more air'"
   ]
  },
  {
   "cell_type": "code",
   "execution_count": 45,
   "metadata": {},
   "outputs": [
    {
     "data": {
      "text/plain": [
       "'blow more air'"
      ]
     },
     "execution_count": 45,
     "metadata": {},
     "output_type": "execute_result"
    }
   ],
   "source": [
    "fan1.purpose"
   ]
  },
  {
   "cell_type": "code",
   "execution_count": 46,
   "metadata": {},
   "outputs": [
    {
     "data": {
      "text/plain": [
       "'blow more air'"
      ]
     },
     "execution_count": 46,
     "metadata": {},
     "output_type": "execute_result"
    }
   ],
   "source": [
    "fan2.purpose"
   ]
  },
  {
   "cell_type": "markdown",
   "metadata": {},
   "source": [
    "# self parameter.\n",
    "How it works?\n",
    "Where it is used?\n",
    "Why it is used?"
   ]
  },
  {
   "cell_type": "code",
   "execution_count": 50,
   "metadata": {},
   "outputs": [],
   "source": [
    "class fan:\n",
    "    purpose = 'blow air'\n",
    "    def __init__(self,color):\n",
    "        self.color = color\n",
    "        self.on = False\n",
    "    \n",
    "    def switchOn(self):\n",
    "        print(self)\n",
    "        self.on = True"
   ]
  },
  {
   "cell_type": "code",
   "execution_count": 52,
   "metadata": {},
   "outputs": [
    {
     "name": "stdout",
     "output_type": "stream",
     "text": [
      "<__main__.fan object at 0x05F40988> fan1\n",
      "<__main__.fan object at 0x05F40898> fan2\n"
     ]
    }
   ],
   "source": [
    "fan1 = fan('red')\n",
    "fan2 = fan('green')\n",
    "print(fan1,'fan1')\n",
    "print(fan2,'fan2')"
   ]
  },
  {
   "cell_type": "code",
   "execution_count": 53,
   "metadata": {},
   "outputs": [
    {
     "name": "stdout",
     "output_type": "stream",
     "text": [
      "<__main__.fan object at 0x05F40988>\n"
     ]
    }
   ],
   "source": [
    "fan1.switchOn()"
   ]
  },
  {
   "cell_type": "code",
   "execution_count": 54,
   "metadata": {},
   "outputs": [
    {
     "name": "stdout",
     "output_type": "stream",
     "text": [
      "<__main__.fan object at 0x05F40898>\n"
     ]
    }
   ],
   "source": [
    "fan2.switchOn()"
   ]
  },
  {
   "cell_type": "code",
   "execution_count": 55,
   "metadata": {},
   "outputs": [
    {
     "data": {
      "text/plain": [
       "99879304"
      ]
     },
     "execution_count": 55,
     "metadata": {},
     "output_type": "execute_result"
    }
   ],
   "source": [
    "id(fan1)"
   ]
  },
  {
   "cell_type": "code",
   "execution_count": 56,
   "metadata": {},
   "outputs": [
    {
     "data": {
      "text/plain": [
       "99879064"
      ]
     },
     "execution_count": 56,
     "metadata": {},
     "output_type": "execute_result"
    }
   ],
   "source": [
    "id(fan2)"
   ]
  },
  {
   "cell_type": "code",
   "execution_count": null,
   "metadata": {},
   "outputs": [],
   "source": [
    "def happy(x):\n",
    "    y # please for god sake take value from x\n",
    "    \n",
    "    why x?"
   ]
  },
  {
   "cell_type": "code",
   "execution_count": 57,
   "metadata": {},
   "outputs": [],
   "source": [
    "class Ac:\n",
    "    def __init__(self,brand,capacity):\n",
    "        print(\"It's too hot , lets turn on the Ac\")\n",
    "        self.Brand = brand\n",
    "        self.Capacity = capacity\n",
    "        self.status = \"off\"\n",
    "        \n",
    "    def on(self):\n",
    "        if self.status == \"off\":\n",
    "            self.status = \"on\"\n",
    "            print(\"Ac is on\")\n",
    "        else:\n",
    "            print(\"Ac is already on!\")\n",
    "    \n",
    "    def Off(self):\n",
    "        if self.status == \"on\":\n",
    "            self.status = \"off\"\n",
    "            print('Ac has been turned off')\n",
    "        else:\n",
    "            print('Ac is already off')\n",
    "            \n",
    "    def setmode(self,mode='Auto'):\n",
    "        if self.status == \"on\":\n",
    "            if mode == \"Auto\":\n",
    "                self.temp = 25\n",
    "                print('Auto mode activated and temp is',self.temp)\n",
    "            elif mode == \"Cool\":\n",
    "                self.temp = 18\n",
    "                print(\"Cool mode activated and temp is\",self.temp)\n",
    "            elif mode == 'Hot':\n",
    "                self.temp = 28\n",
    "                print('Hot mode activated and temp is',self.temp)\n",
    "                \n",
    "    def increase_temp(self):\n",
    "        self.temp += 1\n",
    "        print('Temp is',self.temp)\n",
    "    \n",
    "    def decrease_temp(self):\n",
    "        self.temp -= 1\n",
    "        print('Temp is',self.temp)"
   ]
  },
  {
   "cell_type": "code",
   "execution_count": 58,
   "metadata": {},
   "outputs": [
    {
     "name": "stdout",
     "output_type": "stream",
     "text": [
      "It's too hot , lets turn on the Ac\n"
     ]
    }
   ],
   "source": [
    "samsunAc = Ac('Samsung',15)"
   ]
  },
  {
   "cell_type": "code",
   "execution_count": 59,
   "metadata": {},
   "outputs": [
    {
     "name": "stdout",
     "output_type": "stream",
     "text": [
      "Ac is on\n"
     ]
    }
   ],
   "source": [
    "samsunAc.on()"
   ]
  },
  {
   "cell_type": "code",
   "execution_count": 60,
   "metadata": {},
   "outputs": [
    {
     "name": "stdout",
     "output_type": "stream",
     "text": [
      "Auto mode activated and temp is 25\n"
     ]
    }
   ],
   "source": [
    "samsunAc.setmode()"
   ]
  },
  {
   "cell_type": "code",
   "execution_count": 62,
   "metadata": {},
   "outputs": [
    {
     "name": "stdout",
     "output_type": "stream",
     "text": [
      "Cool mode activated and temp is 18\n"
     ]
    }
   ],
   "source": [
    "samsunAc.setmode('Cool')"
   ]
  },
  {
   "cell_type": "code",
   "execution_count": 63,
   "metadata": {},
   "outputs": [
    {
     "name": "stdout",
     "output_type": "stream",
     "text": [
      "Temp is 19\n"
     ]
    }
   ],
   "source": [
    "samsunAc.increase_temp()"
   ]
  },
  {
   "cell_type": "code",
   "execution_count": 64,
   "metadata": {},
   "outputs": [
    {
     "name": "stdout",
     "output_type": "stream",
     "text": [
      "Temp is 20\n"
     ]
    }
   ],
   "source": [
    "samsunAc.increase_temp()"
   ]
  },
  {
   "cell_type": "code",
   "execution_count": 65,
   "metadata": {},
   "outputs": [
    {
     "name": "stdout",
     "output_type": "stream",
     "text": [
      "Temp is 21\n"
     ]
    }
   ],
   "source": [
    "samsunAc.increase_temp()"
   ]
  },
  {
   "cell_type": "markdown",
   "metadata": {},
   "source": [
    "# setters and getters"
   ]
  },
  {
   "cell_type": "code",
   "execution_count": 67,
   "metadata": {},
   "outputs": [],
   "source": [
    "class Car:\n",
    "    def __init__(self,maxspeed):\n",
    "        self.maxspeed = maxspeed\n",
    "        self.fuel = 0\n",
    "        self.speed = 0\n",
    "        \n",
    "    def refuel(self):\n",
    "        self.fuel = 30\n",
    "        print('The Car is fully refilled')\n",
    "    \n",
    "    def setSpeed(self,speed): # setter\n",
    "        if speed > self.maxspeed:\n",
    "            print('Sorry Bro this is the limit!!')\n",
    "        else:\n",
    "            self.speed = speed\n",
    "            print('The speed is now',speed)\n",
    "        \n",
    "    def startTheCar(self):\n",
    "        if self.fuel == 0:\n",
    "            print('Fuel is Empty We can not start the car!!')\n",
    "        else:\n",
    "            self.setSpeed(10)\n",
    "    \n",
    "    def accelerate(self):\n",
    "        self.setSpeed(self.speed + 10)\n",
    "        \n",
    "    def getSpeed(self): ## getter function for getting a object attribute's value\n",
    "        return self.speed"
   ]
  },
  {
   "cell_type": "code",
   "execution_count": 68,
   "metadata": {},
   "outputs": [],
   "source": [
    "breeza = Car(220)"
   ]
  },
  {
   "cell_type": "code",
   "execution_count": 69,
   "metadata": {},
   "outputs": [
    {
     "data": {
      "text/plain": [
       "0"
      ]
     },
     "execution_count": 69,
     "metadata": {},
     "output_type": "execute_result"
    }
   ],
   "source": [
    "breeza.getSpeed()"
   ]
  },
  {
   "cell_type": "code",
   "execution_count": 70,
   "metadata": {},
   "outputs": [
    {
     "name": "stdout",
     "output_type": "stream",
     "text": [
      "The speed is now 20\n"
     ]
    }
   ],
   "source": [
    "breeza.setSpeed(20)"
   ]
  },
  {
   "cell_type": "code",
   "execution_count": null,
   "metadata": {},
   "outputs": [],
   "source": [
    "# Question: Implement Pricing for refuel.\n",
    "#     fuel 100rs per L.\n",
    "class Car:\n",
    "    def __init__(self,maxspeed):\n",
    "        self.maxspeed = maxspeed\n",
    "        self.fuel = 0\n",
    "        self.speed = 0\n",
    "        \n",
    "    def refuel(self):\n",
    "        self.fuel = 30\n",
    "        print('The Car is fully refilled')\n",
    "    \n",
    "    def setSpeed(self,speed): # setter\n",
    "        if speed > self.maxspeed:\n",
    "            print('Sorry Bro this is the limit!!')\n",
    "        else:\n",
    "            self.speed = speed\n",
    "            print('The speed is now',speed)\n",
    "        \n",
    "    def startTheCar(self):\n",
    "        if self.fuel == 0:\n",
    "            print('Fuel is Empty We can not start the car!!')\n",
    "        else:\n",
    "            self.setSpeed(10)\n",
    "    \n",
    "    def accelerate(self):\n",
    "        self.setSpeed(self.speed + 10)\n",
    "        \n",
    "    def getSpeed(self): ## getter function for getting a object attribute's value\n",
    "        return self.speed"
   ]
  },
  {
   "cell_type": "code",
   "execution_count": null,
   "metadata": {},
   "outputs": [],
   "source": [
    "Implement 2 classes around you."
   ]
  }
 ],
 "metadata": {
  "kernelspec": {
   "display_name": "Python 3",
   "language": "python",
   "name": "python3"
  },
  "language_info": {
   "codemirror_mode": {
    "name": "ipython",
    "version": 3
   },
   "file_extension": ".py",
   "mimetype": "text/x-python",
   "name": "python",
   "nbconvert_exporter": "python",
   "pygments_lexer": "ipython3",
   "version": "3.8.3"
  }
 },
 "nbformat": 4,
 "nbformat_minor": 4
}
