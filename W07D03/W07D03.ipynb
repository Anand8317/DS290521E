{
 "cells": [
  {
   "cell_type": "code",
   "execution_count": 2,
   "metadata": {},
   "outputs": [],
   "source": [
    "class library:\n",
    "    list_of_books = ['Wings and Fire','Harry Potter','Gulliver’s Travels','Alice’s Adventures in Wonderland','The Call of the Wild']\n",
    "    book_issued = []\n",
    "\n",
    "    def book_issue(self,book_name_issue,student_Id):\n",
    "        self.book_name_issue = book_name_issue\n",
    "        self.student_Id = student_Id\n",
    "        if self.book_name_issue not in library.book_issued:\n",
    "            print('{} issued to student Id {}'.format(self.book_name_issue,self.student_Id))\n",
    "            library.book_issued.append(self.book_name_issue)\n",
    "        else:\n",
    "            print('book is already issued')\n",
    "    def book_return(self,book_name_return):\n",
    "        self.book_name_return = book_name_return\n",
    "        if self.book_name_return in library.book_issued:\n",
    "            print('book is returned')\n",
    "            library.book_issued.remove(self.book_name_return)\n",
    "        else:\n",
    "            print('this is wrong book')\n",
    "\n",
    "    def book_search(self,book_name_search):\n",
    "        self.book_name_search = book_name_search\n",
    "        if self.book_name_search in library.list_of_books:\n",
    "            print('book is available in library')\n",
    "        else:\n",
    "            print('book is not available in library')"
   ]
  },
  {
   "cell_type": "code",
   "execution_count": 3,
   "metadata": {},
   "outputs": [],
   "source": [
    "mohitAccount = library()"
   ]
  },
  {
   "cell_type": "code",
   "execution_count": 4,
   "metadata": {},
   "outputs": [
    {
     "name": "stdout",
     "output_type": "stream",
     "text": [
      "book is not available in library\n"
     ]
    }
   ],
   "source": [
    "mohitAccount.book_search('Harry Potter 7')"
   ]
  },
  {
   "cell_type": "code",
   "execution_count": 5,
   "metadata": {},
   "outputs": [
    {
     "name": "stdout",
     "output_type": "stream",
     "text": [
      "book is available in library\n"
     ]
    }
   ],
   "source": [
    "mohitAccount.book_search('Harry Potter')"
   ]
  },
  {
   "cell_type": "code",
   "execution_count": 7,
   "metadata": {},
   "outputs": [
    {
     "name": "stdout",
     "output_type": "stream",
     "text": [
      "Harry Potter issued to student Id 2478\n"
     ]
    }
   ],
   "source": [
    "mohitAccount.book_issue('Harry Potter',2478)"
   ]
  },
  {
   "cell_type": "code",
   "execution_count": 8,
   "metadata": {},
   "outputs": [],
   "source": [
    "manishAccount = library()"
   ]
  },
  {
   "cell_type": "code",
   "execution_count": 9,
   "metadata": {},
   "outputs": [
    {
     "name": "stdout",
     "output_type": "stream",
     "text": [
      "book is already issued\n"
     ]
    }
   ],
   "source": [
    "manishAccount.book_issue('Harry Potter',456)"
   ]
  },
  {
   "cell_type": "code",
   "execution_count": 11,
   "metadata": {},
   "outputs": [
    {
     "name": "stdout",
     "output_type": "stream",
     "text": [
      "book is returned\n"
     ]
    }
   ],
   "source": [
    "manishAccount.book_return('Harry Potter')"
   ]
  },
  {
   "cell_type": "code",
   "execution_count": 12,
   "metadata": {},
   "outputs": [
    {
     "name": "stdout",
     "output_type": "stream",
     "text": [
      "I am Angel issued to student Id 456\n"
     ]
    }
   ],
   "source": [
    "manishAccount.book_issue('I am Angel',456)"
   ]
  },
  {
   "cell_type": "code",
   "execution_count": null,
   "metadata": {},
   "outputs": [],
   "source": [
    "Homework: Create a library and implement feaures like issue book, return book, no of copies of book"
   ]
  },
  {
   "cell_type": "code",
   "execution_count": null,
   "metadata": {},
   "outputs": [],
   "source": [
    "static methods are thodse methods which does not change anything usually in Object attributes or\n",
    "class attributes, they do simple calcualtions , often required as an utility to the class.\n",
    "\n",
    "@staticmethod decorator is used to create a static method."
   ]
  },
  {
   "cell_type": "code",
   "execution_count": 27,
   "metadata": {},
   "outputs": [],
   "source": [
    "class Student:\n",
    "    student_list = []\n",
    "    total_marks = 300\n",
    "    failure_percentage = 33\n",
    "    def __init__(self,name,roll_no):\n",
    "        self.Name = name\n",
    "        self.Roll_No = roll_no\n",
    "        self.marks = {'history':0,'mechanics':0,'chemistry':0}\n",
    "        self.percentage = 0\n",
    "        self.fail = False\n",
    "        Student.student_list.append(self)\n",
    "        print(self.percentage_formula(20,100))\n",
    "        \n",
    "    def add_marks(self,marks):\n",
    "        self.marks = marks\n",
    "        self.percentage = self.percentage_formula(sum(marks.values()),Student.total_marks)\n",
    "        if self.percentage < Student.failure_percentage:\n",
    "            self.fail = True\n",
    "            \n",
    "    @classmethod\n",
    "    def find_topper(cls):\n",
    "        highest_percent = 0\n",
    "        current_topper = cls.student_list[0]\n",
    "        for st in cls.student_list:\n",
    "            if st.percentage > highest_percent:\n",
    "                highest_percent = st.percentage\n",
    "                current_topper = st\n",
    "        return current_topper\n",
    "    \n",
    "    @classmethod\n",
    "    def find_failures(cls):\n",
    "        fail_list = []\n",
    "        for st in cls.student_list:\n",
    "            if st.fail == True:\n",
    "                fail_list.append(st)\n",
    "        return fail_list\n",
    "    \n",
    "    @classmethod\n",
    "    def find_failPercentage(cls):\n",
    "        no_of_failures = len(cls.find_failures())\n",
    "        total_students = len(cls.student_list)\n",
    "        print(cls.percentage_formula(no_of_failures,total_students))\n",
    "    \n",
    "    @staticmethod\n",
    "    def percentage_formula(obt_marks,total_marks):\n",
    "        return (obt_marks/total_marks)*100\n",
    "    \n",
    "    @staticmethod\n",
    "    def even_numbers(list1):\n",
    "        return [i for i in list1 if i%2==0]"
   ]
  },
  {
   "cell_type": "code",
   "execution_count": 28,
   "metadata": {},
   "outputs": [
    {
     "name": "stdout",
     "output_type": "stream",
     "text": [
      "20.0\n",
      "20.0\n",
      "20.0\n",
      "20.0\n",
      "20.0\n"
     ]
    }
   ],
   "source": [
    "ishtiyak = Student('Ishtiyak Hashmi',7)\n",
    "tej = Student('Tej Shrivastav',8)\n",
    "chanda = Student('Chanda Yadav',2)\n",
    "aparna = Student('Aparna',1)\n",
    "meghna = Student('Meghna Yadav',5)\n",
    "\n",
    "ishtiyak.add_marks({'history':10,'mechanics':20,'chemistry':99})\n",
    "tej.add_marks({'history':20,'mechanics':10,'chemistry':9})\n",
    "chanda.add_marks({'history':5,'mechanics':90,'chemistry':100})\n",
    "aparna.add_marks({'history':80,'mechanics':80,'chemistry':99})\n",
    "meghna.add_marks({'history':0,'mechanics':0,'chemistry':19})"
   ]
  },
  {
   "cell_type": "code",
   "execution_count": 18,
   "metadata": {},
   "outputs": [
    {
     "data": {
      "text/plain": [
       "'Aparna'"
      ]
     },
     "execution_count": 18,
     "metadata": {},
     "output_type": "execute_result"
    }
   ],
   "source": [
    "Student.find_topper().Name"
   ]
  },
  {
   "cell_type": "code",
   "execution_count": 19,
   "metadata": {},
   "outputs": [
    {
     "name": "stdout",
     "output_type": "stream",
     "text": [
      "Tej Shrivastav\n",
      "Meghna Yadav\n"
     ]
    }
   ],
   "source": [
    "for fl in Student.find_failures():\n",
    "    print(fl.Name)"
   ]
  },
  {
   "cell_type": "code",
   "execution_count": 20,
   "metadata": {},
   "outputs": [
    {
     "name": "stdout",
     "output_type": "stream",
     "text": [
      "Ishtiyak Hashmi 7 38.0\n",
      "Tej Shrivastav 8 8.0\n",
      "Chanda Yadav 2 60.0\n",
      "Aparna 1 81.33333333333333\n",
      "Meghna Yadav 5 1.333333333333334\n"
     ]
    }
   ],
   "source": [
    "for st in Student.student_list:\n",
    "    print(st.Name,st.Roll_No,st.percentage)"
   ]
  },
  {
   "cell_type": "code",
   "execution_count": 29,
   "metadata": {},
   "outputs": [
    {
     "name": "stdout",
     "output_type": "stream",
     "text": [
      "40.0\n"
     ]
    }
   ],
   "source": [
    "Student.find_failPercentage()"
   ]
  },
  {
   "cell_type": "code",
   "execution_count": null,
   "metadata": {},
   "outputs": [],
   "source": [
    "Q1) Create a class Animal, and Implement following things.\n",
    "animal_obj = Animal()\n",
    "if I call animal_obj.eat() => obj_name is eating.\n",
    "animal_obj.walk() => it should print walking with obj_no_of_legs\n",
    "animal_obj.getName() => return me the name\n",
    "animal_obj.setName() => set the name of the animal\n",
    "setters and getters for no_of_legs."
   ]
  },
  {
   "cell_type": "code",
   "execution_count": 46,
   "metadata": {},
   "outputs": [],
   "source": [
    "class Animal:\n",
    "    def __init__(animal_obj,name,legs):\n",
    "        animal_obj.name = name\n",
    "        animal_obj.legs = legs\n",
    "        \n",
    "    def walk(animal_obj):\n",
    "        print(animal_obj.name,\"walk with\",animal_obj.legs,' no of legs')\n",
    "        \n",
    "    def eat(animal_obj):\n",
    "        print(animal_obj.name,' is eating')\n",
    "        \n",
    "    def setname(animal_obj,name):\n",
    "        animal_obj.name = name\n",
    "    \n",
    "    def getname(animal_obj):\n",
    "        return animal_obj.name\n",
    "    \n",
    "    def set_no_of_legs(animal_obj,no_of_legs):\n",
    "        animal_obj.legs = no_of_legs\n",
    "    \n",
    "    def get_no_of_legs(animal_obj):\n",
    "        return animal_obj.legs"
   ]
  },
  {
   "cell_type": "code",
   "execution_count": 47,
   "metadata": {},
   "outputs": [],
   "source": [
    "dog = Animal('Yuki singh',4)"
   ]
  },
  {
   "cell_type": "code",
   "execution_count": 48,
   "metadata": {},
   "outputs": [
    {
     "data": {
      "text/plain": [
       "'Yuki singh'"
      ]
     },
     "execution_count": 48,
     "metadata": {},
     "output_type": "execute_result"
    }
   ],
   "source": [
    "dog.getname()"
   ]
  },
  {
   "cell_type": "code",
   "execution_count": 49,
   "metadata": {},
   "outputs": [
    {
     "name": "stdout",
     "output_type": "stream",
     "text": [
      "Yuki singh walk with 4  no of legs\n"
     ]
    }
   ],
   "source": [
    "dog.walk()"
   ]
  },
  {
   "cell_type": "code",
   "execution_count": 50,
   "metadata": {},
   "outputs": [
    {
     "name": "stdout",
     "output_type": "stream",
     "text": [
      "Yuki singh  is eating\n"
     ]
    }
   ],
   "source": [
    "dog.eat()"
   ]
  },
  {
   "cell_type": "code",
   "execution_count": 51,
   "metadata": {},
   "outputs": [],
   "source": [
    "dog.set_no_of_legs(5)"
   ]
  },
  {
   "cell_type": "code",
   "execution_count": 52,
   "metadata": {},
   "outputs": [
    {
     "name": "stdout",
     "output_type": "stream",
     "text": [
      "Yuki singh walk with 5  no of legs\n"
     ]
    }
   ],
   "source": [
    "dog.walk()"
   ]
  },
  {
   "cell_type": "code",
   "execution_count": 53,
   "metadata": {},
   "outputs": [
    {
     "data": {
      "text/plain": [
       "5"
      ]
     },
     "execution_count": 53,
     "metadata": {},
     "output_type": "execute_result"
    }
   ],
   "source": [
    "dog.get_no_of_legs()"
   ]
  },
  {
   "cell_type": "code",
   "execution_count": 54,
   "metadata": {},
   "outputs": [],
   "source": [
    "class Animal:\n",
    "    def __init__(self,name,color,age,no_of_legs):\n",
    "        self.name=name\n",
    "        self.age=age\n",
    "        self.color=color\n",
    "        self.no_of_legs=no_of_legs\n",
    "        self.nameofperson = None\n",
    "        self.no_of_legs=None\n",
    "\n",
    "    def bark(self):\n",
    "        print('Bhow Bhow!!')\n",
    "        \n",
    "    def eat(self):\n",
    "        print(self.name,' is eating')\n",
    "        \n",
    "    def walk(self):\n",
    "        print(self.name,self.no_of_legs,' is going for a walk')\n",
    "        \n",
    "    def getName(self):\n",
    "        if self.nameofanimal!=None:\n",
    "            return self.nameofanimal\n",
    "        \n",
    "    def setName(self,name):\n",
    "        self.nameofanimal = name\n",
    "        \n",
    "    def getno_of_legs(self,no_of_legs):\n",
    "        if self.no_of_legs!=None:\n",
    "            return self.no_of_legs\n",
    "        \n",
    "    def setno_of_legs(self,no_of_legs):\n",
    "        self.no_of_legs = no_of_legs"
   ]
  },
  {
   "cell_type": "code",
   "execution_count": null,
   "metadata": {},
   "outputs": [],
   "source": [
    "Q2) Create a Class named Vehicle which will do the following things\n",
    "brake() => it should decrease the speed of vehicle to 0\n",
    "slow_down() => it should slow the car speed by 10 units.\n",
    "accelerate() => it should increase the speed by 10 units.\n",
    "ignite() => it should start the car with speed 0\n",
    "gear_up() => it should increase the gear by 1. but toatl no of gears\n",
    "are only 5\n",
    "gear_down() => it should decrease the gear by 1. but total no of gears\n",
    "are more than 1."
   ]
  },
  {
   "cell_type": "code",
   "execution_count": 78,
   "metadata": {},
   "outputs": [],
   "source": [
    "class Vehicle:\n",
    "    def __init__(self,no_of_gears,maxspeed):\n",
    "        self.no_of_gears = no_of_gears\n",
    "        self.maxspeed = maxspeed\n",
    "        self.gear = 0\n",
    "        self.speed = 0\n",
    "    \n",
    "    def getspeed(self):\n",
    "        return self.speed\n",
    "    \n",
    "    def setspeed(self,speed):\n",
    "        if self.on:\n",
    "            self.speed = speed\n",
    "        \n",
    "    def apply_brakes(self):\n",
    "        if self.on:\n",
    "            if self.speed>=10:\n",
    "                self.speed-=10\n",
    "                print(self.speed)\n",
    "            else:\n",
    "                self.speed = 0\n",
    "                print(self.speed)\n",
    "        \n",
    "    def accelerate(self):\n",
    "        if self.on:\n",
    "            self.speed+=10\n",
    "            print(self.speed)\n",
    "        \n",
    "    def ignite(self):\n",
    "        self.on = True\n",
    "        self.speed = 0\n",
    "    \n",
    "    def gear_up(self):\n",
    "        if self.gear <= self.no_of_gears-1:\n",
    "            self.gear+=1\n",
    "    \n",
    "    def gear_down(self):\n",
    "        if self.gear >= 1:\n",
    "            self.gear-=1"
   ]
  },
  {
   "cell_type": "code",
   "execution_count": 79,
   "metadata": {},
   "outputs": [],
   "source": [
    "breeza = Vehicle(5,220)"
   ]
  },
  {
   "cell_type": "code",
   "execution_count": 80,
   "metadata": {},
   "outputs": [],
   "source": [
    "breeza.ignite()"
   ]
  },
  {
   "cell_type": "code",
   "execution_count": 81,
   "metadata": {},
   "outputs": [
    {
     "name": "stdout",
     "output_type": "stream",
     "text": [
      "0\n"
     ]
    }
   ],
   "source": [
    "breeza.apply_brakes()"
   ]
  },
  {
   "cell_type": "code",
   "execution_count": 82,
   "metadata": {},
   "outputs": [
    {
     "name": "stdout",
     "output_type": "stream",
     "text": [
      "10\n"
     ]
    }
   ],
   "source": [
    "breeza.accelerate()"
   ]
  },
  {
   "cell_type": "code",
   "execution_count": null,
   "metadata": {},
   "outputs": [],
   "source": [
    "DUNDER METHODS: DOUBLE UNDERSCORE METHODS\n",
    "SPECIAL METHODS\n",
    "MAGIC METHODS\n",
    "\n",
    "there are various kinds of dunder methods like:\n",
    "    \n",
    "__init__ => when object is created.\n",
    "__add__ => this is called when we use + operator between 2 object of a class."
   ]
  },
  {
   "cell_type": "code",
   "execution_count": 112,
   "metadata": {},
   "outputs": [],
   "source": [
    "class Complex:\n",
    "    def __init__(self,real,imag):\n",
    "        self.real = real\n",
    "        self.imag = imag\n",
    "        \n",
    "    def __add__(self,other):\n",
    "        return Complex(self.real+other.real,self.imag+other.imag)\n",
    "    \n",
    "    def __sub__(self,other):\n",
    "        return Complex(self.real-other.real,self.imag-other.imag)\n",
    "    \n",
    "    def __neg__(self):\n",
    "        return Complex(-self.real,-self.imag)\n",
    "    \n",
    "    def __str__(self):\n",
    "        return str(self.real) + ' + i'+str(self.imag)\n",
    "    \n",
    "    def __repr__(self):\n",
    "        return 'Complex '+str(self)"
   ]
  },
  {
   "cell_type": "code",
   "execution_count": 113,
   "metadata": {},
   "outputs": [],
   "source": [
    "c1 = Complex(1,2)"
   ]
  },
  {
   "cell_type": "code",
   "execution_count": 114,
   "metadata": {},
   "outputs": [
    {
     "data": {
      "text/plain": [
       "'Complex 1 + i2'"
      ]
     },
     "execution_count": 114,
     "metadata": {},
     "output_type": "execute_result"
    }
   ],
   "source": [
    "repr(c1)"
   ]
  },
  {
   "cell_type": "code",
   "execution_count": 104,
   "metadata": {},
   "outputs": [],
   "source": [
    "c2 = Complex(2,3)"
   ]
  },
  {
   "cell_type": "code",
   "execution_count": 105,
   "metadata": {},
   "outputs": [
    {
     "data": {
      "text/plain": [
       "<__main__.Complex at 0xff2c28>"
      ]
     },
     "execution_count": 105,
     "metadata": {},
     "output_type": "execute_result"
    }
   ],
   "source": [
    "-c2"
   ]
  },
  {
   "cell_type": "code",
   "execution_count": 106,
   "metadata": {},
   "outputs": [],
   "source": [
    "c4 = c2-c1"
   ]
  },
  {
   "cell_type": "code",
   "execution_count": 107,
   "metadata": {},
   "outputs": [
    {
     "data": {
      "text/plain": [
       "'<__main__.Complex object at 0x00FF2868>'"
      ]
     },
     "execution_count": 107,
     "metadata": {},
     "output_type": "execute_result"
    }
   ],
   "source": [
    "str(c4)"
   ]
  },
  {
   "cell_type": "code",
   "execution_count": 108,
   "metadata": {},
   "outputs": [],
   "source": [
    "c3 = c1+c2"
   ]
  },
  {
   "cell_type": "code",
   "execution_count": 109,
   "metadata": {},
   "outputs": [
    {
     "name": "stdout",
     "output_type": "stream",
     "text": [
      "3 5\n"
     ]
    }
   ],
   "source": [
    "print(c3.real,c3.imag)"
   ]
  },
  {
   "cell_type": "code",
   "execution_count": 111,
   "metadata": {},
   "outputs": [],
   "source": [
    "# Operator Overloading: Using the existing operator on userdefined objects."
   ]
  },
  {
   "cell_type": "code",
   "execution_count": 99,
   "metadata": {},
   "outputs": [
    {
     "data": {
      "text/plain": [
       "15"
      ]
     },
     "execution_count": 99,
     "metadata": {},
     "output_type": "execute_result"
    }
   ],
   "source": [
    "7+8"
   ]
  },
  {
   "cell_type": "code",
   "execution_count": 100,
   "metadata": {},
   "outputs": [
    {
     "data": {
      "text/plain": [
       "'applemango'"
      ]
     },
     "execution_count": 100,
     "metadata": {},
     "output_type": "execute_result"
    }
   ],
   "source": [
    "'apple'+'mango'"
   ]
  },
  {
   "cell_type": "code",
   "execution_count": null,
   "metadata": {},
   "outputs": [],
   "source": [
    "dunder methods can be used for:\n",
    "    - Operator Overlaoding\n",
    "    - for making the code syntax generic across all the object"
   ]
  },
  {
   "cell_type": "code",
   "execution_count": 115,
   "metadata": {},
   "outputs": [
    {
     "data": {
      "text/plain": [
       "[1, 2, 3, 'apple', 'mango']"
      ]
     },
     "execution_count": 115,
     "metadata": {},
     "output_type": "execute_result"
    }
   ],
   "source": [
    "[1,2,3]+['apple','mango']"
   ]
  },
  {
   "cell_type": "code",
   "execution_count": null,
   "metadata": {},
   "outputs": [],
   "source": []
  }
 ],
 "metadata": {
  "kernelspec": {
   "display_name": "Python 3",
   "language": "python",
   "name": "python3"
  },
  "language_info": {
   "codemirror_mode": {
    "name": "ipython",
    "version": 3
   },
   "file_extension": ".py",
   "mimetype": "text/x-python",
   "name": "python",
   "nbconvert_exporter": "python",
   "pygments_lexer": "ipython3",
   "version": "3.8.3"
  }
 },
 "nbformat": 4,
 "nbformat_minor": 4
}
