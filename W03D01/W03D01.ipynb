{
 "cells": [
  {
   "cell_type": "code",
   "execution_count": 1,
   "metadata": {},
   "outputs": [
    {
     "name": "stdout",
     "output_type": "stream",
     "text": [
      "true\n",
      "false\n",
      "false\n",
      "true\n",
      "false\n"
     ]
    }
   ],
   "source": [
    "str1=['the quick brown fox jumps over a lazy dog','the quick blue fox jumps over a lazy dog','happy','aaaabcdefghijklmnopqrstuvwxyzzzz','tomorrow']\n",
    "str2=['a','b','c','d','e','f','g','h','i','j','k','l','m','n','o','p','q','r','s','t','u','v','w','x','y','z']\n",
    "\n",
    "res=0\n",
    "for str3 in str1:\n",
    "    for i in str2:\n",
    "        if i in str3:\n",
    "            res+=1\n",
    "        else:\n",
    "            res=0\n",
    "    if res>=26:\n",
    "        print(\"true\")\n",
    "    else:\n",
    "        print(\"false\")"
   ]
  },
  {
   "cell_type": "code",
   "execution_count": 28,
   "metadata": {},
   "outputs": [
    {
     "name": "stdout",
     "output_type": "stream",
     "text": [
      "{'a': 0, 'b': 0, 'c': 0, 'd': 0, 'e': 0, 'f': 0, 'g': 0, 'h': 0, 'i': 0, 'j': 0, 'k': 0, 'l': 0, 'm': 0, 'n': 0, 'o': 0, 'p': 0, 'q': 0, 'r': 0, 's': 0, 't': 0, 'u': 0, 'v': 0, 'w': 0, 'x': 0, 'y': 0, 'z': 0}\n",
      "True\n"
     ]
    }
   ],
   "source": [
    "# Quesiton: if all the small alphabets are preseint in the string or not.\n",
    "string1='the quick brown fox jumps over a lazy dog'\n",
    "string2='the quick blue fox jumps over a lazy dog'\n",
    "string3='happy'\n",
    "string4='aaaabcdefghijklmnopqrstuvwxyz'\n",
    "string5='tommarrow'\n",
    "alpha_dict={}\n",
    "for m in range(ord('a'),ord('z')+1):\n",
    "    alpha_dict[chr(m)] = 0\n",
    "\n",
    "print(alpha_dict)    \n",
    "\n",
    "for char in string4:\n",
    "    index = ord(char)\n",
    "    if index>=97 and index <= 122:\n",
    "        alpha_dict[char] = 1\n",
    "\n",
    "if sum(alpha_dict.values()) == 26:\n",
    "    print('True')\n",
    "else:\n",
    "    print('False')"
   ]
  },
  {
   "cell_type": "code",
   "execution_count": 20,
   "metadata": {},
   "outputs": [
    {
     "data": {
      "text/plain": [
       "97"
      ]
     },
     "execution_count": 20,
     "metadata": {},
     "output_type": "execute_result"
    }
   ],
   "source": [
    "ord('a')"
   ]
  },
  {
   "cell_type": "code",
   "execution_count": 21,
   "metadata": {},
   "outputs": [
    {
     "data": {
      "text/plain": [
       "122"
      ]
     },
     "execution_count": 21,
     "metadata": {},
     "output_type": "execute_result"
    }
   ],
   "source": [
    "ord('z')"
   ]
  },
  {
   "cell_type": "code",
   "execution_count": 24,
   "metadata": {},
   "outputs": [
    {
     "name": "stdout",
     "output_type": "stream",
     "text": [
      "a 97 0\n",
      "b 98 1\n",
      "c 99 2\n",
      "d 100 3\n",
      "e 101 4\n",
      "f 102 5\n",
      "g 103 6\n",
      "h 104 7\n",
      "i 105 8\n",
      "j 106 9\n",
      "k 107 10\n",
      "l 108 11\n",
      "m 109 12\n",
      "n 110 13\n",
      "o 111 14\n",
      "p 112 15\n",
      "q 113 16\n",
      "r 114 17\n",
      "s 115 18\n",
      "t 116 19\n",
      "u 117 20\n",
      "v 118 21\n",
      "w 119 22\n",
      "x 120 23\n",
      "y 121 24\n",
      "z 122 25\n"
     ]
    }
   ],
   "source": [
    "for i in range(ord('a'),ord('z')+1):\n",
    "    print(chr(i),i,i-97)"
   ]
  },
  {
   "cell_type": "code",
   "execution_count": 25,
   "metadata": {},
   "outputs": [
    {
     "data": {
      "text/plain": [
       "-32"
      ]
     },
     "execution_count": 25,
     "metadata": {},
     "output_type": "execute_result"
    }
   ],
   "source": [
    "ord('A') - 97"
   ]
  },
  {
   "cell_type": "code",
   "execution_count": null,
   "metadata": {},
   "outputs": [],
   "source": [
    "# while loop"
   ]
  },
  {
   "cell_type": "code",
   "execution_count": null,
   "metadata": {},
   "outputs": [],
   "source": [
    "while condition/boolean_Equivalents:\n",
    "    block of code\n",
    "if true block of code will run"
   ]
  },
  {
   "cell_type": "code",
   "execution_count": 29,
   "metadata": {},
   "outputs": [
    {
     "name": "stdout",
     "output_type": "stream",
     "text": [
      "trying to reconnect....\n",
      "trying to reconnect....\n",
      "trying to reconnect....\n",
      "trying to reconnect....\n",
      "trying to reconnect....\n",
      "trying to reconnect....\n",
      "trying to reconnect....\n",
      "trying to reconnect....\n",
      "trying to reconnect....\n",
      "trying to reconnect....\n",
      "trying to reconnect....\n",
      "trying to reconnect....\n",
      "trying to reconnect....\n",
      "trying to reconnect....\n",
      "trying to reconnect....\n",
      "trying to reconnect....\n",
      "trying to reconnect....\n",
      "trying to reconnect....\n",
      "trying to reconnect....\n",
      "trying to reconnect....\n",
      "trying to reconnect....\n",
      "trying to reconnect....\n",
      "trying to reconnect....\n",
      "trying to reconnect....\n",
      "trying to reconnect....\n",
      "trying to reconnect....\n",
      "trying to reconnect....\n",
      "trying to reconnect....\n",
      "trying to reconnect....\n",
      "trying to reconnect....\n",
      "trying to reconnect....\n",
      "trying to reconnect....\n",
      "trying to reconnect....\n",
      "trying to reconnect....\n",
      "trying to reconnect....\n",
      "trying to reconnect....\n",
      "trying to reconnect....\n",
      "trying to reconnect....\n",
      "trying to reconnect....\n",
      "trying to reconnect....\n",
      "trying to reconnect....\n",
      "trying to reconnect....\n",
      "trying to reconnect....\n",
      "trying to reconnect....\n",
      "trying to reconnect....\n",
      "trying to reconnect....\n",
      "trying to reconnect....\n",
      "trying to reconnect....\n",
      "trying to reconnect....\n",
      "trying to reconnect....\n"
     ]
    }
   ],
   "source": [
    "internet_connection = False\n",
    "count = 0\n",
    "\n",
    "while not internet_connection:\n",
    "    print('trying to reconnect....')\n",
    "    count+=1\n",
    "    if count == 50:\n",
    "        internet_connection = True"
   ]
  },
  {
   "cell_type": "code",
   "execution_count": 31,
   "metadata": {},
   "outputs": [],
   "source": [
    "while True:\n",
    "    print('hello Nitish Kumar')\n",
    "    \n",
    "# This is how we make an infinite loop. This generally occurs by mistake in a program and breaks the whole program."
   ]
  },
  {
   "cell_type": "code",
   "execution_count": 33,
   "metadata": {},
   "outputs": [
    {
     "name": "stdout",
     "output_type": "stream",
     "text": [
      "0\n",
      "Paying Payment of Rs 1\n",
      "1\n",
      "Paying Payment of Rs 2\n",
      "2\n",
      "Paying Payment of Rs 3\n",
      "3\n",
      "Paying Payment of Rs 4\n",
      "4\n",
      "Paying Payment of Rs 5\n",
      "5\n",
      "Paying Payment of Rs 6\n",
      "6\n",
      "Paying Payment of Rs 7\n",
      "7\n",
      "Paying Payment of Rs 8\n",
      "8\n",
      "Paying Payment of Rs 9\n",
      "9\n",
      "Paying Payment of Rs 10\n"
     ]
    }
   ],
   "source": [
    "x = 0\n",
    "while x<10:\n",
    "    print(x)\n",
    "    x += 1\n",
    "    print('Paying Payment of Rs',x)"
   ]
  },
  {
   "cell_type": "code",
   "execution_count": 34,
   "metadata": {},
   "outputs": [
    {
     "name": "stdout",
     "output_type": "stream",
     "text": [
      "False\n"
     ]
    }
   ],
   "source": [
    "x = 10\n",
    "print(bool(x<10))"
   ]
  },
  {
   "cell_type": "code",
   "execution_count": 41,
   "metadata": {},
   "outputs": [
    {
     "name": "stdout",
     "output_type": "stream",
     "text": [
      "2\n",
      "4\n",
      "6\n",
      "8\n",
      "10\n",
      "12\n",
      "14\n",
      "16\n",
      "18\n",
      "20\n",
      "\n",
      "\n",
      "3\n",
      "6\n",
      "9\n",
      "12\n",
      "15\n",
      "18\n",
      "21\n",
      "24\n",
      "27\n",
      "30\n",
      "\n",
      "\n",
      "5\n",
      "10\n",
      "15\n",
      "20\n",
      "25\n",
      "30\n",
      "35\n",
      "40\n",
      "45\n",
      "50\n",
      "\n",
      "\n"
     ]
    }
   ],
   "source": [
    "# Question: Print tables of 2,3,5\n",
    "    \n",
    "# for i in range(1,11):\n",
    "#     print(2*i)\n",
    "\n",
    "# print('\\n')\n",
    "    \n",
    "# for i in range(1,11):\n",
    "#     print(3*i)\n",
    "\n",
    "# print('\\n')\n",
    "    \n",
    "# for i in range(1,11):\n",
    "#     print(5*i)\n",
    "    \n",
    "for j in [2,3,5]:\n",
    "    for i in range(1,11):\n",
    "        print(j*i)\n",
    "    print('\\n')"
   ]
  },
  {
   "cell_type": "code",
   "execution_count": null,
   "metadata": {},
   "outputs": [],
   "source": []
  }
 ],
 "metadata": {
  "kernelspec": {
   "display_name": "Python 3",
   "language": "python",
   "name": "python3"
  },
  "language_info": {
   "codemirror_mode": {
    "name": "ipython",
    "version": 3
   },
   "file_extension": ".py",
   "mimetype": "text/x-python",
   "name": "python",
   "nbconvert_exporter": "python",
   "pygments_lexer": "ipython3",
   "version": "3.8.3"
  }
 },
 "nbformat": 4,
 "nbformat_minor": 4
}
