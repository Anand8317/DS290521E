{
 "cells": [
  {
   "cell_type": "code",
   "execution_count": 1,
   "metadata": {},
   "outputs": [],
   "source": [
    "import re"
   ]
  },
  {
   "cell_type": "code",
   "execution_count": 3,
   "metadata": {},
   "outputs": [],
   "source": [
    "# help(re)"
   ]
  },
  {
   "cell_type": "code",
   "execution_count": 30,
   "metadata": {},
   "outputs": [],
   "source": [
    "class phone:\n",
    "    def __init__(self,brand, model,sim, band, app1, app2):\n",
    "        print(\"mobile with\", brand, \"is created\")\n",
    "        self.brand = brand\n",
    "        self.model = model\n",
    "        self.sim = sim\n",
    "        self.battery  = 0\n",
    "        self.phone = False\n",
    "        self.internate = False\n",
    "        self.band = band\n",
    "        self.app1 = app1\n",
    "        self.app2 = app2 \n",
    "        \n",
    "    def switch_on(self):\n",
    "        if self.phone == False :\n",
    "            if self.battery > 10:\n",
    "                self.phone = True\n",
    "                print(\"welcom\")\n",
    "                print(\"You are Using \", brand , model)\n",
    "            else:\n",
    "                print('Phone is not able to turn on plese charge')\n",
    "        else:\n",
    "            print('Phone is already on, with battery',self.battery, '%')\n",
    "                  \n",
    "    def charge(self):\n",
    "        self.battery = 50\n",
    "        print('The Battery is fully Charged')\n",
    "    \n",
    "    def battery_status(self):\n",
    "        print('Battery is at',self.battery, '%')\n",
    "\n",
    "    def turn_on_net(self):\n",
    "        if self.internate == False :\n",
    "            print('establishing conection to server!')\n",
    "            self.internate = True\n",
    "            print('conection established')\n",
    "            print('Now you are using', self.sim, 'Network on',self.band)\n",
    "            self.battery -= 5\n",
    "\n",
    "    def open_app1(self):\n",
    "        if self.internate == True:\n",
    "            if self.battery <= 15:\n",
    "                print(\"Can't Open Application, please charge your phone\")\n",
    "                if 15<self.battery<25:\n",
    "                    print(self.app1,'is opened, But you are running battery shortage, Please Charge')\n",
    "                    self.battery -= 5\n",
    "            else:\n",
    "                print(self.app1,'is opened Succesfully!!!')\n",
    "                self.battery -= 10\n",
    "        else:\n",
    "            print(\"Please turn on net connection\")\n",
    "    \n",
    "    def open_app2(self):\n",
    "        if self.internate == True:\n",
    "            if self.battery <= 15:\n",
    "                print(\"Can't Open Application, please charge your phone\")\n",
    "                if 15<self.battery<25:\n",
    "                    print(self.app2,'is opened, But you are running battery shortage, Please Charge')\n",
    "                    self.battery -= 5\n",
    "            else:\n",
    "                print(self.app2,'is opened Succesfully!!!')\n",
    "                self.battery -= 10\n",
    "        else:\n",
    "            print(\"Please turn on net connection\")"
   ]
  },
  {
   "cell_type": "code",
   "execution_count": 31,
   "metadata": {},
   "outputs": [
    {
     "name": "stdout",
     "output_type": "stream",
     "text": [
      "mobile with OPPO is created\n"
     ]
    }
   ],
   "source": [
    "oppoPhone = phone('OPPO', 'F19PRO 5G','JIO', '5G', 'linkedin', 'tinder')"
   ]
  },
  {
   "cell_type": "code",
   "execution_count": 32,
   "metadata": {},
   "outputs": [
    {
     "name": "stdout",
     "output_type": "stream",
     "text": [
      "establishing conection to server!\n",
      "conection established\n",
      "Now you are using JIO Network on 5G\n"
     ]
    }
   ],
   "source": [
    "oppoPhone.turn_on_net()"
   ]
  },
  {
   "cell_type": "code",
   "execution_count": 33,
   "metadata": {},
   "outputs": [
    {
     "name": "stdout",
     "output_type": "stream",
     "text": [
      "Can't Open Application, please charge your phone\n"
     ]
    }
   ],
   "source": [
    "oppoPhone.open_app2()"
   ]
  },
  {
   "cell_type": "code",
   "execution_count": 34,
   "metadata": {},
   "outputs": [
    {
     "name": "stdout",
     "output_type": "stream",
     "text": [
      "Battery is at -5 %\n"
     ]
    }
   ],
   "source": [
    "oppoPhone.battery_status()"
   ]
  },
  {
   "cell_type": "code",
   "execution_count": 35,
   "metadata": {},
   "outputs": [
    {
     "name": "stdout",
     "output_type": "stream",
     "text": [
      "The Battery is fully Charged\n"
     ]
    }
   ],
   "source": [
    "oppoPhone.charge()"
   ]
  },
  {
   "cell_type": "code",
   "execution_count": 36,
   "metadata": {},
   "outputs": [
    {
     "name": "stdout",
     "output_type": "stream",
     "text": [
      "tinder is opened Succesfully!!!\n"
     ]
    }
   ],
   "source": [
    "oppoPhone.open_app2()"
   ]
  },
  {
   "cell_type": "code",
   "execution_count": 11,
   "metadata": {},
   "outputs": [],
   "source": [
    "class Trip:\n",
    "    def __init__(self, name, city, age, phone, destination, no_of_people):\n",
    "        print(\"Details submitted successfully. \\n Default starting point- Delhi. \\n To change starting point- start_point_change. \\n Enter Next to select package.\")\n",
    "        self.name= name\n",
    "        self.city= city\n",
    "        self.age= age\n",
    "        self.phone= phone\n",
    "        self.destination= destination\n",
    "        self.starting_point= \"Delhi\"\n",
    "        self.package= '1'\n",
    "        #self.cost=cost\n",
    "        self.no_of_people= no_of_people\n",
    "        \n",
    "    def start_point_change(self):\n",
    "        if self.starting_point=='Delhi':\n",
    "            self.starting_point='Chandigarh'\n",
    "        else:\n",
    "            print('Starting point- Chandigarh')\n",
    "        print(' Starting Point- ', self.starting_point)\n",
    "    \n",
    "    def Next(self):\n",
    "        print('(1) Selected Package for 3D/2N \\n(2) change_package for 4D/3N' )\n",
    "        print('Package 1 selected')\n",
    "        \n",
    "    def change_package(self):\n",
    "        if self.package=='1':\n",
    "            self.package=='2'\n",
    "            print('Second Package selected successfully.')\n",
    "        else:\n",
    "            print(\"none selected\")\n",
    "        return self.package\n",
    "    \n",
    "    def round_trip(self):\n",
    "        print('Your starting point is',self.starting_point)\n",
    "        self.starting_point=self.destination\n",
    "        print('Your end point is', self.destination )\n",
    "            \n",
    "    def ticket_generater(self):\n",
    "        print('Name- ',self.name)\n",
    "        print('Age- ',self.age)        \n",
    "        print('City- ',self.city)        \n",
    "        print('Phone- ',self.phone)        \n",
    "        print('No of People- ', no_of_people)        \n",
    "        print('Pickup Point- ', starting_point)        \n",
    "        print('Drop Point- ', self.destination)        \n",
    "        print('Selected Package- ',self.package)            \n",
    "        print('Total Amount- ',self.cost_gen)  \n",
    "        \n",
    "    def cost_gen(self):\n",
    "        if self.starting_point== 'Delhi':\n",
    "            if self.destination== 'Delhi':\n",
    "                self.cost= 5999*self.no_of_people\n",
    "            elif self.destination=='Chandigarh':\n",
    "                self.cost= 4999*self.no_of_people\n",
    "            else:\n",
    "                self.cost= 2599*self.no_of_people\n",
    "            print('Total Cost=', self.cost)\n",
    "        elif self.starting_point== 'Chandigarh':\n",
    "            if self.destination== 'Delhi':\n",
    "                self.cost= 4999*self.no_of_people\n",
    "            elif self.destination=='Chandigarh':\n",
    "                self.cost= 3999*self.no_of_people\n",
    "            else:\n",
    "                self.cost= 2199*self.no_of_people\n",
    "            print('Total Cost=',self.cost)"
   ]
  },
  {
   "cell_type": "code",
   "execution_count": 12,
   "metadata": {},
   "outputs": [
    {
     "name": "stdout",
     "output_type": "stream",
     "text": [
      "Details submitted successfully. \n",
      " Default starting point- Delhi. \n",
      " To change starting point- start_point_change. \n",
      " Enter Next to select package.\n"
     ]
    }
   ],
   "source": [
    "trip1 = Trip('Mohit','Jaipur',50,900,\"Chandigarh\",5)"
   ]
  },
  {
   "cell_type": "code",
   "execution_count": 13,
   "metadata": {},
   "outputs": [
    {
     "name": "stdout",
     "output_type": "stream",
     "text": [
      "Total Cost= 24995\n"
     ]
    }
   ],
   "source": [
    "trip1.cost_gen()"
   ]
  },
  {
   "cell_type": "code",
   "execution_count": 15,
   "metadata": {},
   "outputs": [
    {
     "data": {
      "text/plain": [
       "24995"
      ]
     },
     "execution_count": 15,
     "metadata": {},
     "output_type": "execute_result"
    }
   ],
   "source": [
    "4999*5"
   ]
  },
  {
   "cell_type": "code",
   "execution_count": null,
   "metadata": {},
   "outputs": [],
   "source": [
    "Question: Create a class Employee and Print details of employee."
   ]
  },
  {
   "cell_type": "code",
   "execution_count": null,
   "metadata": {},
   "outputs": [],
   "source": [
    "explicit => doing it separately.\n",
    "implicit => automatically done with something"
   ]
  },
  {
   "cell_type": "code",
   "execution_count": 40,
   "metadata": {},
   "outputs": [],
   "source": [
    "class car:\n",
    "    def __init__(self,name):\n",
    "        self.name = name\n",
    "    \n",
    "    def printDetails(self):\n",
    "        print(self.name)\n",
    "        \n",
    "    def printAllDetails(self):\n",
    "        print('It is a car')\n",
    "        print('It is blue in color')\n",
    "        self.printDetails()"
   ]
  },
  {
   "cell_type": "code",
   "execution_count": 41,
   "metadata": {},
   "outputs": [],
   "source": [
    "car1 = car('Mohini')"
   ]
  },
  {
   "cell_type": "code",
   "execution_count": 43,
   "metadata": {},
   "outputs": [
    {
     "name": "stdout",
     "output_type": "stream",
     "text": [
      "It is a car\n",
      "It is blue in color\n",
      "Mohini\n"
     ]
    }
   ],
   "source": [
    "car1.printAllDetails()"
   ]
  },
  {
   "cell_type": "markdown",
   "metadata": {},
   "source": [
    "# Class Methods\n",
    "\n",
    "* Class methods are defined with a decorator @classmethod on top of them. They are used by Class Reference to generally access\n",
    "the class Attribute and Change them.\n",
    "* Also for doing something which is related to the whole class, rather than just any single object."
   ]
  },
  {
   "cell_type": "code",
   "execution_count": 76,
   "metadata": {},
   "outputs": [],
   "source": [
    "class person:\n",
    "    SPECIES = 'HOMOSAPIEN'\n",
    "    def __init__(self,gender):\n",
    "        print('Family is blessed with baby',gender)\n",
    "        self.gender = gender\n",
    "        self.friends = []\n",
    "        self.nameofperson = None\n",
    "        \n",
    "    def setName(self,name):\n",
    "        self.nameofperson = name\n",
    "        \n",
    "    def makefriends(self,friend):\n",
    "        self.friends.append(friend)\n",
    "        print('You have created a new friend with name as ',friend.nameofperson)\n",
    "        \n",
    "    def getName(self):\n",
    "        if self.nameofperson!=None:\n",
    "            return self.nameofperson\n",
    "    \n",
    "    @classmethod\n",
    "    def changeSpecies(cls,newspecies):\n",
    "        cls.SPECIES = newspecies\n",
    "        \n",
    "    @classmethod\n",
    "    def getSpecies(cls):\n",
    "        return cls.SPECIES"
   ]
  },
  {
   "cell_type": "code",
   "execution_count": 77,
   "metadata": {},
   "outputs": [
    {
     "name": "stdout",
     "output_type": "stream",
     "text": [
      "Family is blessed with baby  girl\n"
     ]
    }
   ],
   "source": [
    "aparna = person(' girl')"
   ]
  },
  {
   "cell_type": "code",
   "execution_count": 78,
   "metadata": {},
   "outputs": [],
   "source": [
    "aparna.setName('Aparnaa')"
   ]
  },
  {
   "cell_type": "code",
   "execution_count": 79,
   "metadata": {},
   "outputs": [
    {
     "data": {
      "text/plain": [
       "'Aparnaa'"
      ]
     },
     "execution_count": 79,
     "metadata": {},
     "output_type": "execute_result"
    }
   ],
   "source": [
    "aparna.getName()"
   ]
  },
  {
   "cell_type": "code",
   "execution_count": 80,
   "metadata": {},
   "outputs": [
    {
     "data": {
      "text/plain": [
       "'HOMOSAPIEN'"
      ]
     },
     "execution_count": 80,
     "metadata": {},
     "output_type": "execute_result"
    }
   ],
   "source": [
    "aparna.SPECIES"
   ]
  },
  {
   "cell_type": "code",
   "execution_count": 81,
   "metadata": {},
   "outputs": [],
   "source": [
    "person.changeSpecies('Homo Sapien ++')"
   ]
  },
  {
   "cell_type": "code",
   "execution_count": 82,
   "metadata": {},
   "outputs": [
    {
     "data": {
      "text/plain": [
       "'Homo Sapien ++'"
      ]
     },
     "execution_count": 82,
     "metadata": {},
     "output_type": "execute_result"
    }
   ],
   "source": [
    "aparna.SPECIES"
   ]
  },
  {
   "cell_type": "code",
   "execution_count": 83,
   "metadata": {},
   "outputs": [
    {
     "name": "stdout",
     "output_type": "stream",
     "text": [
      "Family is blessed with baby Boy\n"
     ]
    }
   ],
   "source": [
    "R = person('Boy')"
   ]
  },
  {
   "cell_type": "code",
   "execution_count": 84,
   "metadata": {},
   "outputs": [],
   "source": [
    "R.setName('The one and only R')"
   ]
  },
  {
   "cell_type": "code",
   "execution_count": 70,
   "metadata": {},
   "outputs": [
    {
     "data": {
      "text/plain": [
       "'The one and only R'"
      ]
     },
     "execution_count": 70,
     "metadata": {},
     "output_type": "execute_result"
    }
   ],
   "source": [
    "R.getName()"
   ]
  },
  {
   "cell_type": "code",
   "execution_count": 71,
   "metadata": {},
   "outputs": [
    {
     "data": {
      "text/plain": [
       "'Homo Sapien ++'"
      ]
     },
     "execution_count": 71,
     "metadata": {},
     "output_type": "execute_result"
    }
   ],
   "source": [
    "R.SPECIES"
   ]
  },
  {
   "cell_type": "code",
   "execution_count": 72,
   "metadata": {},
   "outputs": [],
   "source": [
    "person.changeSpecies('Homo Sap Whatsup')"
   ]
  },
  {
   "cell_type": "code",
   "execution_count": 85,
   "metadata": {},
   "outputs": [
    {
     "data": {
      "text/plain": [
       "'Homo Sapien ++'"
      ]
     },
     "execution_count": 85,
     "metadata": {},
     "output_type": "execute_result"
    }
   ],
   "source": [
    "R.getSpecies()"
   ]
  },
  {
   "cell_type": "code",
   "execution_count": 86,
   "metadata": {},
   "outputs": [
    {
     "data": {
      "text/plain": [
       "'Homo Sapien ++'"
      ]
     },
     "execution_count": 86,
     "metadata": {},
     "output_type": "execute_result"
    }
   ],
   "source": [
    "aparna.SPECIES"
   ]
  },
  {
   "cell_type": "code",
   "execution_count": 87,
   "metadata": {},
   "outputs": [
    {
     "data": {
      "text/plain": [
       "'Aparnaa'"
      ]
     },
     "execution_count": 87,
     "metadata": {},
     "output_type": "execute_result"
    }
   ],
   "source": [
    "aparna.getName()"
   ]
  },
  {
   "cell_type": "code",
   "execution_count": null,
   "metadata": {},
   "outputs": [],
   "source": [
    "Create a Class Student:\n",
    "    name\n",
    "    roll_no\n",
    "    marks = {'history':0,'mechanics':0,'chemistry':0}\n",
    "    \n",
    "    student_obj.add_marks(marks)\n",
    "    \n",
    "    find_topper()\n",
    "    \n",
    "    find_failed()\n",
    "    \n",
    "    percentage()"
   ]
  },
  {
   "cell_type": "code",
   "execution_count": 96,
   "metadata": {},
   "outputs": [],
   "source": [
    "class Student:\n",
    "    student_list = []\n",
    "    total_marks = 300\n",
    "    failure_percentage = 33\n",
    "    def __init__(self,name,roll_no):\n",
    "        self.Name = name\n",
    "        self.Roll_No = roll_no\n",
    "        self.marks = {'history':0,'mechanics':0,'chemistry':0}\n",
    "        self.percentage = 0\n",
    "        self.fail = False\n",
    "        Student.student_list.append(self)"
   ]
  },
  {
   "cell_type": "code",
   "execution_count": 97,
   "metadata": {},
   "outputs": [],
   "source": [
    "ishtiyak = Student('Ishtiyak Hashmi',7)\n",
    "tej = Student('Tej Shrivastav',8)\n",
    "chanda = Student('Chanda Yadav',2)\n",
    "aparna = Student('Aparna',1)"
   ]
  },
  {
   "cell_type": "code",
   "execution_count": 100,
   "metadata": {},
   "outputs": [],
   "source": [
    "# Student.student_list"
   ]
  },
  {
   "cell_type": "code",
   "execution_count": 103,
   "metadata": {},
   "outputs": [
    {
     "name": "stdout",
     "output_type": "stream",
     "text": [
      "Ishtiyak Hashmi 7\n",
      "Tej Shrivastav 8\n",
      "Chanda Yadav 2\n",
      "Aparna 1\n"
     ]
    }
   ],
   "source": [
    "for st in Student.student_list:\n",
    "    print(st.Name,st.Roll_No,sep=' ')"
   ]
  },
  {
   "cell_type": "code",
   "execution_count": 105,
   "metadata": {},
   "outputs": [],
   "source": [
    "class Student:\n",
    "    student_list = []\n",
    "    total_marks = 300\n",
    "    failure_percentage = 33\n",
    "    def __init__(self,name,roll_no):\n",
    "        self.Name = name\n",
    "        self.Roll_No = roll_no\n",
    "        self.marks = {'history':0,'mechanics':0,'chemistry':0}\n",
    "        self.percentage = 0\n",
    "        self.fail = False\n",
    "        Student.student_list.append(self)\n",
    "        \n",
    "    def add_marks(self,marks):\n",
    "        self.marks = marks\n",
    "        self.percentage = (sum(marks.values())/Student.total_marks)*100\n",
    "        if self.percentage < Student.failure_percentage:\n",
    "            self.fail = True"
   ]
  },
  {
   "cell_type": "code",
   "execution_count": 106,
   "metadata": {},
   "outputs": [],
   "source": [
    "ishtiyak = Student('Ishtiyak Hashmi',7)\n",
    "tej = Student('Tej Shrivastav',8)\n",
    "chanda = Student('Chanda Yadav',2)\n",
    "aparna = Student('Aparna',1)\n",
    "\n",
    "ishtiyak.add_marks({'history':10,'mechanics':20,'chemistry':99})\n",
    "tej.add_marks({'history':20,'mechanics':10,'chemistry':9})\n",
    "chanda.add_marks({'history':5,'mechanics':90,'chemistry':100})\n",
    "aparna.add_marks({'history':80,'mechanics':80,'chemistry':99})"
   ]
  },
  {
   "cell_type": "code",
   "execution_count": 107,
   "metadata": {},
   "outputs": [
    {
     "name": "stdout",
     "output_type": "stream",
     "text": [
      "Ishtiyak Hashmi 7 43.0\n",
      "Tej Shrivastav 8 13.0\n",
      "Chanda Yadav 2 65.0\n",
      "Aparna 1 86.33333333333333\n"
     ]
    }
   ],
   "source": [
    "for st in Student.student_list:\n",
    "    print(st.Name,st.Roll_No,st.percentage)"
   ]
  },
  {
   "cell_type": "code",
   "execution_count": 127,
   "metadata": {},
   "outputs": [],
   "source": [
    "class Student:\n",
    "    student_list = []\n",
    "    total_marks = 300\n",
    "    failure_percentage = 33\n",
    "    def __init__(self,name,roll_no):\n",
    "        self.Name = name\n",
    "        self.Roll_No = roll_no\n",
    "        self.marks = {'history':0,'mechanics':0,'chemistry':0}\n",
    "        self.percentage = 0\n",
    "        self.fail = False\n",
    "        Student.student_list.append(self)\n",
    "        \n",
    "    def add_marks(self,marks):\n",
    "        self.marks = marks\n",
    "        self.percentage = (sum(marks.values())/Student.total_marks)*100\n",
    "        if self.percentage < Student.failure_percentage:\n",
    "            self.fail = True\n",
    "            \n",
    "    @classmethod\n",
    "    def find_topper(cls):\n",
    "        highest_percent = 0\n",
    "        current_topper = cls.student_list[0]\n",
    "        for st in cls.student_list:\n",
    "            if st.percentage > highest_percent:\n",
    "                highest_percent = st.percentage\n",
    "                current_topper = st\n",
    "        return current_topper\n",
    "    \n",
    "    @classmethod\n",
    "    def find_failures(cls):\n",
    "        fail_list = []\n",
    "        for st in cls.student_list:\n",
    "            if st.fail == True:\n",
    "                fail_list.append(st)\n",
    "        return fail_list"
   ]
  },
  {
   "cell_type": "code",
   "execution_count": 128,
   "metadata": {},
   "outputs": [],
   "source": [
    "ishtiyak = Student('Ishtiyak Hashmi',7)\n",
    "tej = Student('Tej Shrivastav',8)\n",
    "chanda = Student('Chanda Yadav',2)\n",
    "aparna = Student('Aparna',1)\n",
    "meghna = Student('Meghna Yadav',5)\n",
    "\n",
    "ishtiyak.add_marks({'history':10,'mechanics':20,'chemistry':99})\n",
    "tej.add_marks({'history':20,'mechanics':10,'chemistry':9})\n",
    "chanda.add_marks({'history':5,'mechanics':90,'chemistry':100})\n",
    "aparna.add_marks({'history':80,'mechanics':80,'chemistry':99})\n",
    "meghna.add_marks({'history':0,'mechanics':0,'chemistry':19})"
   ]
  },
  {
   "cell_type": "code",
   "execution_count": 129,
   "metadata": {},
   "outputs": [
    {
     "data": {
      "text/plain": [
       "'Aparna'"
      ]
     },
     "execution_count": 129,
     "metadata": {},
     "output_type": "execute_result"
    }
   ],
   "source": [
    "Student.find_topper().Name"
   ]
  },
  {
   "cell_type": "code",
   "execution_count": 130,
   "metadata": {},
   "outputs": [
    {
     "name": "stdout",
     "output_type": "stream",
     "text": [
      "Tej Shrivastav\n",
      "Meghna Yadav\n"
     ]
    }
   ],
   "source": [
    "for fl in Student.find_failures():\n",
    "    print(fl.Name)"
   ]
  },
  {
   "cell_type": "code",
   "execution_count": null,
   "metadata": {},
   "outputs": [],
   "source": [
    "HOmeworK : Create 2 classes around you.\n",
    "           Play around with this code."
   ]
  }
 ],
 "metadata": {
  "kernelspec": {
   "display_name": "Python 3",
   "language": "python",
   "name": "python3"
  },
  "language_info": {
   "codemirror_mode": {
    "name": "ipython",
    "version": 3
   },
   "file_extension": ".py",
   "mimetype": "text/x-python",
   "name": "python",
   "nbconvert_exporter": "python",
   "pygments_lexer": "ipython3",
   "version": "3.8.3"
  }
 },
 "nbformat": 4,
 "nbformat_minor": 4
}
